{
 "cells": [
  {
   "cell_type": "code",
   "execution_count": 4,
   "metadata": {},
   "outputs": [],
   "source": [
    "import pandas as pd\n",
    "import numpy as np\n",
    "import matplotlib.pyplot as plt\n",
    "import seaborn as sns\n",
    "import datetime\n",
    "import yfinance as yf\n",
    "import mplfinance as mpf\n",
    "\n",
    "import talib as ta"
   ]
  },
  {
   "cell_type": "code",
   "execution_count": 5,
   "metadata": {},
   "outputs": [],
   "source": [
    "def get_stock_data_yf(symbol, type=None):\n",
    "    stock_data = yf.Ticker(symbol)\n",
    "    history = stock_data.history(period=\"max\").sort_index()\n",
    "    if type is not None:\n",
    "        history = history.resample(type).agg({\"Open\": \"first\", \"High\": \"max\", \"Low\": \"min\", \"Close\": \"last\", \"Volume\": \"sum\"})\n",
    "    company_name = stock_data.info[\"longName\"]\n",
    "    return history, company_name\n",
    "\n",
    "\n",
    "def golden_and_dead_cross(df):\n",
    "    df[\"ma05>ma25\"] = df[\"ma05\"] > df[\"ma25\"]\n",
    "    temp_gc = (df[\"ma05>ma25\"] != df[\"ma05>ma25\"].shift(1)) & (df[\"ma05>ma25\"] == True)\n",
    "    temp_dc = (df[\"ma05>ma25\"] != df[\"ma05>ma25\"].shift(1)) & (df[\"ma05>ma25\"] == False)\n",
    "    df[\"gc\"] = [m if g == True else None for m, g in zip(df[\"ma05\"], temp_gc)]\n",
    "    df[\"dc\"] = [m if d == True else None for m, d in zip(df[\"ma25\"], temp_dc)]\n",
    "    return df.drop(columns=[\"ma05>ma25\"])"
   ]
  },
  {
   "cell_type": "markdown",
   "metadata": {},
   "source": [
    "## Get stock data\n"
   ]
  },
  {
   "cell_type": "code",
   "execution_count": 6,
   "metadata": {},
   "outputs": [
    {
     "name": "stdout",
     "output_type": "stream",
     "text": [
      "\n",
      "  >   S&P 500 \n"
     ]
    },
    {
     "data": {
      "text/html": [
       "<div>\n",
       "<style scoped>\n",
       "    .dataframe tbody tr th:only-of-type {\n",
       "        vertical-align: middle;\n",
       "    }\n",
       "\n",
       "    .dataframe tbody tr th {\n",
       "        vertical-align: top;\n",
       "    }\n",
       "\n",
       "    .dataframe thead th {\n",
       "        text-align: right;\n",
       "    }\n",
       "</style>\n",
       "<table border=\"1\" class=\"dataframe\">\n",
       "  <thead>\n",
       "    <tr style=\"text-align: right;\">\n",
       "      <th></th>\n",
       "      <th>Open</th>\n",
       "      <th>High</th>\n",
       "      <th>Low</th>\n",
       "      <th>Close</th>\n",
       "      <th>Volume</th>\n",
       "      <th>Dividends</th>\n",
       "      <th>Stock Splits</th>\n",
       "      <th>ma05</th>\n",
       "      <th>ma25</th>\n",
       "      <th>gc</th>\n",
       "      <th>dc</th>\n",
       "      <th>macd</th>\n",
       "      <th>macd_signal</th>\n",
       "      <th>hist</th>\n",
       "    </tr>\n",
       "    <tr>\n",
       "      <th>Date</th>\n",
       "      <th></th>\n",
       "      <th></th>\n",
       "      <th></th>\n",
       "      <th></th>\n",
       "      <th></th>\n",
       "      <th></th>\n",
       "      <th></th>\n",
       "      <th></th>\n",
       "      <th></th>\n",
       "      <th></th>\n",
       "      <th></th>\n",
       "      <th></th>\n",
       "      <th></th>\n",
       "      <th></th>\n",
       "    </tr>\n",
       "  </thead>\n",
       "  <tbody>\n",
       "    <tr>\n",
       "      <th>2023-09-25 00:00:00-04:00</th>\n",
       "      <td>4310.620117</td>\n",
       "      <td>4338.509766</td>\n",
       "      <td>4302.700195</td>\n",
       "      <td>4337.439941</td>\n",
       "      <td>3195650000</td>\n",
       "      <td>0.0</td>\n",
       "      <td>0.0</td>\n",
       "      <td>4366.730078</td>\n",
       "      <td>4440.197207</td>\n",
       "      <td>NaN</td>\n",
       "      <td>NaN</td>\n",
       "      <td>-27.131329</td>\n",
       "      <td>-10.447282</td>\n",
       "      <td>-16.684047</td>\n",
       "    </tr>\n",
       "    <tr>\n",
       "      <th>2023-09-26 00:00:00-04:00</th>\n",
       "      <td>4312.879883</td>\n",
       "      <td>4313.009766</td>\n",
       "      <td>4265.979980</td>\n",
       "      <td>4273.529785</td>\n",
       "      <td>3472340000</td>\n",
       "      <td>0.0</td>\n",
       "      <td>0.0</td>\n",
       "      <td>4332.645996</td>\n",
       "      <td>4435.147598</td>\n",
       "      <td>NaN</td>\n",
       "      <td>NaN</td>\n",
       "      <td>-35.617858</td>\n",
       "      <td>-15.481397</td>\n",
       "      <td>-20.136461</td>\n",
       "    </tr>\n",
       "    <tr>\n",
       "      <th>2023-09-27 00:00:00-04:00</th>\n",
       "      <td>4282.629883</td>\n",
       "      <td>4292.069824</td>\n",
       "      <td>4238.629883</td>\n",
       "      <td>4274.509766</td>\n",
       "      <td>3875880000</td>\n",
       "      <td>0.0</td>\n",
       "      <td>0.0</td>\n",
       "      <td>4307.107910</td>\n",
       "      <td>4430.625996</td>\n",
       "      <td>NaN</td>\n",
       "      <td>NaN</td>\n",
       "      <td>-41.782772</td>\n",
       "      <td>-20.741672</td>\n",
       "      <td>-21.041100</td>\n",
       "    </tr>\n",
       "  </tbody>\n",
       "</table>\n",
       "</div>"
      ],
      "text/plain": [
       "                                  Open         High          Low        Close  \\\n",
       "Date                                                                            \n",
       "2023-09-25 00:00:00-04:00  4310.620117  4338.509766  4302.700195  4337.439941   \n",
       "2023-09-26 00:00:00-04:00  4312.879883  4313.009766  4265.979980  4273.529785   \n",
       "2023-09-27 00:00:00-04:00  4282.629883  4292.069824  4238.629883  4274.509766   \n",
       "\n",
       "                               Volume  Dividends  Stock Splits         ma05  \\\n",
       "Date                                                                          \n",
       "2023-09-25 00:00:00-04:00  3195650000        0.0           0.0  4366.730078   \n",
       "2023-09-26 00:00:00-04:00  3472340000        0.0           0.0  4332.645996   \n",
       "2023-09-27 00:00:00-04:00  3875880000        0.0           0.0  4307.107910   \n",
       "\n",
       "                                  ma25  gc  dc       macd  macd_signal  \\\n",
       "Date                                                                     \n",
       "2023-09-25 00:00:00-04:00  4440.197207 NaN NaN -27.131329   -10.447282   \n",
       "2023-09-26 00:00:00-04:00  4435.147598 NaN NaN -35.617858   -15.481397   \n",
       "2023-09-27 00:00:00-04:00  4430.625996 NaN NaN -41.782772   -20.741672   \n",
       "\n",
       "                                hist  \n",
       "Date                                  \n",
       "2023-09-25 00:00:00-04:00 -16.684047  \n",
       "2023-09-26 00:00:00-04:00 -20.136461  \n",
       "2023-09-27 00:00:00-04:00 -21.041100  "
      ]
     },
     "metadata": {},
     "output_type": "display_data"
    },
    {
     "data": {
      "text/html": [
       "<div>\n",
       "<style scoped>\n",
       "    .dataframe tbody tr th:only-of-type {\n",
       "        vertical-align: middle;\n",
       "    }\n",
       "\n",
       "    .dataframe tbody tr th {\n",
       "        vertical-align: top;\n",
       "    }\n",
       "\n",
       "    .dataframe thead th {\n",
       "        text-align: right;\n",
       "    }\n",
       "</style>\n",
       "<table border=\"1\" class=\"dataframe\">\n",
       "  <thead>\n",
       "    <tr style=\"text-align: right;\">\n",
       "      <th></th>\n",
       "      <th>Open</th>\n",
       "      <th>High</th>\n",
       "      <th>Low</th>\n",
       "      <th>Close</th>\n",
       "      <th>Volume</th>\n",
       "      <th>Dividends</th>\n",
       "      <th>Stock Splits</th>\n",
       "      <th>ma05</th>\n",
       "      <th>ma25</th>\n",
       "      <th>gc</th>\n",
       "      <th>dc</th>\n",
       "      <th>macd</th>\n",
       "      <th>macd_signal</th>\n",
       "      <th>hist</th>\n",
       "    </tr>\n",
       "    <tr>\n",
       "      <th>Date</th>\n",
       "      <th></th>\n",
       "      <th></th>\n",
       "      <th></th>\n",
       "      <th></th>\n",
       "      <th></th>\n",
       "      <th></th>\n",
       "      <th></th>\n",
       "      <th></th>\n",
       "      <th></th>\n",
       "      <th></th>\n",
       "      <th></th>\n",
       "      <th></th>\n",
       "      <th></th>\n",
       "      <th></th>\n",
       "    </tr>\n",
       "  </thead>\n",
       "  <tbody>\n",
       "    <tr>\n",
       "      <th>2024-09-19 00:00:00-04:00</th>\n",
       "      <td>5702.629883</td>\n",
       "      <td>5733.569824</td>\n",
       "      <td>5686.419922</td>\n",
       "      <td>5713.640137</td>\n",
       "      <td>4024530000</td>\n",
       "      <td>0.0</td>\n",
       "      <td>0.0</td>\n",
       "      <td>5645.117969</td>\n",
       "      <td>5580.279980</td>\n",
       "      <td>NaN</td>\n",
       "      <td>NaN</td>\n",
       "      <td>38.652743</td>\n",
       "      <td>26.373319</td>\n",
       "      <td>12.279424</td>\n",
       "    </tr>\n",
       "    <tr>\n",
       "      <th>2024-09-20 00:00:00-04:00</th>\n",
       "      <td>5709.640137</td>\n",
       "      <td>5715.140137</td>\n",
       "      <td>5674.490234</td>\n",
       "      <td>5702.549805</td>\n",
       "      <td>7867260000</td>\n",
       "      <td>0.0</td>\n",
       "      <td>0.0</td>\n",
       "      <td>5660.423926</td>\n",
       "      <td>5586.653164</td>\n",
       "      <td>NaN</td>\n",
       "      <td>NaN</td>\n",
       "      <td>43.927886</td>\n",
       "      <td>29.884232</td>\n",
       "      <td>14.043654</td>\n",
       "    </tr>\n",
       "    <tr>\n",
       "      <th>2024-09-23 00:00:00-04:00</th>\n",
       "      <td>5711.899902</td>\n",
       "      <td>5716.359863</td>\n",
       "      <td>5707.850098</td>\n",
       "      <td>5711.589844</td>\n",
       "      <td>149397051</td>\n",
       "      <td>0.0</td>\n",
       "      <td>0.0</td>\n",
       "      <td>5676.123926</td>\n",
       "      <td>5592.946758</td>\n",
       "      <td>NaN</td>\n",
       "      <td>NaN</td>\n",
       "      <td>48.281373</td>\n",
       "      <td>33.563660</td>\n",
       "      <td>14.717713</td>\n",
       "    </tr>\n",
       "  </tbody>\n",
       "</table>\n",
       "</div>"
      ],
      "text/plain": [
       "                                  Open         High          Low        Close  \\\n",
       "Date                                                                            \n",
       "2024-09-19 00:00:00-04:00  5702.629883  5733.569824  5686.419922  5713.640137   \n",
       "2024-09-20 00:00:00-04:00  5709.640137  5715.140137  5674.490234  5702.549805   \n",
       "2024-09-23 00:00:00-04:00  5711.899902  5716.359863  5707.850098  5711.589844   \n",
       "\n",
       "                               Volume  Dividends  Stock Splits         ma05  \\\n",
       "Date                                                                          \n",
       "2024-09-19 00:00:00-04:00  4024530000        0.0           0.0  5645.117969   \n",
       "2024-09-20 00:00:00-04:00  7867260000        0.0           0.0  5660.423926   \n",
       "2024-09-23 00:00:00-04:00   149397051        0.0           0.0  5676.123926   \n",
       "\n",
       "                                  ma25  gc  dc       macd  macd_signal  \\\n",
       "Date                                                                     \n",
       "2024-09-19 00:00:00-04:00  5580.279980 NaN NaN  38.652743    26.373319   \n",
       "2024-09-20 00:00:00-04:00  5586.653164 NaN NaN  43.927886    29.884232   \n",
       "2024-09-23 00:00:00-04:00  5592.946758 NaN NaN  48.281373    33.563660   \n",
       "\n",
       "                                hist  \n",
       "Date                                  \n",
       "2024-09-19 00:00:00-04:00  12.279424  \n",
       "2024-09-20 00:00:00-04:00  14.043654  \n",
       "2024-09-23 00:00:00-04:00  14.717713  "
      ]
     },
     "metadata": {},
     "output_type": "display_data"
    }
   ],
   "source": [
    "data, company_name = get_stock_data_yf(\"^GSPC\")  # ^GSPC\n",
    "df = data.copy()\n",
    "df[\"ma05\"] = df[\"Close\"].rolling(window=5).mean()\n",
    "df[\"ma25\"] = df[\"Close\"].rolling(window=25).mean()\n",
    "df = golden_and_dead_cross(df)\n",
    "df[\"macd\"], df[\"macd_signal\"], df[\"hist\"] = ta.MACD(df[\"Close\"], fastperiod=12, slowperiod=26, signalperiod=9)\n",
    "\n",
    "print(f\"\\n  >   {company_name} \")\n",
    "\n",
    "# -----------------------\n",
    "# set start and end date\n",
    "# -----------------------\n",
    "start = (datetime.datetime.today() - pd.DateOffset(years=1)).strftime(\"%Y-%m-%d\")\n",
    "df = df[start:]\n",
    "\n",
    "display(df.head(3), df.tail(3))"
   ]
  },
  {
   "cell_type": "markdown",
   "metadata": {},
   "source": [
    "## Use Mplfinance\n",
    "\n",
    "ref: [mplfinance](https://github.com/matplotlib/mplfinance)\n"
   ]
  },
  {
   "cell_type": "code",
   "execution_count": 7,
   "metadata": {},
   "outputs": [
    {
     "data": {
      "text/plain": [
       "Text(0.5, 1.0, 'S&P 500 (2023-09-23 ~ )')"
      ]
     },
     "execution_count": 7,
     "metadata": {},
     "output_type": "execute_result"
    },
    {
     "data": {
      "image/png": "[encoded data removed]",
      "text/plain": [
       "<Figure size 1725x575 with 4 Axes>"
      ]
     },
     "metadata": {},
     "output_type": "display_data"
    }
   ],
   "source": [
    "lines = [\n",
    "    mpf.make_addplot(df[\"ma05\"], panel=0, width=1),\n",
    "    mpf.make_addplot(df[\"ma25\"], panel=0, width=1),\n",
    "    mpf.make_addplot(df[\"gc\"], type=\"scatter\", markersize=100, marker=\"^\", color=\"g\", panel=0, alpha=0.75),\n",
    "    mpf.make_addplot(df[\"dc\"], type=\"scatter\", markersize=100, marker=\"v\", color=\"r\", panel=0, alpha=0.75),\n",
    "    mpf.make_addplot(df[\"macd\"], panel=1, width=1, color=\"red\", label=\"MACD\"),\n",
    "    mpf.make_addplot(df[\"macd_signal\"], panel=1, width=1, color=\"skyblue\", label=\"Signal\"),\n",
    "    mpf.make_addplot(df[\"hist\"], panel=1, type=\"bar\", color=\"g\", alpha=0.75),\n",
    "]\n",
    "\n",
    "\n",
    "fig, axes = mpf.plot(df, type=\"candle\", figratio=(3, 1), addplot=lines, style=\"sas\", returnfig=True)\n",
    "\n",
    "axes[0].legend(axes[0].get_lines()[-2:], [\"ma05\", \"ma25\"], loc=\"best\")\n",
    "axes[2].legend(axes[2].get_lines()[-2:], [\"MACD\", \"Signal\"], loc=\"best\")\n",
    "axes[0].set_title(f\"{company_name} ({start} ~ )\")"
   ]
  },
  {
   "cell_type": "markdown",
   "metadata": {},
   "source": [
    "## Use Plotly\n",
    "\n",
    "ref: [plotly](https://plotly.com/python/time-series/)\n"
   ]
  },
  {
   "cell_type": "code",
   "execution_count": 8,
   "metadata": {},
   "outputs": [
    {
     "data": {
      "application/vnd.plotly.v1+json": {
       "config": {
        "plotlyServerURL": "https://plot.ly"
       },
       "data": [
        {
         "hovertemplate": "variable=Close<br>Date=%{x}<br>value=%{y}<extra></extra>",
         "legendgroup": "Close",
         "line": {
          "color": "#636efa",
          "dash": "solid"
         },
         "marker": {
          "symbol": "circle"
         },
         "mode": "lines",
         "name": "Close",
         "orientation": "v",
         "showlegend": true,
         "type": "scatter",
         "x": [
          "2023-09-25T00:00:00-04:00",
          "2023-09-26T00:00:00-04:00",
          "2023-09-27T00:00:00-04:00",
          "2023-09-28T00:00:00-04:00",
          "2023-09-29T00:00:00-04:00",
          "2023-10-02T00:00:00-04:00",
          "2023-10-03T00:00:00-04:00",
          "2023-10-04T00:00:00-04:00",
          "2023-10-05T00:00:00-04:00",
          "2023-10-06T00:00:00-04:00",
          "2023-10-09T00:00:00-04:00",
          "2023-10-10T00:00:00-04:00",
          "2023-10-11T00:00:00-04:00",
          "2023-10-12T00:00:00-04:00",
          "2023-10-13T00:00:00-04:00",
          "2023-10-16T00:00:00-04:00",
          "2023-10-17T00:00:00-04:00",
          "2023-10-18T00:00:00-04:00",
          "2023-10-19T00:00:00-04:00",
          "2023-10-20T00:00:00-04:00",
          "2023-10-23T00:00:00-04:00",
          "2023-10-24T00:00:00-04:00",
          "2023-10-25T00:00:00-04:00",
          "2023-10-26T00:00:00-04:00",
          "2023-10-27T00:00:00-04:00",
          "2023-10-30T00:00:00-04:00",
          "2023-10-31T00:00:00-04:00",
          "2023-11-01T00:00:00-04:00",
          "2023-11-02T00:00:00-04:00",
          "2023-11-03T00:00:00-04:00",
          "2023-11-06T00:00:00-05:00",
          "2023-11-07T00:00:00-05:00",
          "2023-11-08T00:00:00-05:00",
          "2023-11-09T00:00:00-05:00",
          "2023-11-10T00:00:00-05:00",
          "2023-11-13T00:00:00-05:00",
          "2023-11-14T00:00:00-05:00",
          "2023-11-15T00:00:00-05:00",
          "2023-11-16T00:00:00-05:00",
          "2023-11-17T00:00:00-05:00",
          "2023-11-20T00:00:00-05:00",
          "2023-11-21T00:00:00-05:00",
          "2023-11-22T00:00:00-05:00",
          "2023-11-24T00:00:00-05:00",
          "2023-11-27T00:00:00-05:00",
          "2023-11-28T00:00:00-05:00",
          "2023-11-29T00:00:00-05:00",
          "2023-11-30T00:00:00-05:00",
          "2023-12-01T00:00:00-05:00",
          "2023-12-04T00:00:00-05:00",
          "2023-12-05T00:00:00-05:00",
          "2023-12-06T00:00:00-05:00",
          "2023-12-07T00:00:00-05:00",
          "2023-12-08T00:00:00-05:00",
          "2023-12-11T00:00:00-05:00",
          "2023-12-12T00:00:00-05:00",
          "2023-12-13T00:00:00-05:00",
          "2023-12-14T00:00:00-05:00",
          "2023-12-15T00:00:00-05:00",
          "2023-12-18T00:00:00-05:00",
          "2023-12-19T00:00:00-05:00",
          "2023-12-20T00:00:00-05:00",
          "2023-12-21T00:00:00-05:00",
          "2023-12-22T00:00:00-05:00",
          "2023-12-26T00:00:00-05:00",
          "2023-12-27T00:00:00-05:00",
          "2023-12-28T00:00:00-05:00",
          "2023-12-29T00:00:00-05:00",
          "2024-01-02T00:00:00-05:00",
          "2024-01-03T00:00:00-05:00",
          "2024-01-04T00:00:00-05:00",
          "2024-01-05T00:00:00-05:00",
          "2024-01-08T00:00:00-05:00",
          "2024-01-09T00:00:00-05:00",
          "2024-01-10T00:00:00-05:00",
          "2024-01-11T00:00:00-05:00",
          "2024-01-12T00:00:00-05:00",
          "2024-01-16T00:00:00-05:00",
          "2024-01-17T00:00:00-05:00",
          "2024-01-18T00:00:00-05:00",
          "2024-01-19T00:00:00-05:00",
          "2024-01-22T00:00:00-05:00",
          "2024-01-23T00:00:00-05:00",
          "2024-01-24T00:00:00-05:00",
          "2024-01-25T00:00:00-05:00",
          "2024-01-26T00:00:00-05:00",
          "2024-01-29T00:00:00-05:00",
          "2024-01-30T00:00:00-05:00",
          "2024-01-31T00:00:00-05:00",
          "2024-02-01T00:00:00-05:00",
          "2024-02-02T00:00:00-05:00",
          "2024-02-05T00:00:00-05:00",
          "2024-02-06T00:00:00-05:00",
          "2024-02-07T00:00:00-05:00",
          "2024-02-08T00:00:00-05:00",
          "2024-02-09T00:00:00-05:00",
          "2024-02-12T00:00:00-05:00",
          "2024-02-13T00:00:00-05:00",
          "2024-02-14T00:00:00-05:00",
          "2024-02-15T00:00:00-05:00",
          "2024-02-16T00:00:00-05:00",
          "2024-02-20T00:00:00-05:00",
          "2024-02-21T00:00:00-05:00",
          "2024-02-22T00:00:00-05:00",
          "2024-02-23T00:00:00-05:00",
          "2024-02-26T00:00:00-05:00",
          "2024-02-27T00:00:00-05:00",
          "2024-02-28T00:00:00-05:00",
          "2024-02-29T00:00:00-05:00",
          "2024-03-01T00:00:00-05:00",
          "2024-03-04T00:00:00-05:00",
          "2024-03-05T00:00:00-05:00",
          "2024-03-06T00:00:00-05:00",
          "2024-03-07T00:00:00-05:00",
          "2024-03-08T00:00:00-05:00",
          "2024-03-11T00:00:00-04:00",
          "2024-03-12T00:00:00-04:00",
          "2024-03-13T00:00:00-04:00",
          "2024-03-14T00:00:00-04:00",
          "2024-03-15T00:00:00-04:00",
          "2024-03-18T00:00:00-04:00",
          "2024-03-19T00:00:00-04:00",
          "2024-03-20T00:00:00-04:00",
          "2024-03-21T00:00:00-04:00",
          "2024-03-22T00:00:00-04:00",
          "2024-03-25T00:00:00-04:00",
          "2024-03-26T00:00:00-04:00",
          "2024-03-27T00:00:00-04:00",
          "2024-03-28T00:00:00-04:00",
          "2024-04-01T00:00:00-04:00",
          "2024-04-02T00:00:00-04:00",
          "2024-04-03T00:00:00-04:00",
          "2024-04-04T00:00:00-04:00",
          "2024-04-05T00:00:00-04:00",
          "2024-04-08T00:00:00-04:00",
          "2024-04-09T00:00:00-04:00",
          "2024-04-10T00:00:00-04:00",
          "2024-04-11T00:00:00-04:00",
          "2024-04-12T00:00:00-04:00",
          "2024-04-15T00:00:00-04:00",
          "2024-04-16T00:00:00-04:00",
          "2024-04-17T00:00:00-04:00",
          "2024-04-18T00:00:00-04:00",
          "2024-04-19T00:00:00-04:00",
          "2024-04-22T00:00:00-04:00",
          "2024-04-23T00:00:00-04:00",
          "2024-04-24T00:00:00-04:00",
          "2024-04-25T00:00:00-04:00",
          "2024-04-26T00:00:00-04:00",
          "2024-04-29T00:00:00-04:00",
          "2024-04-30T00:00:00-04:00",
          "2024-05-01T00:00:00-04:00",
          "2024-05-02T00:00:00-04:00",
          "2024-05-03T00:00:00-04:00",
          "2024-05-06T00:00:00-04:00",
          "2024-05-07T00:00:00-04:00",
          "2024-05-08T00:00:00-04:00",
          "2024-05-09T00:00:00-04:00",
          "2024-05-10T00:00:00-04:00",
          "2024-05-13T00:00:00-04:00",
          "2024-05-14T00:00:00-04:00",
          "2024-05-15T00:00:00-04:00",
          "2024-05-16T00:00:00-04:00",
          "2024-05-17T00:00:00-04:00",
          "2024-05-20T00:00:00-04:00",
          "2024-05-21T00:00:00-04:00",
          "2024-05-22T00:00:00-04:00",
          "2024-05-23T00:00:00-04:00",
          "2024-05-24T00:00:00-04:00",
          "2024-05-28T00:00:00-04:00",
          "2024-05-29T00:00:00-04:00",
          "2024-05-30T00:00:00-04:00",
          "2024-05-31T00:00:00-04:00",
          "2024-06-03T00:00:00-04:00",
          "2024-06-04T00:00:00-04:00",
          "2024-06-05T00:00:00-04:00",
          "2024-06-06T00:00:00-04:00",
          "2024-06-07T00:00:00-04:00",
          "2024-06-10T00:00:00-04:00",
          "2024-06-11T00:00:00-04:00",
          "2024-06-12T00:00:00-04:00",
          "2024-06-13T00:00:00-04:00",
          "2024-06-14T00:00:00-04:00",
          "2024-06-17T00:00:00-04:00",
          "2024-06-18T00:00:00-04:00",
          "2024-06-20T00:00:00-04:00",
          "2024-06-21T00:00:00-04:00",
          "2024-06-24T00:00:00-04:00",
          "2024-06-25T00:00:00-04:00",
          "2024-06-26T00:00:00-04:00",
          "2024-06-27T00:00:00-04:00",
          "2024-06-28T00:00:00-04:00",
          "2024-07-01T00:00:00-04:00",
          "2024-07-02T00:00:00-04:00",
          "2024-07-03T00:00:00-04:00",
          "2024-07-05T00:00:00-04:00",
          "2024-07-08T00:00:00-04:00",
          "2024-07-09T00:00:00-04:00",
          "2024-07-10T00:00:00-04:00",
          "2024-07-11T00:00:00-04:00",
          "2024-07-12T00:00:00-04:00",
          "2024-07-15T00:00:00-04:00",
          "2024-07-16T00:00:00-04:00",
          "2024-07-17T00:00:00-04:00",
          "2024-07-18T00:00:00-04:00",
          "2024-07-19T00:00:00-04:00",
          "2024-07-22T00:00:00-04:00",
          "2024-07-23T00:00:00-04:00",
          "2024-07-24T00:00:00-04:00",
          "2024-07-25T00:00:00-04:00",
          "2024-07-26T00:00:00-04:00",
          "2024-07-29T00:00:00-04:00",
          "2024-07-30T00:00:00-04:00",
          "2024-07-31T00:00:00-04:00",
          "2024-08-01T00:00:00-04:00",
          "2024-08-02T00:00:00-04:00",
          "2024-08-05T00:00:00-04:00",
          "2024-08-06T00:00:00-04:00",
          "2024-08-07T00:00:00-04:00",
          "2024-08-08T00:00:00-04:00",
          "2024-08-09T00:00:00-04:00",
          "2024-08-12T00:00:00-04:00",
          "2024-08-13T00:00:00-04:00",
          "2024-08-14T00:00:00-04:00",
          "2024-08-15T00:00:00-04:00",
          "2024-08-16T00:00:00-04:00",
          "2024-08-19T00:00:00-04:00",
          "2024-08-20T00:00:00-04:00",
          "2024-08-21T00:00:00-04:00",
          "2024-08-22T00:00:00-04:00",
          "2024-08-23T00:00:00-04:00",
          "2024-08-26T00:00:00-04:00",
          "2024-08-27T00:00:00-04:00",
          "2024-08-28T00:00:00-04:00",
          "2024-08-29T00:00:00-04:00",
          "2024-08-30T00:00:00-04:00",
          "2024-09-03T00:00:00-04:00",
          "2024-09-04T00:00:00-04:00",
          "2024-09-05T00:00:00-04:00",
          "2024-09-06T00:00:00-04:00",
          "2024-09-09T00:00:00-04:00",
          "2024-09-10T00:00:00-04:00",
          "2024-09-11T00:00:00-04:00",
          "2024-09-12T00:00:00-04:00",
          "2024-09-13T00:00:00-04:00",
          "2024-09-16T00:00:00-04:00",
          "2024-09-17T00:00:00-04:00",
          "2024-09-18T00:00:00-04:00",
          "2024-09-19T00:00:00-04:00",
          "2024-09-20T00:00:00-04:00",
          "2024-09-23T00:00:00-04:00"
         ],
         "xaxis": "x",
         "y": [
          4337.43994140625,
          4273.52978515625,
          4274.509765625,
          4299.7001953125,
          4288.0498046875,
          4288.39013671875,
          4229.4501953125,
          4263.75,
          4258.18994140625,
          4308.5,
          4335.66015625,
          4358.240234375,
          4376.9501953125,
          4349.60986328125,
          4327.77978515625,
          4373.6298828125,
          4373.2001953125,
          4314.60009765625,
          4278,
          4224.16015625,
          4217.0400390625,
          4247.68017578125,
          4186.77001953125,
          4137.22998046875,
          4117.3701171875,
          4166.81982421875,
          4193.7998046875,
          4237.85986328125,
          4317.77978515625,
          4358.33984375,
          4365.97998046875,
          4378.3798828125,
          4382.77978515625,
          4347.35009765625,
          4415.240234375,
          4411.5498046875,
          4495.7001953125,
          4502.8798828125,
          4508.240234375,
          4514.02001953125,
          4547.3798828125,
          4538.18994140625,
          4556.6201171875,
          4559.33984375,
          4550.43017578125,
          4554.89013671875,
          4550.580078125,
          4567.7998046875,
          4594.6298828125,
          4569.77978515625,
          4567.18017578125,
          4549.33984375,
          4585.58984375,
          4604.3701171875,
          4622.43994140625,
          4643.7001953125,
          4707.08984375,
          4719.5498046875,
          4719.18994140625,
          4740.56005859375,
          4768.3701171875,
          4698.35009765625,
          4746.75,
          4754.6298828125,
          4774.75,
          4781.580078125,
          4783.35009765625,
          4769.830078125,
          4742.830078125,
          4704.81005859375,
          4688.68017578125,
          4697.240234375,
          4763.5400390625,
          4756.5,
          4783.4501953125,
          4780.240234375,
          4783.830078125,
          4765.97998046875,
          4739.2099609375,
          4780.93994140625,
          4839.81005859375,
          4850.43017578125,
          4864.60009765625,
          4868.5498046875,
          4894.16015625,
          4890.97021484375,
          4927.93017578125,
          4924.97021484375,
          4845.64990234375,
          4906.18994140625,
          4958.60986328125,
          4942.81005859375,
          4954.22998046875,
          4995.06005859375,
          4997.91015625,
          5026.60986328125,
          5021.83984375,
          4953.169921875,
          5000.6201171875,
          5029.72998046875,
          5005.56982421875,
          4975.509765625,
          4981.7998046875,
          5087.02978515625,
          5088.7998046875,
          5069.52978515625,
          5078.18017578125,
          5069.759765625,
          5096.27001953125,
          5137.080078125,
          5130.9501953125,
          5078.64990234375,
          5104.759765625,
          5157.35986328125,
          5123.68994140625,
          5117.93994140625,
          5175.27001953125,
          5165.31005859375,
          5150.47998046875,
          5117.08984375,
          5149.419921875,
          5178.509765625,
          5224.6201171875,
          5241.52978515625,
          5234.18017578125,
          5218.18994140625,
          5203.580078125,
          5248.490234375,
          5254.35009765625,
          5243.77001953125,
          5205.81005859375,
          5211.490234375,
          5147.2099609375,
          5204.33984375,
          5202.39013671875,
          5209.91015625,
          5160.64013671875,
          5199.06005859375,
          5123.41015625,
          5061.81982421875,
          5051.41015625,
          5022.2099609375,
          5011.1201171875,
          4967.22998046875,
          5010.60009765625,
          5070.5498046875,
          5071.6298828125,
          5048.419921875,
          5099.9599609375,
          5116.169921875,
          5035.68994140625,
          5018.39013671875,
          5064.2001953125,
          5127.7900390625,
          5180.740234375,
          5187.7001953125,
          5187.669921875,
          5214.080078125,
          5222.68017578125,
          5221.419921875,
          5246.68017578125,
          5308.14990234375,
          5297.10009765625,
          5303.27001953125,
          5308.1298828125,
          5321.41015625,
          5307.009765625,
          5267.83984375,
          5304.72021484375,
          5306.0400390625,
          5266.9501953125,
          5235.47998046875,
          5277.509765625,
          5283.39990234375,
          5291.33984375,
          5354.02978515625,
          5352.9599609375,
          5346.990234375,
          5360.7900390625,
          5375.31982421875,
          5421.02978515625,
          5433.740234375,
          5431.60009765625,
          5473.22998046875,
          5487.02978515625,
          5473.169921875,
          5464.6201171875,
          5447.8701171875,
          5469.2998046875,
          5477.89990234375,
          5482.8701171875,
          5460.47998046875,
          5475.08984375,
          5509.009765625,
          5537.02001953125,
          5567.18994140625,
          5572.85009765625,
          5576.97998046875,
          5633.91015625,
          5584.5400390625,
          5615.35009765625,
          5631.22021484375,
          5667.2001953125,
          5588.27001953125,
          5544.58984375,
          5505,
          5564.41015625,
          5555.740234375,
          5427.1298828125,
          5399.22021484375,
          5459.10009765625,
          5463.5400390625,
          5436.43994140625,
          5522.2998046875,
          5446.68017578125,
          5346.56005859375,
          5186.330078125,
          5240.02978515625,
          5199.5,
          5319.31005859375,
          5344.16015625,
          5344.39013671875,
          5434.43017578125,
          5455.2099609375,
          5543.22021484375,
          5554.25,
          5608.25,
          5597.1201171875,
          5620.85009765625,
          5570.64013671875,
          5634.60986328125,
          5616.83984375,
          5625.7998046875,
          5592.18017578125,
          5591.9599609375,
          5648.39990234375,
          5528.93017578125,
          5520.06982421875,
          5503.41015625,
          5408.419921875,
          5471.0498046875,
          5495.52001953125,
          5554.1298828125,
          5595.759765625,
          5626.02001953125,
          5633.08984375,
          5634.580078125,
          5618.259765625,
          5713.64013671875,
          5702.5498046875,
          5711.58984375
         ],
         "yaxis": "y"
        }
       ],
       "layout": {
        "legend": {
         "title": {
          "text": "variable"
         },
         "tracegroupgap": 0
        },
        "template": {
         "data": {
          "bar": [
           {
            "error_x": {
             "color": "#2a3f5f"
            },
            "error_y": {
             "color": "#2a3f5f"
            },
            "marker": {
             "line": {
              "color": "#E5ECF6",
              "width": 0.5
             },
             "pattern": {
              "fillmode": "overlay",
              "size": 10,
              "solidity": 0.2
             }
            },
            "type": "bar"
           }
          ],
          "barpolar": [
           {
            "marker": {
             "line": {
              "color": "#E5ECF6",
              "width": 0.5
             },
             "pattern": {
              "fillmode": "overlay",
              "size": 10,
              "solidity": 0.2
             }
            },
            "type": "barpolar"
           }
          ],
          "carpet": [
           {
            "aaxis": {
             "endlinecolor": "#2a3f5f",
             "gridcolor": "white",
             "linecolor": "white",
             "minorgridcolor": "white",
             "startlinecolor": "#2a3f5f"
            },
            "baxis": {
             "endlinecolor": "#2a3f5f",
             "gridcolor": "white",
             "linecolor": "white",
             "minorgridcolor": "white",
             "startlinecolor": "#2a3f5f"
            },
            "type": "carpet"
           }
          ],
          "choropleth": [
           {
            "colorbar": {
             "outlinewidth": 0,
             "ticks": ""
            },
            "type": "choropleth"
           }
          ],
          "contour": [
           {
            "colorbar": {
             "outlinewidth": 0,
             "ticks": ""
            },
            "colorscale": [
             [
              0,
              "#0d0887"
             ],
             [
              0.1111111111111111,
              "#46039f"
             ],
             [
              0.2222222222222222,
              "#7201a8"
             ],
             [
              0.3333333333333333,
              "#9c179e"
             ],
             [
              0.4444444444444444,
              "#bd3786"
             ],
             [
              0.5555555555555556,
              "#d8576b"
             ],
             [
              0.6666666666666666,
              "#ed7953"
             ],
             [
              0.7777777777777778,
              "#fb9f3a"
             ],
             [
              0.8888888888888888,
              "#fdca26"
             ],
             [
              1,
              "#f0f921"
             ]
            ],
            "type": "contour"
           }
          ],
          "contourcarpet": [
           {
            "colorbar": {
             "outlinewidth": 0,
             "ticks": ""
            },
            "type": "contourcarpet"
           }
          ],
          "heatmap": [
           {
            "colorbar": {
             "outlinewidth": 0,
             "ticks": ""
            },
            "colorscale": [
             [
              0,
              "#0d0887"
             ],
             [
              0.1111111111111111,
              "#46039f"
             ],
             [
              0.2222222222222222,
              "#7201a8"
             ],
             [
              0.3333333333333333,
              "#9c179e"
             ],
             [
              0.4444444444444444,
              "#bd3786"
             ],
             [
              0.5555555555555556,
              "#d8576b"
             ],
             [
              0.6666666666666666,
              "#ed7953"
             ],
             [
              0.7777777777777778,
              "#fb9f3a"
             ],
             [
              0.8888888888888888,
              "#fdca26"
             ],
             [
              1,
              "#f0f921"
             ]
            ],
            "type": "heatmap"
           }
          ],
          "heatmapgl": [
           {
            "colorbar": {
             "outlinewidth": 0,
             "ticks": ""
            },
            "colorscale": [
             [
              0,
              "#0d0887"
             ],
             [
              0.1111111111111111,
              "#46039f"
             ],
             [
              0.2222222222222222,
              "#7201a8"
             ],
             [
              0.3333333333333333,
              "#9c179e"
             ],
             [
              0.4444444444444444,
              "#bd3786"
             ],
             [
              0.5555555555555556,
              "#d8576b"
             ],
             [
              0.6666666666666666,
              "#ed7953"
             ],
             [
              0.7777777777777778,
              "#fb9f3a"
             ],
             [
              0.8888888888888888,
              "#fdca26"
             ],
             [
              1,
              "#f0f921"
             ]
            ],
            "type": "heatmapgl"
           }
          ],
          "histogram": [
           {
            "marker": {
             "pattern": {
              "fillmode": "overlay",
              "size": 10,
              "solidity": 0.2
             }
            },
            "type": "histogram"
           }
          ],
          "histogram2d": [
           {
            "colorbar": {
             "outlinewidth": 0,
             "ticks": ""
            },
            "colorscale": [
             [
              0,
              "#0d0887"
             ],
             [
              0.1111111111111111,
              "#46039f"
             ],
             [
              0.2222222222222222,
              "#7201a8"
             ],
             [
              0.3333333333333333,
              "#9c179e"
             ],
             [
              0.4444444444444444,
              "#bd3786"
             ],
             [
              0.5555555555555556,
              "#d8576b"
             ],
             [
              0.6666666666666666,
              "#ed7953"
             ],
             [
              0.7777777777777778,
              "#fb9f3a"
             ],
             [
              0.8888888888888888,
              "#fdca26"
             ],
             [
              1,
              "#f0f921"
             ]
            ],
            "type": "histogram2d"
           }
          ],
          "histogram2dcontour": [
           {
            "colorbar": {
             "outlinewidth": 0,
             "ticks": ""
            },
            "colorscale": [
             [
              0,
              "#0d0887"
             ],
             [
              0.1111111111111111,
              "#46039f"
             ],
             [
              0.2222222222222222,
              "#7201a8"
             ],
             [
              0.3333333333333333,
              "#9c179e"
             ],
             [
              0.4444444444444444,
              "#bd3786"
             ],
             [
              0.5555555555555556,
              "#d8576b"
             ],
             [
              0.6666666666666666,
              "#ed7953"
             ],
             [
              0.7777777777777778,
              "#fb9f3a"
             ],
             [
              0.8888888888888888,
              "#fdca26"
             ],
             [
              1,
              "#f0f921"
             ]
            ],
            "type": "histogram2dcontour"
           }
          ],
          "mesh3d": [
           {
            "colorbar": {
             "outlinewidth": 0,
             "ticks": ""
            },
            "type": "mesh3d"
           }
          ],
          "parcoords": [
           {
            "line": {
             "colorbar": {
              "outlinewidth": 0,
              "ticks": ""
             }
            },
            "type": "parcoords"
           }
          ],
          "pie": [
           {
            "automargin": true,
            "type": "pie"
           }
          ],
          "scatter": [
           {
            "fillpattern": {
             "fillmode": "overlay",
             "size": 10,
             "solidity": 0.2
            },
            "type": "scatter"
           }
          ],
          "scatter3d": [
           {
            "line": {
             "colorbar": {
              "outlinewidth": 0,
              "ticks": ""
             }
            },
            "marker": {
             "colorbar": {
              "outlinewidth": 0,
              "ticks": ""
             }
            },
            "type": "scatter3d"
           }
          ],
          "scattercarpet": [
           {
            "marker": {
             "colorbar": {
              "outlinewidth": 0,
              "ticks": ""
             }
            },
            "type": "scattercarpet"
           }
          ],
          "scattergeo": [
           {
            "marker": {
             "colorbar": {
              "outlinewidth": 0,
              "ticks": ""
             }
            },
            "type": "scattergeo"
           }
          ],
          "scattergl": [
           {
            "marker": {
             "colorbar": {
              "outlinewidth": 0,
              "ticks": ""
             }
            },
            "type": "scattergl"
           }
          ],
          "scattermapbox": [
           {
            "marker": {
             "colorbar": {
              "outlinewidth": 0,
              "ticks": ""
             }
            },
            "type": "scattermapbox"
           }
          ],
          "scatterpolar": [
           {
            "marker": {
             "colorbar": {
              "outlinewidth": 0,
              "ticks": ""
             }
            },
            "type": "scatterpolar"
           }
          ],
          "scatterpolargl": [
           {
            "marker": {
             "colorbar": {
              "outlinewidth": 0,
              "ticks": ""
             }
            },
            "type": "scatterpolargl"
           }
          ],
          "scatterternary": [
           {
            "marker": {
             "colorbar": {
              "outlinewidth": 0,
              "ticks": ""
             }
            },
            "type": "scatterternary"
           }
          ],
          "surface": [
           {
            "colorbar": {
             "outlinewidth": 0,
             "ticks": ""
            },
            "colorscale": [
             [
              0,
              "#0d0887"
             ],
             [
              0.1111111111111111,
              "#46039f"
             ],
             [
              0.2222222222222222,
              "#7201a8"
             ],
             [
              0.3333333333333333,
              "#9c179e"
             ],
             [
              0.4444444444444444,
              "#bd3786"
             ],
             [
              0.5555555555555556,
              "#d8576b"
             ],
             [
              0.6666666666666666,
              "#ed7953"
             ],
             [
              0.7777777777777778,
              "#fb9f3a"
             ],
             [
              0.8888888888888888,
              "#fdca26"
             ],
             [
              1,
              "#f0f921"
             ]
            ],
            "type": "surface"
           }
          ],
          "table": [
           {
            "cells": {
             "fill": {
              "color": "#EBF0F8"
             },
             "line": {
              "color": "white"
             }
            },
            "header": {
             "fill": {
              "color": "#C8D4E3"
             },
             "line": {
              "color": "white"
             }
            },
            "type": "table"
           }
          ]
         },
         "layout": {
          "annotationdefaults": {
           "arrowcolor": "#2a3f5f",
           "arrowhead": 0,
           "arrowwidth": 1
          },
          "autotypenumbers": "strict",
          "coloraxis": {
           "colorbar": {
            "outlinewidth": 0,
            "ticks": ""
           }
          },
          "colorscale": {
           "diverging": [
            [
             0,
             "#8e0152"
            ],
            [
             0.1,
             "#c51b7d"
            ],
            [
             0.2,
             "#de77ae"
            ],
            [
             0.3,
             "#f1b6da"
            ],
            [
             0.4,
             "#fde0ef"
            ],
            [
             0.5,
             "#f7f7f7"
            ],
            [
             0.6,
             "#e6f5d0"
            ],
            [
             0.7,
             "#b8e186"
            ],
            [
             0.8,
             "#7fbc41"
            ],
            [
             0.9,
             "#4d9221"
            ],
            [
             1,
             "#276419"
            ]
           ],
           "sequential": [
            [
             0,
             "#0d0887"
            ],
            [
             0.1111111111111111,
             "#46039f"
            ],
            [
             0.2222222222222222,
             "#7201a8"
            ],
            [
             0.3333333333333333,
             "#9c179e"
            ],
            [
             0.4444444444444444,
             "#bd3786"
            ],
            [
             0.5555555555555556,
             "#d8576b"
            ],
            [
             0.6666666666666666,
             "#ed7953"
            ],
            [
             0.7777777777777778,
             "#fb9f3a"
            ],
            [
             0.8888888888888888,
             "#fdca26"
            ],
            [
             1,
             "#f0f921"
            ]
           ],
           "sequentialminus": [
            [
             0,
             "#0d0887"
            ],
            [
             0.1111111111111111,
             "#46039f"
            ],
            [
             0.2222222222222222,
             "#7201a8"
            ],
            [
             0.3333333333333333,
             "#9c179e"
            ],
            [
             0.4444444444444444,
             "#bd3786"
            ],
            [
             0.5555555555555556,
             "#d8576b"
            ],
            [
             0.6666666666666666,
             "#ed7953"
            ],
            [
             0.7777777777777778,
             "#fb9f3a"
            ],
            [
             0.8888888888888888,
             "#fdca26"
            ],
            [
             1,
             "#f0f921"
            ]
           ]
          },
          "colorway": [
           "#636efa",
           "#EF553B",
           "#00cc96",
           "#ab63fa",
           "#FFA15A",
           "#19d3f3",
           "#FF6692",
           "#B6E880",
           "#FF97FF",
           "#FECB52"
          ],
          "font": {
           "color": "#2a3f5f"
          },
          "geo": {
           "bgcolor": "white",
           "lakecolor": "white",
           "landcolor": "#E5ECF6",
           "showlakes": true,
           "showland": true,
           "subunitcolor": "white"
          },
          "hoverlabel": {
           "align": "left"
          },
          "hovermode": "closest",
          "mapbox": {
           "style": "light"
          },
          "paper_bgcolor": "white",
          "plot_bgcolor": "#E5ECF6",
          "polar": {
           "angularaxis": {
            "gridcolor": "white",
            "linecolor": "white",
            "ticks": ""
           },
           "bgcolor": "#E5ECF6",
           "radialaxis": {
            "gridcolor": "white",
            "linecolor": "white",
            "ticks": ""
           }
          },
          "scene": {
           "xaxis": {
            "backgroundcolor": "#E5ECF6",
            "gridcolor": "white",
            "gridwidth": 2,
            "linecolor": "white",
            "showbackground": true,
            "ticks": "",
            "zerolinecolor": "white"
           },
           "yaxis": {
            "backgroundcolor": "#E5ECF6",
            "gridcolor": "white",
            "gridwidth": 2,
            "linecolor": "white",
            "showbackground": true,
            "ticks": "",
            "zerolinecolor": "white"
           },
           "zaxis": {
            "backgroundcolor": "#E5ECF6",
            "gridcolor": "white",
            "gridwidth": 2,
            "linecolor": "white",
            "showbackground": true,
            "ticks": "",
            "zerolinecolor": "white"
           }
          },
          "shapedefaults": {
           "line": {
            "color": "#2a3f5f"
           }
          },
          "ternary": {
           "aaxis": {
            "gridcolor": "white",
            "linecolor": "white",
            "ticks": ""
           },
           "baxis": {
            "gridcolor": "white",
            "linecolor": "white",
            "ticks": ""
           },
           "bgcolor": "#E5ECF6",
           "caxis": {
            "gridcolor": "white",
            "linecolor": "white",
            "ticks": ""
           }
          },
          "title": {
           "x": 0.05
          },
          "xaxis": {
           "automargin": true,
           "gridcolor": "white",
           "linecolor": "white",
           "ticks": "",
           "title": {
            "standoff": 15
           },
           "zerolinecolor": "white",
           "zerolinewidth": 2
          },
          "yaxis": {
           "automargin": true,
           "gridcolor": "white",
           "linecolor": "white",
           "ticks": "",
           "title": {
            "standoff": 15
           },
           "zerolinecolor": "white",
           "zerolinewidth": 2
          }
         }
        },
        "title": {
         "text": "S&P 500 Close Price"
        },
        "xaxis": {
         "anchor": "y",
         "domain": [
          0,
          1
         ],
         "rangeselector": {
          "buttons": [
           {
            "count": 1,
            "label": "1m",
            "step": "month",
            "stepmode": "backward"
           },
           {
            "count": 6,
            "label": "6m",
            "step": "month",
            "stepmode": "backward"
           },
           {
            "count": 12,
            "label": "12m",
            "step": "month",
            "stepmode": "backward"
           },
           {
            "count": 1,
            "label": "YTD",
            "step": "year",
            "stepmode": "todate"
           },
           {
            "count": 1,
            "label": "1y",
            "step": "year",
            "stepmode": "backward"
           },
           {
            "step": "all"
           }
          ]
         },
         "rangeslider": {
          "visible": true
         },
         "title": {
          "text": "Date"
         }
        },
        "yaxis": {
         "anchor": "x",
         "domain": [
          0,
          1
         ],
         "title": {
          "text": "value"
         }
        }
       }
      }
     },
     "metadata": {},
     "output_type": "display_data"
    }
   ],
   "source": [
    "import plotly.express as px\n",
    "import pandas as pd\n",
    "\n",
    "fig = px.line(df, x=df.index, y=[\"Close\"], title=f\"{company_name} Close Price\")\n",
    "\n",
    "fig.update_xaxes(\n",
    "    rangeslider_visible=True,\n",
    "    rangeselector=dict(\n",
    "        buttons=list(\n",
    "            [\n",
    "                dict(count=1, label=\"1m\", step=\"month\", stepmode=\"backward\"),\n",
    "                dict(count=6, label=\"6m\", step=\"month\", stepmode=\"backward\"),\n",
    "                dict(count=12, label=\"12m\", step=\"month\", stepmode=\"backward\"),\n",
    "                dict(count=1, label=\"YTD\", step=\"year\", stepmode=\"todate\"),\n",
    "                dict(count=1, label=\"1y\", step=\"year\", stepmode=\"backward\"),\n",
    "                dict(step=\"all\"),\n",
    "            ]\n",
    "        )\n",
    "    ),\n",
    ")\n",
    "\n",
    "fig.show()\n",
    "\n",
    "# save png\n",
    "with open(\"stock_chart1.png\", \"wb\") as f:\n",
    "    fig.write_image(f)"
   ]
  },
  {
   "cell_type": "markdown",
   "metadata": {},
   "source": [
    "![stock_chart1](./stock_chart1.png)\n"
   ]
  },
  {
   "cell_type": "code",
   "execution_count": 9,
   "metadata": {},
   "outputs": [
    {
     "data": {
      "application/vnd.plotly.v1+json": {
       "config": {
        "plotlyServerURL": "https://plot.ly"
       },
       "data": [
        {
         "hovertemplate": "variable=Close<br>Date=%{x}<br>value=%{y}<extra></extra>",
         "legendgroup": "Close",
         "line": {
          "color": "#636efa",
          "dash": "solid"
         },
         "marker": {
          "symbol": "circle"
         },
         "mode": "lines",
         "name": "Close",
         "orientation": "v",
         "showlegend": true,
         "type": "scatter",
         "x": [
          "2023-09-25T00:00:00-04:00",
          "2023-09-26T00:00:00-04:00",
          "2023-09-27T00:00:00-04:00",
          "2023-09-28T00:00:00-04:00",
          "2023-09-29T00:00:00-04:00",
          "2023-10-02T00:00:00-04:00",
          "2023-10-03T00:00:00-04:00",
          "2023-10-04T00:00:00-04:00",
          "2023-10-05T00:00:00-04:00",
          "2023-10-06T00:00:00-04:00",
          "2023-10-09T00:00:00-04:00",
          "2023-10-10T00:00:00-04:00",
          "2023-10-11T00:00:00-04:00",
          "2023-10-12T00:00:00-04:00",
          "2023-10-13T00:00:00-04:00",
          "2023-10-16T00:00:00-04:00",
          "2023-10-17T00:00:00-04:00",
          "2023-10-18T00:00:00-04:00",
          "2023-10-19T00:00:00-04:00",
          "2023-10-20T00:00:00-04:00",
          "2023-10-23T00:00:00-04:00",
          "2023-10-24T00:00:00-04:00",
          "2023-10-25T00:00:00-04:00",
          "2023-10-26T00:00:00-04:00",
          "2023-10-27T00:00:00-04:00",
          "2023-10-30T00:00:00-04:00",
          "2023-10-31T00:00:00-04:00",
          "2023-11-01T00:00:00-04:00",
          "2023-11-02T00:00:00-04:00",
          "2023-11-03T00:00:00-04:00",
          "2023-11-06T00:00:00-05:00",
          "2023-11-07T00:00:00-05:00",
          "2023-11-08T00:00:00-05:00",
          "2023-11-09T00:00:00-05:00",
          "2023-11-10T00:00:00-05:00",
          "2023-11-13T00:00:00-05:00",
          "2023-11-14T00:00:00-05:00",
          "2023-11-15T00:00:00-05:00",
          "2023-11-16T00:00:00-05:00",
          "2023-11-17T00:00:00-05:00",
          "2023-11-20T00:00:00-05:00",
          "2023-11-21T00:00:00-05:00",
          "2023-11-22T00:00:00-05:00",
          "2023-11-24T00:00:00-05:00",
          "2023-11-27T00:00:00-05:00",
          "2023-11-28T00:00:00-05:00",
          "2023-11-29T00:00:00-05:00",
          "2023-11-30T00:00:00-05:00",
          "2023-12-01T00:00:00-05:00",
          "2023-12-04T00:00:00-05:00",
          "2023-12-05T00:00:00-05:00",
          "2023-12-06T00:00:00-05:00",
          "2023-12-07T00:00:00-05:00",
          "2023-12-08T00:00:00-05:00",
          "2023-12-11T00:00:00-05:00",
          "2023-12-12T00:00:00-05:00",
          "2023-12-13T00:00:00-05:00",
          "2023-12-14T00:00:00-05:00",
          "2023-12-15T00:00:00-05:00",
          "2023-12-18T00:00:00-05:00",
          "2023-12-19T00:00:00-05:00",
          "2023-12-20T00:00:00-05:00",
          "2023-12-21T00:00:00-05:00",
          "2023-12-22T00:00:00-05:00",
          "2023-12-26T00:00:00-05:00",
          "2023-12-27T00:00:00-05:00",
          "2023-12-28T00:00:00-05:00",
          "2023-12-29T00:00:00-05:00",
          "2024-01-02T00:00:00-05:00",
          "2024-01-03T00:00:00-05:00",
          "2024-01-04T00:00:00-05:00",
          "2024-01-05T00:00:00-05:00",
          "2024-01-08T00:00:00-05:00",
          "2024-01-09T00:00:00-05:00",
          "2024-01-10T00:00:00-05:00",
          "2024-01-11T00:00:00-05:00",
          "2024-01-12T00:00:00-05:00",
          "2024-01-16T00:00:00-05:00",
          "2024-01-17T00:00:00-05:00",
          "2024-01-18T00:00:00-05:00",
          "2024-01-19T00:00:00-05:00",
          "2024-01-22T00:00:00-05:00",
          "2024-01-23T00:00:00-05:00",
          "2024-01-24T00:00:00-05:00",
          "2024-01-25T00:00:00-05:00",
          "2024-01-26T00:00:00-05:00",
          "2024-01-29T00:00:00-05:00",
          "2024-01-30T00:00:00-05:00",
          "2024-01-31T00:00:00-05:00",
          "2024-02-01T00:00:00-05:00",
          "2024-02-02T00:00:00-05:00",
          "2024-02-05T00:00:00-05:00",
          "2024-02-06T00:00:00-05:00",
          "2024-02-07T00:00:00-05:00",
          "2024-02-08T00:00:00-05:00",
          "2024-02-09T00:00:00-05:00",
          "2024-02-12T00:00:00-05:00",
          "2024-02-13T00:00:00-05:00",
          "2024-02-14T00:00:00-05:00",
          "2024-02-15T00:00:00-05:00",
          "2024-02-16T00:00:00-05:00",
          "2024-02-20T00:00:00-05:00",
          "2024-02-21T00:00:00-05:00",
          "2024-02-22T00:00:00-05:00",
          "2024-02-23T00:00:00-05:00",
          "2024-02-26T00:00:00-05:00",
          "2024-02-27T00:00:00-05:00",
          "2024-02-28T00:00:00-05:00",
          "2024-02-29T00:00:00-05:00",
          "2024-03-01T00:00:00-05:00",
          "2024-03-04T00:00:00-05:00",
          "2024-03-05T00:00:00-05:00",
          "2024-03-06T00:00:00-05:00",
          "2024-03-07T00:00:00-05:00",
          "2024-03-08T00:00:00-05:00",
          "2024-03-11T00:00:00-04:00",
          "2024-03-12T00:00:00-04:00",
          "2024-03-13T00:00:00-04:00",
          "2024-03-14T00:00:00-04:00",
          "2024-03-15T00:00:00-04:00",
          "2024-03-18T00:00:00-04:00",
          "2024-03-19T00:00:00-04:00",
          "2024-03-20T00:00:00-04:00",
          "2024-03-21T00:00:00-04:00",
          "2024-03-22T00:00:00-04:00",
          "2024-03-25T00:00:00-04:00",
          "2024-03-26T00:00:00-04:00",
          "2024-03-27T00:00:00-04:00",
          "2024-03-28T00:00:00-04:00",
          "2024-04-01T00:00:00-04:00",
          "2024-04-02T00:00:00-04:00",
          "2024-04-03T00:00:00-04:00",
          "2024-04-04T00:00:00-04:00",
          "2024-04-05T00:00:00-04:00",
          "2024-04-08T00:00:00-04:00",
          "2024-04-09T00:00:00-04:00",
          "2024-04-10T00:00:00-04:00",
          "2024-04-11T00:00:00-04:00",
          "2024-04-12T00:00:00-04:00",
          "2024-04-15T00:00:00-04:00",
          "2024-04-16T00:00:00-04:00",
          "2024-04-17T00:00:00-04:00",
          "2024-04-18T00:00:00-04:00",
          "2024-04-19T00:00:00-04:00",
          "2024-04-22T00:00:00-04:00",
          "2024-04-23T00:00:00-04:00",
          "2024-04-24T00:00:00-04:00",
          "2024-04-25T00:00:00-04:00",
          "2024-04-26T00:00:00-04:00",
          "2024-04-29T00:00:00-04:00",
          "2024-04-30T00:00:00-04:00",
          "2024-05-01T00:00:00-04:00",
          "2024-05-02T00:00:00-04:00",
          "2024-05-03T00:00:00-04:00",
          "2024-05-06T00:00:00-04:00",
          "2024-05-07T00:00:00-04:00",
          "2024-05-08T00:00:00-04:00",
          "2024-05-09T00:00:00-04:00",
          "2024-05-10T00:00:00-04:00",
          "2024-05-13T00:00:00-04:00",
          "2024-05-14T00:00:00-04:00",
          "2024-05-15T00:00:00-04:00",
          "2024-05-16T00:00:00-04:00",
          "2024-05-17T00:00:00-04:00",
          "2024-05-20T00:00:00-04:00",
          "2024-05-21T00:00:00-04:00",
          "2024-05-22T00:00:00-04:00",
          "2024-05-23T00:00:00-04:00",
          "2024-05-24T00:00:00-04:00",
          "2024-05-28T00:00:00-04:00",
          "2024-05-29T00:00:00-04:00",
          "2024-05-30T00:00:00-04:00",
          "2024-05-31T00:00:00-04:00",
          "2024-06-03T00:00:00-04:00",
          "2024-06-04T00:00:00-04:00",
          "2024-06-05T00:00:00-04:00",
          "2024-06-06T00:00:00-04:00",
          "2024-06-07T00:00:00-04:00",
          "2024-06-10T00:00:00-04:00",
          "2024-06-11T00:00:00-04:00",
          "2024-06-12T00:00:00-04:00",
          "2024-06-13T00:00:00-04:00",
          "2024-06-14T00:00:00-04:00",
          "2024-06-17T00:00:00-04:00",
          "2024-06-18T00:00:00-04:00",
          "2024-06-20T00:00:00-04:00",
          "2024-06-21T00:00:00-04:00",
          "2024-06-24T00:00:00-04:00",
          "2024-06-25T00:00:00-04:00",
          "2024-06-26T00:00:00-04:00",
          "2024-06-27T00:00:00-04:00",
          "2024-06-28T00:00:00-04:00",
          "2024-07-01T00:00:00-04:00",
          "2024-07-02T00:00:00-04:00",
          "2024-07-03T00:00:00-04:00",
          "2024-07-05T00:00:00-04:00",
          "2024-07-08T00:00:00-04:00",
          "2024-07-09T00:00:00-04:00",
          "2024-07-10T00:00:00-04:00",
          "2024-07-11T00:00:00-04:00",
          "2024-07-12T00:00:00-04:00",
          "2024-07-15T00:00:00-04:00",
          "2024-07-16T00:00:00-04:00",
          "2024-07-17T00:00:00-04:00",
          "2024-07-18T00:00:00-04:00",
          "2024-07-19T00:00:00-04:00",
          "2024-07-22T00:00:00-04:00",
          "2024-07-23T00:00:00-04:00",
          "2024-07-24T00:00:00-04:00",
          "2024-07-25T00:00:00-04:00",
          "2024-07-26T00:00:00-04:00",
          "2024-07-29T00:00:00-04:00",
          "2024-07-30T00:00:00-04:00",
          "2024-07-31T00:00:00-04:00",
          "2024-08-01T00:00:00-04:00",
          "2024-08-02T00:00:00-04:00",
          "2024-08-05T00:00:00-04:00",
          "2024-08-06T00:00:00-04:00",
          "2024-08-07T00:00:00-04:00",
          "2024-08-08T00:00:00-04:00",
          "2024-08-09T00:00:00-04:00",
          "2024-08-12T00:00:00-04:00",
          "2024-08-13T00:00:00-04:00",
          "2024-08-14T00:00:00-04:00",
          "2024-08-15T00:00:00-04:00",
          "2024-08-16T00:00:00-04:00",
          "2024-08-19T00:00:00-04:00",
          "2024-08-20T00:00:00-04:00",
          "2024-08-21T00:00:00-04:00",
          "2024-08-22T00:00:00-04:00",
          "2024-08-23T00:00:00-04:00",
          "2024-08-26T00:00:00-04:00",
          "2024-08-27T00:00:00-04:00",
          "2024-08-28T00:00:00-04:00",
          "2024-08-29T00:00:00-04:00",
          "2024-08-30T00:00:00-04:00",
          "2024-09-03T00:00:00-04:00",
          "2024-09-04T00:00:00-04:00",
          "2024-09-05T00:00:00-04:00",
          "2024-09-06T00:00:00-04:00",
          "2024-09-09T00:00:00-04:00",
          "2024-09-10T00:00:00-04:00",
          "2024-09-11T00:00:00-04:00",
          "2024-09-12T00:00:00-04:00",
          "2024-09-13T00:00:00-04:00",
          "2024-09-16T00:00:00-04:00",
          "2024-09-17T00:00:00-04:00",
          "2024-09-18T00:00:00-04:00",
          "2024-09-19T00:00:00-04:00",
          "2024-09-20T00:00:00-04:00",
          "2024-09-23T00:00:00-04:00"
         ],
         "xaxis": "x",
         "y": [
          4337.43994140625,
          4273.52978515625,
          4274.509765625,
          4299.7001953125,
          4288.0498046875,
          4288.39013671875,
          4229.4501953125,
          4263.75,
          4258.18994140625,
          4308.5,
          4335.66015625,
          4358.240234375,
          4376.9501953125,
          4349.60986328125,
          4327.77978515625,
          4373.6298828125,
          4373.2001953125,
          4314.60009765625,
          4278,
          4224.16015625,
          4217.0400390625,
          4247.68017578125,
          4186.77001953125,
          4137.22998046875,
          4117.3701171875,
          4166.81982421875,
          4193.7998046875,
          4237.85986328125,
          4317.77978515625,
          4358.33984375,
          4365.97998046875,
          4378.3798828125,
          4382.77978515625,
          4347.35009765625,
          4415.240234375,
          4411.5498046875,
          4495.7001953125,
          4502.8798828125,
          4508.240234375,
          4514.02001953125,
          4547.3798828125,
          4538.18994140625,
          4556.6201171875,
          4559.33984375,
          4550.43017578125,
          4554.89013671875,
          4550.580078125,
          4567.7998046875,
          4594.6298828125,
          4569.77978515625,
          4567.18017578125,
          4549.33984375,
          4585.58984375,
          4604.3701171875,
          4622.43994140625,
          4643.7001953125,
          4707.08984375,
          4719.5498046875,
          4719.18994140625,
          4740.56005859375,
          4768.3701171875,
          4698.35009765625,
          4746.75,
          4754.6298828125,
          4774.75,
          4781.580078125,
          4783.35009765625,
          4769.830078125,
          4742.830078125,
          4704.81005859375,
          4688.68017578125,
          4697.240234375,
          4763.5400390625,
          4756.5,
          4783.4501953125,
          4780.240234375,
          4783.830078125,
          4765.97998046875,
          4739.2099609375,
          4780.93994140625,
          4839.81005859375,
          4850.43017578125,
          4864.60009765625,
          4868.5498046875,
          4894.16015625,
          4890.97021484375,
          4927.93017578125,
          4924.97021484375,
          4845.64990234375,
          4906.18994140625,
          4958.60986328125,
          4942.81005859375,
          4954.22998046875,
          4995.06005859375,
          4997.91015625,
          5026.60986328125,
          5021.83984375,
          4953.169921875,
          5000.6201171875,
          5029.72998046875,
          5005.56982421875,
          4975.509765625,
          4981.7998046875,
          5087.02978515625,
          5088.7998046875,
          5069.52978515625,
          5078.18017578125,
          5069.759765625,
          5096.27001953125,
          5137.080078125,
          5130.9501953125,
          5078.64990234375,
          5104.759765625,
          5157.35986328125,
          5123.68994140625,
          5117.93994140625,
          5175.27001953125,
          5165.31005859375,
          5150.47998046875,
          5117.08984375,
          5149.419921875,
          5178.509765625,
          5224.6201171875,
          5241.52978515625,
          5234.18017578125,
          5218.18994140625,
          5203.580078125,
          5248.490234375,
          5254.35009765625,
          5243.77001953125,
          5205.81005859375,
          5211.490234375,
          5147.2099609375,
          5204.33984375,
          5202.39013671875,
          5209.91015625,
          5160.64013671875,
          5199.06005859375,
          5123.41015625,
          5061.81982421875,
          5051.41015625,
          5022.2099609375,
          5011.1201171875,
          4967.22998046875,
          5010.60009765625,
          5070.5498046875,
          5071.6298828125,
          5048.419921875,
          5099.9599609375,
          5116.169921875,
          5035.68994140625,
          5018.39013671875,
          5064.2001953125,
          5127.7900390625,
          5180.740234375,
          5187.7001953125,
          5187.669921875,
          5214.080078125,
          5222.68017578125,
          5221.419921875,
          5246.68017578125,
          5308.14990234375,
          5297.10009765625,
          5303.27001953125,
          5308.1298828125,
          5321.41015625,
          5307.009765625,
          5267.83984375,
          5304.72021484375,
          5306.0400390625,
          5266.9501953125,
          5235.47998046875,
          5277.509765625,
          5283.39990234375,
          5291.33984375,
          5354.02978515625,
          5352.9599609375,
          5346.990234375,
          5360.7900390625,
          5375.31982421875,
          5421.02978515625,
          5433.740234375,
          5431.60009765625,
          5473.22998046875,
          5487.02978515625,
          5473.169921875,
          5464.6201171875,
          5447.8701171875,
          5469.2998046875,
          5477.89990234375,
          5482.8701171875,
          5460.47998046875,
          5475.08984375,
          5509.009765625,
          5537.02001953125,
          5567.18994140625,
          5572.85009765625,
          5576.97998046875,
          5633.91015625,
          5584.5400390625,
          5615.35009765625,
          5631.22021484375,
          5667.2001953125,
          5588.27001953125,
          5544.58984375,
          5505,
          5564.41015625,
          5555.740234375,
          5427.1298828125,
          5399.22021484375,
          5459.10009765625,
          5463.5400390625,
          5436.43994140625,
          5522.2998046875,
          5446.68017578125,
          5346.56005859375,
          5186.330078125,
          5240.02978515625,
          5199.5,
          5319.31005859375,
          5344.16015625,
          5344.39013671875,
          5434.43017578125,
          5455.2099609375,
          5543.22021484375,
          5554.25,
          5608.25,
          5597.1201171875,
          5620.85009765625,
          5570.64013671875,
          5634.60986328125,
          5616.83984375,
          5625.7998046875,
          5592.18017578125,
          5591.9599609375,
          5648.39990234375,
          5528.93017578125,
          5520.06982421875,
          5503.41015625,
          5408.419921875,
          5471.0498046875,
          5495.52001953125,
          5554.1298828125,
          5595.759765625,
          5626.02001953125,
          5633.08984375,
          5634.580078125,
          5618.259765625,
          5713.64013671875,
          5702.5498046875,
          5711.58984375
         ],
         "yaxis": "y"
        },
        {
         "hovertemplate": "variable=ma05<br>Date=%{x}<br>value=%{y}<extra></extra>",
         "legendgroup": "ma05",
         "line": {
          "color": "#EF553B",
          "dash": "solid"
         },
         "marker": {
          "symbol": "circle"
         },
         "mode": "lines",
         "name": "ma05",
         "orientation": "v",
         "showlegend": true,
         "type": "scatter",
         "x": [
          "2023-09-25T00:00:00-04:00",
          "2023-09-26T00:00:00-04:00",
          "2023-09-27T00:00:00-04:00",
          "2023-09-28T00:00:00-04:00",
          "2023-09-29T00:00:00-04:00",
          "2023-10-02T00:00:00-04:00",
          "2023-10-03T00:00:00-04:00",
          "2023-10-04T00:00:00-04:00",
          "2023-10-05T00:00:00-04:00",
          "2023-10-06T00:00:00-04:00",
          "2023-10-09T00:00:00-04:00",
          "2023-10-10T00:00:00-04:00",
          "2023-10-11T00:00:00-04:00",
          "2023-10-12T00:00:00-04:00",
          "2023-10-13T00:00:00-04:00",
          "2023-10-16T00:00:00-04:00",
          "2023-10-17T00:00:00-04:00",
          "2023-10-18T00:00:00-04:00",
          "2023-10-19T00:00:00-04:00",
          "2023-10-20T00:00:00-04:00",
          "2023-10-23T00:00:00-04:00",
          "2023-10-24T00:00:00-04:00",
          "2023-10-25T00:00:00-04:00",
          "2023-10-26T00:00:00-04:00",
          "2023-10-27T00:00:00-04:00",
          "2023-10-30T00:00:00-04:00",
          "2023-10-31T00:00:00-04:00",
          "2023-11-01T00:00:00-04:00",
          "2023-11-02T00:00:00-04:00",
          "2023-11-03T00:00:00-04:00",
          "2023-11-06T00:00:00-05:00",
          "2023-11-07T00:00:00-05:00",
          "2023-11-08T00:00:00-05:00",
          "2023-11-09T00:00:00-05:00",
          "2023-11-10T00:00:00-05:00",
          "2023-11-13T00:00:00-05:00",
          "2023-11-14T00:00:00-05:00",
          "2023-11-15T00:00:00-05:00",
          "2023-11-16T00:00:00-05:00",
          "2023-11-17T00:00:00-05:00",
          "2023-11-20T00:00:00-05:00",
          "2023-11-21T00:00:00-05:00",
          "2023-11-22T00:00:00-05:00",
          "2023-11-24T00:00:00-05:00",
          "2023-11-27T00:00:00-05:00",
          "2023-11-28T00:00:00-05:00",
          "2023-11-29T00:00:00-05:00",
          "2023-11-30T00:00:00-05:00",
          "2023-12-01T00:00:00-05:00",
          "2023-12-04T00:00:00-05:00",
          "2023-12-05T00:00:00-05:00",
          "2023-12-06T00:00:00-05:00",
          "2023-12-07T00:00:00-05:00",
          "2023-12-08T00:00:00-05:00",
          "2023-12-11T00:00:00-05:00",
          "2023-12-12T00:00:00-05:00",
          "2023-12-13T00:00:00-05:00",
          "2023-12-14T00:00:00-05:00",
          "2023-12-15T00:00:00-05:00",
          "2023-12-18T00:00:00-05:00",
          "2023-12-19T00:00:00-05:00",
          "2023-12-20T00:00:00-05:00",
          "2023-12-21T00:00:00-05:00",
          "2023-12-22T00:00:00-05:00",
          "2023-12-26T00:00:00-05:00",
          "2023-12-27T00:00:00-05:00",
          "2023-12-28T00:00:00-05:00",
          "2023-12-29T00:00:00-05:00",
          "2024-01-02T00:00:00-05:00",
          "2024-01-03T00:00:00-05:00",
          "2024-01-04T00:00:00-05:00",
          "2024-01-05T00:00:00-05:00",
          "2024-01-08T00:00:00-05:00",
          "2024-01-09T00:00:00-05:00",
          "2024-01-10T00:00:00-05:00",
          "2024-01-11T00:00:00-05:00",
          "2024-01-12T00:00:00-05:00",
          "2024-01-16T00:00:00-05:00",
          "2024-01-17T00:00:00-05:00",
          "2024-01-18T00:00:00-05:00",
          "2024-01-19T00:00:00-05:00",
          "2024-01-22T00:00:00-05:00",
          "2024-01-23T00:00:00-05:00",
          "2024-01-24T00:00:00-05:00",
          "2024-01-25T00:00:00-05:00",
          "2024-01-26T00:00:00-05:00",
          "2024-01-29T00:00:00-05:00",
          "2024-01-30T00:00:00-05:00",
          "2024-01-31T00:00:00-05:00",
          "2024-02-01T00:00:00-05:00",
          "2024-02-02T00:00:00-05:00",
          "2024-02-05T00:00:00-05:00",
          "2024-02-06T00:00:00-05:00",
          "2024-02-07T00:00:00-05:00",
          "2024-02-08T00:00:00-05:00",
          "2024-02-09T00:00:00-05:00",
          "2024-02-12T00:00:00-05:00",
          "2024-02-13T00:00:00-05:00",
          "2024-02-14T00:00:00-05:00",
          "2024-02-15T00:00:00-05:00",
          "2024-02-16T00:00:00-05:00",
          "2024-02-20T00:00:00-05:00",
          "2024-02-21T00:00:00-05:00",
          "2024-02-22T00:00:00-05:00",
          "2024-02-23T00:00:00-05:00",
          "2024-02-26T00:00:00-05:00",
          "2024-02-27T00:00:00-05:00",
          "2024-02-28T00:00:00-05:00",
          "2024-02-29T00:00:00-05:00",
          "2024-03-01T00:00:00-05:00",
          "2024-03-04T00:00:00-05:00",
          "2024-03-05T00:00:00-05:00",
          "2024-03-06T00:00:00-05:00",
          "2024-03-07T00:00:00-05:00",
          "2024-03-08T00:00:00-05:00",
          "2024-03-11T00:00:00-04:00",
          "2024-03-12T00:00:00-04:00",
          "2024-03-13T00:00:00-04:00",
          "2024-03-14T00:00:00-04:00",
          "2024-03-15T00:00:00-04:00",
          "2024-03-18T00:00:00-04:00",
          "2024-03-19T00:00:00-04:00",
          "2024-03-20T00:00:00-04:00",
          "2024-03-21T00:00:00-04:00",
          "2024-03-22T00:00:00-04:00",
          "2024-03-25T00:00:00-04:00",
          "2024-03-26T00:00:00-04:00",
          "2024-03-27T00:00:00-04:00",
          "2024-03-28T00:00:00-04:00",
          "2024-04-01T00:00:00-04:00",
          "2024-04-02T00:00:00-04:00",
          "2024-04-03T00:00:00-04:00",
          "2024-04-04T00:00:00-04:00",
          "2024-04-05T00:00:00-04:00",
          "2024-04-08T00:00:00-04:00",
          "2024-04-09T00:00:00-04:00",
          "2024-04-10T00:00:00-04:00",
          "2024-04-11T00:00:00-04:00",
          "2024-04-12T00:00:00-04:00",
          "2024-04-15T00:00:00-04:00",
          "2024-04-16T00:00:00-04:00",
          "2024-04-17T00:00:00-04:00",
          "2024-04-18T00:00:00-04:00",
          "2024-04-19T00:00:00-04:00",
          "2024-04-22T00:00:00-04:00",
          "2024-04-23T00:00:00-04:00",
          "2024-04-24T00:00:00-04:00",
          "2024-04-25T00:00:00-04:00",
          "2024-04-26T00:00:00-04:00",
          "2024-04-29T00:00:00-04:00",
          "2024-04-30T00:00:00-04:00",
          "2024-05-01T00:00:00-04:00",
          "2024-05-02T00:00:00-04:00",
          "2024-05-03T00:00:00-04:00",
          "2024-05-06T00:00:00-04:00",
          "2024-05-07T00:00:00-04:00",
          "2024-05-08T00:00:00-04:00",
          "2024-05-09T00:00:00-04:00",
          "2024-05-10T00:00:00-04:00",
          "2024-05-13T00:00:00-04:00",
          "2024-05-14T00:00:00-04:00",
          "2024-05-15T00:00:00-04:00",
          "2024-05-16T00:00:00-04:00",
          "2024-05-17T00:00:00-04:00",
          "2024-05-20T00:00:00-04:00",
          "2024-05-21T00:00:00-04:00",
          "2024-05-22T00:00:00-04:00",
          "2024-05-23T00:00:00-04:00",
          "2024-05-24T00:00:00-04:00",
          "2024-05-28T00:00:00-04:00",
          "2024-05-29T00:00:00-04:00",
          "2024-05-30T00:00:00-04:00",
          "2024-05-31T00:00:00-04:00",
          "2024-06-03T00:00:00-04:00",
          "2024-06-04T00:00:00-04:00",
          "2024-06-05T00:00:00-04:00",
          "2024-06-06T00:00:00-04:00",
          "2024-06-07T00:00:00-04:00",
          "2024-06-10T00:00:00-04:00",
          "2024-06-11T00:00:00-04:00",
          "2024-06-12T00:00:00-04:00",
          "2024-06-13T00:00:00-04:00",
          "2024-06-14T00:00:00-04:00",
          "2024-06-17T00:00:00-04:00",
          "2024-06-18T00:00:00-04:00",
          "2024-06-20T00:00:00-04:00",
          "2024-06-21T00:00:00-04:00",
          "2024-06-24T00:00:00-04:00",
          "2024-06-25T00:00:00-04:00",
          "2024-06-26T00:00:00-04:00",
          "2024-06-27T00:00:00-04:00",
          "2024-06-28T00:00:00-04:00",
          "2024-07-01T00:00:00-04:00",
          "2024-07-02T00:00:00-04:00",
          "2024-07-03T00:00:00-04:00",
          "2024-07-05T00:00:00-04:00",
          "2024-07-08T00:00:00-04:00",
          "2024-07-09T00:00:00-04:00",
          "2024-07-10T00:00:00-04:00",
          "2024-07-11T00:00:00-04:00",
          "2024-07-12T00:00:00-04:00",
          "2024-07-15T00:00:00-04:00",
          "2024-07-16T00:00:00-04:00",
          "2024-07-17T00:00:00-04:00",
          "2024-07-18T00:00:00-04:00",
          "2024-07-19T00:00:00-04:00",
          "2024-07-22T00:00:00-04:00",
          "2024-07-23T00:00:00-04:00",
          "2024-07-24T00:00:00-04:00",
          "2024-07-25T00:00:00-04:00",
          "2024-07-26T00:00:00-04:00",
          "2024-07-29T00:00:00-04:00",
          "2024-07-30T00:00:00-04:00",
          "2024-07-31T00:00:00-04:00",
          "2024-08-01T00:00:00-04:00",
          "2024-08-02T00:00:00-04:00",
          "2024-08-05T00:00:00-04:00",
          "2024-08-06T00:00:00-04:00",
          "2024-08-07T00:00:00-04:00",
          "2024-08-08T00:00:00-04:00",
          "2024-08-09T00:00:00-04:00",
          "2024-08-12T00:00:00-04:00",
          "2024-08-13T00:00:00-04:00",
          "2024-08-14T00:00:00-04:00",
          "2024-08-15T00:00:00-04:00",
          "2024-08-16T00:00:00-04:00",
          "2024-08-19T00:00:00-04:00",
          "2024-08-20T00:00:00-04:00",
          "2024-08-21T00:00:00-04:00",
          "2024-08-22T00:00:00-04:00",
          "2024-08-23T00:00:00-04:00",
          "2024-08-26T00:00:00-04:00",
          "2024-08-27T00:00:00-04:00",
          "2024-08-28T00:00:00-04:00",
          "2024-08-29T00:00:00-04:00",
          "2024-08-30T00:00:00-04:00",
          "2024-09-03T00:00:00-04:00",
          "2024-09-04T00:00:00-04:00",
          "2024-09-05T00:00:00-04:00",
          "2024-09-06T00:00:00-04:00",
          "2024-09-09T00:00:00-04:00",
          "2024-09-10T00:00:00-04:00",
          "2024-09-11T00:00:00-04:00",
          "2024-09-12T00:00:00-04:00",
          "2024-09-13T00:00:00-04:00",
          "2024-09-16T00:00:00-04:00",
          "2024-09-17T00:00:00-04:00",
          "2024-09-18T00:00:00-04:00",
          "2024-09-19T00:00:00-04:00",
          "2024-09-20T00:00:00-04:00",
          "2024-09-23T00:00:00-04:00"
         ],
         "xaxis": "x",
         "y": [
          4366.730078125,
          4332.64599609375,
          4307.10791015625,
          4301.04794921875,
          4294.6458984375,
          4284.8359375,
          4276.02001953125,
          4273.86806640625,
          4265.566015625,
          4269.6560546875,
          4279.11005859375,
          4304.86806640625,
          4327.50810546875,
          4345.79208984375,
          4349.648046875,
          4357.2419921875,
          4360.233984375,
          4347.76396484375,
          4333.4419921875,
          4312.71806640625,
          4281.40009765625,
          4256.29609375,
          4230.730078125,
          4202.57607421875,
          4181.21806640625,
          4171.1740234375,
          4160.39794921875,
          4170.61591796875,
          4206.72587890625,
          4254.91982421875,
          4294.75185546875,
          4331.66787109375,
          4360.65185546875,
          4366.56591796875,
          4377.94599609375,
          4387.0599609375,
          4410.5240234375,
          4434.54404296875,
          4466.7220703125,
          4486.47802734375,
          4513.64404296875,
          4522.1419921875,
          4532.8900390625,
          4543.1099609375,
          4550.3919921875,
          4551.89404296875,
          4554.3720703125,
          4556.6080078125,
          4563.666015625,
          4567.5359375,
          4569.9939453125,
          4569.7458984375,
          4573.30390625,
          4575.251953125,
          4585.783984375,
          4601.08798828125,
          4632.63798828125,
          4659.42998046875,
          4682.3939453125,
          4706.01796875,
          4730.951953125,
          4729.20400390625,
          4734.64404296875,
          4741.73203125,
          4748.57001953125,
          4751.21201171875,
          4768.21201171875,
          4772.82802734375,
          4770.46806640625,
          4756.480078125,
          4737.90009765625,
          4720.678125,
          4719.4201171875,
          4722.1541015625,
          4737.88212890625,
          4756.194140625,
          4773.512109375,
          4774.00009765625,
          4770.54208984375,
          4770.0400390625,
          4781.95400390625,
          4795.2740234375,
          4814.998046875,
          4840.866015625,
          4863.51005859375,
          4873.74208984375,
          4889.24208984375,
          4901.31611328125,
          4896.7361328125,
          4899.14208984375,
          4912.67001953125,
          4915.64599609375,
          4921.49794921875,
          4951.37998046875,
          4969.7240234375,
          4983.3240234375,
          4999.12998046875,
          4998.91796875,
          5000.02998046875,
          5006.3939453125,
          5002.1859375,
          4992.919921875,
          4998.6458984375,
          5015.92783203125,
          5027.741796875,
          5040.5337890625,
          5061.06787109375,
          5078.65986328125,
          5080.50791015625,
          5090.16396484375,
          5102.448046875,
          5102.5419921875,
          5109.5419921875,
          5121.7599609375,
          5119.08193359375,
          5116.4798828125,
          5135.80390625,
          5147.91396484375,
          5146.53798828125,
          5145.21796875,
          5151.51396484375,
          5152.1619140625,
          5164.02392578125,
          5182.23388671875,
          5205.651953125,
          5219.40595703125,
          5224.42001953125,
          5229.19404296875,
          5231.75810546875,
          5233.67607421875,
          5231.20009765625,
          5232.78212890625,
          5212.52607421875,
          5202.5240234375,
          5194.248046875,
          5195.06806640625,
          5184.898046875,
          5195.26806640625,
          5179.08212890625,
          5150.96806640625,
          5119.26806640625,
          5091.58203125,
          5053.99404296875,
          5022.7580078125,
          5012.5140625,
          5016.3419921875,
          5026.2259765625,
          5033.6859375,
          5060.23193359375,
          5081.3458984375,
          5074.37392578125,
          5063.7259765625,
          5066.88203125,
          5072.448046875,
          5085.362109375,
          5115.76416015625,
          5149.6201171875,
          5179.59609375,
          5198.57412109375,
          5206.71005859375,
          5218.5060546875,
          5242.60205078125,
          5259.2060546875,
          5275.3240234375,
          5292.666015625,
          5307.61201171875,
          5307.383984375,
          5301.53193359375,
          5301.82197265625,
          5301.40400390625,
          5290.51201171875,
          5276.2060546875,
          5278.1400390625,
          5273.8759765625,
          5270.9359375,
          5288.35185546875,
          5311.8478515625,
          5325.7439453125,
          5341.22197265625,
          5358.01796875,
          5371.41796875,
          5387.5740234375,
          5404.49599609375,
          5426.983984375,
          5449.3259765625,
          5459.75400390625,
          5465.92998046875,
          5469.183984375,
          5468.39794921875,
          5466.57197265625,
          5468.51201171875,
          5467.683984375,
          5473.1279296875,
          5481.069921875,
          5492.8939453125,
          5509.75791015625,
          5532.23193359375,
          5552.6099609375,
          5577.5900390625,
          5587.09404296875,
          5596.72607421875,
          5608.40009765625,
          5626.444140625,
          5617.31611328125,
          5609.32607421875,
          5587.2560546875,
          5573.89404296875,
          5551.60205078125,
          5519.3740234375,
          5490.30009765625,
          5481.1201171875,
          5460.94609375,
          5437.08603515625,
          5456.12001953125,
          5465.61201171875,
          5443.10400390625,
          5387.66201171875,
          5348.37998046875,
          5283.82001953125,
          5258.34599609375,
          5257.866015625,
          5289.47802734375,
          5328.35810546875,
          5379.50009765625,
          5424.28212890625,
          5466.30009765625,
          5519.0720703125,
          5551.61005859375,
          5584.7380859375,
          5590.2220703125,
          5606.29404296875,
          5608.01201171875,
          5613.74794921875,
          5608.01396484375,
          5612.2779296875,
          5615.0359375,
          5597.45400390625,
          5576.3080078125,
          5558.55400390625,
          5521.84599609375,
          5486.3759765625,
          5479.6939453125,
          5486.50595703125,
          5504.97587890625,
          5548.4958984375,
          5580.90390625,
          5608.71591796875,
          5621.54189453125,
          5645.11796875,
          5660.42392578125,
          5676.12392578125
         ],
         "yaxis": "y"
        },
        {
         "hovertemplate": "variable=ma25<br>Date=%{x}<br>value=%{y}<extra></extra>",
         "legendgroup": "ma25",
         "line": {
          "color": "#00cc96",
          "dash": "solid"
         },
         "marker": {
          "symbol": "circle"
         },
         "mode": "lines",
         "name": "ma25",
         "orientation": "v",
         "showlegend": true,
         "type": "scatter",
         "x": [
          "2023-09-25T00:00:00-04:00",
          "2023-09-26T00:00:00-04:00",
          "2023-09-27T00:00:00-04:00",
          "2023-09-28T00:00:00-04:00",
          "2023-09-29T00:00:00-04:00",
          "2023-10-02T00:00:00-04:00",
          "2023-10-03T00:00:00-04:00",
          "2023-10-04T00:00:00-04:00",
          "2023-10-05T00:00:00-04:00",
          "2023-10-06T00:00:00-04:00",
          "2023-10-09T00:00:00-04:00",
          "2023-10-10T00:00:00-04:00",
          "2023-10-11T00:00:00-04:00",
          "2023-10-12T00:00:00-04:00",
          "2023-10-13T00:00:00-04:00",
          "2023-10-16T00:00:00-04:00",
          "2023-10-17T00:00:00-04:00",
          "2023-10-18T00:00:00-04:00",
          "2023-10-19T00:00:00-04:00",
          "2023-10-20T00:00:00-04:00",
          "2023-10-23T00:00:00-04:00",
          "2023-10-24T00:00:00-04:00",
          "2023-10-25T00:00:00-04:00",
          "2023-10-26T00:00:00-04:00",
          "2023-10-27T00:00:00-04:00",
          "2023-10-30T00:00:00-04:00",
          "2023-10-31T00:00:00-04:00",
          "2023-11-01T00:00:00-04:00",
          "2023-11-02T00:00:00-04:00",
          "2023-11-03T00:00:00-04:00",
          "2023-11-06T00:00:00-05:00",
          "2023-11-07T00:00:00-05:00",
          "2023-11-08T00:00:00-05:00",
          "2023-11-09T00:00:00-05:00",
          "2023-11-10T00:00:00-05:00",
          "2023-11-13T00:00:00-05:00",
          "2023-11-14T00:00:00-05:00",
          "2023-11-15T00:00:00-05:00",
          "2023-11-16T00:00:00-05:00",
          "2023-11-17T00:00:00-05:00",
          "2023-11-20T00:00:00-05:00",
          "2023-11-21T00:00:00-05:00",
          "2023-11-22T00:00:00-05:00",
          "2023-11-24T00:00:00-05:00",
          "2023-11-27T00:00:00-05:00",
          "2023-11-28T00:00:00-05:00",
          "2023-11-29T00:00:00-05:00",
          "2023-11-30T00:00:00-05:00",
          "2023-12-01T00:00:00-05:00",
          "2023-12-04T00:00:00-05:00",
          "2023-12-05T00:00:00-05:00",
          "2023-12-06T00:00:00-05:00",
          "2023-12-07T00:00:00-05:00",
          "2023-12-08T00:00:00-05:00",
          "2023-12-11T00:00:00-05:00",
          "2023-12-12T00:00:00-05:00",
          "2023-12-13T00:00:00-05:00",
          "2023-12-14T00:00:00-05:00",
          "2023-12-15T00:00:00-05:00",
          "2023-12-18T00:00:00-05:00",
          "2023-12-19T00:00:00-05:00",
          "2023-12-20T00:00:00-05:00",
          "2023-12-21T00:00:00-05:00",
          "2023-12-22T00:00:00-05:00",
          "2023-12-26T00:00:00-05:00",
          "2023-12-27T00:00:00-05:00",
          "2023-12-28T00:00:00-05:00",
          "2023-12-29T00:00:00-05:00",
          "2024-01-02T00:00:00-05:00",
          "2024-01-03T00:00:00-05:00",
          "2024-01-04T00:00:00-05:00",
          "2024-01-05T00:00:00-05:00",
          "2024-01-08T00:00:00-05:00",
          "2024-01-09T00:00:00-05:00",
          "2024-01-10T00:00:00-05:00",
          "2024-01-11T00:00:00-05:00",
          "2024-01-12T00:00:00-05:00",
          "2024-01-16T00:00:00-05:00",
          "2024-01-17T00:00:00-05:00",
          "2024-01-18T00:00:00-05:00",
          "2024-01-19T00:00:00-05:00",
          "2024-01-22T00:00:00-05:00",
          "2024-01-23T00:00:00-05:00",
          "2024-01-24T00:00:00-05:00",
          "2024-01-25T00:00:00-05:00",
          "2024-01-26T00:00:00-05:00",
          "2024-01-29T00:00:00-05:00",
          "2024-01-30T00:00:00-05:00",
          "2024-01-31T00:00:00-05:00",
          "2024-02-01T00:00:00-05:00",
          "2024-02-02T00:00:00-05:00",
          "2024-02-05T00:00:00-05:00",
          "2024-02-06T00:00:00-05:00",
          "2024-02-07T00:00:00-05:00",
          "2024-02-08T00:00:00-05:00",
          "2024-02-09T00:00:00-05:00",
          "2024-02-12T00:00:00-05:00",
          "2024-02-13T00:00:00-05:00",
          "2024-02-14T00:00:00-05:00",
          "2024-02-15T00:00:00-05:00",
          "2024-02-16T00:00:00-05:00",
          "2024-02-20T00:00:00-05:00",
          "2024-02-21T00:00:00-05:00",
          "2024-02-22T00:00:00-05:00",
          "2024-02-23T00:00:00-05:00",
          "2024-02-26T00:00:00-05:00",
          "2024-02-27T00:00:00-05:00",
          "2024-02-28T00:00:00-05:00",
          "2024-02-29T00:00:00-05:00",
          "2024-03-01T00:00:00-05:00",
          "2024-03-04T00:00:00-05:00",
          "2024-03-05T00:00:00-05:00",
          "2024-03-06T00:00:00-05:00",
          "2024-03-07T00:00:00-05:00",
          "2024-03-08T00:00:00-05:00",
          "2024-03-11T00:00:00-04:00",
          "2024-03-12T00:00:00-04:00",
          "2024-03-13T00:00:00-04:00",
          "2024-03-14T00:00:00-04:00",
          "2024-03-15T00:00:00-04:00",
          "2024-03-18T00:00:00-04:00",
          "2024-03-19T00:00:00-04:00",
          "2024-03-20T00:00:00-04:00",
          "2024-03-21T00:00:00-04:00",
          "2024-03-22T00:00:00-04:00",
          "2024-03-25T00:00:00-04:00",
          "2024-03-26T00:00:00-04:00",
          "2024-03-27T00:00:00-04:00",
          "2024-03-28T00:00:00-04:00",
          "2024-04-01T00:00:00-04:00",
          "2024-04-02T00:00:00-04:00",
          "2024-04-03T00:00:00-04:00",
          "2024-04-04T00:00:00-04:00",
          "2024-04-05T00:00:00-04:00",
          "2024-04-08T00:00:00-04:00",
          "2024-04-09T00:00:00-04:00",
          "2024-04-10T00:00:00-04:00",
          "2024-04-11T00:00:00-04:00",
          "2024-04-12T00:00:00-04:00",
          "2024-04-15T00:00:00-04:00",
          "2024-04-16T00:00:00-04:00",
          "2024-04-17T00:00:00-04:00",
          "2024-04-18T00:00:00-04:00",
          "2024-04-19T00:00:00-04:00",
          "2024-04-22T00:00:00-04:00",
          "2024-04-23T00:00:00-04:00",
          "2024-04-24T00:00:00-04:00",
          "2024-04-25T00:00:00-04:00",
          "2024-04-26T00:00:00-04:00",
          "2024-04-29T00:00:00-04:00",
          "2024-04-30T00:00:00-04:00",
          "2024-05-01T00:00:00-04:00",
          "2024-05-02T00:00:00-04:00",
          "2024-05-03T00:00:00-04:00",
          "2024-05-06T00:00:00-04:00",
          "2024-05-07T00:00:00-04:00",
          "2024-05-08T00:00:00-04:00",
          "2024-05-09T00:00:00-04:00",
          "2024-05-10T00:00:00-04:00",
          "2024-05-13T00:00:00-04:00",
          "2024-05-14T00:00:00-04:00",
          "2024-05-15T00:00:00-04:00",
          "2024-05-16T00:00:00-04:00",
          "2024-05-17T00:00:00-04:00",
          "2024-05-20T00:00:00-04:00",
          "2024-05-21T00:00:00-04:00",
          "2024-05-22T00:00:00-04:00",
          "2024-05-23T00:00:00-04:00",
          "2024-05-24T00:00:00-04:00",
          "2024-05-28T00:00:00-04:00",
          "2024-05-29T00:00:00-04:00",
          "2024-05-30T00:00:00-04:00",
          "2024-05-31T00:00:00-04:00",
          "2024-06-03T00:00:00-04:00",
          "2024-06-04T00:00:00-04:00",
          "2024-06-05T00:00:00-04:00",
          "2024-06-06T00:00:00-04:00",
          "2024-06-07T00:00:00-04:00",
          "2024-06-10T00:00:00-04:00",
          "2024-06-11T00:00:00-04:00",
          "2024-06-12T00:00:00-04:00",
          "2024-06-13T00:00:00-04:00",
          "2024-06-14T00:00:00-04:00",
          "2024-06-17T00:00:00-04:00",
          "2024-06-18T00:00:00-04:00",
          "2024-06-20T00:00:00-04:00",
          "2024-06-21T00:00:00-04:00",
          "2024-06-24T00:00:00-04:00",
          "2024-06-25T00:00:00-04:00",
          "2024-06-26T00:00:00-04:00",
          "2024-06-27T00:00:00-04:00",
          "2024-06-28T00:00:00-04:00",
          "2024-07-01T00:00:00-04:00",
          "2024-07-02T00:00:00-04:00",
          "2024-07-03T00:00:00-04:00",
          "2024-07-05T00:00:00-04:00",
          "2024-07-08T00:00:00-04:00",
          "2024-07-09T00:00:00-04:00",
          "2024-07-10T00:00:00-04:00",
          "2024-07-11T00:00:00-04:00",
          "2024-07-12T00:00:00-04:00",
          "2024-07-15T00:00:00-04:00",
          "2024-07-16T00:00:00-04:00",
          "2024-07-17T00:00:00-04:00",
          "2024-07-18T00:00:00-04:00",
          "2024-07-19T00:00:00-04:00",
          "2024-07-22T00:00:00-04:00",
          "2024-07-23T00:00:00-04:00",
          "2024-07-24T00:00:00-04:00",
          "2024-07-25T00:00:00-04:00",
          "2024-07-26T00:00:00-04:00",
          "2024-07-29T00:00:00-04:00",
          "2024-07-30T00:00:00-04:00",
          "2024-07-31T00:00:00-04:00",
          "2024-08-01T00:00:00-04:00",
          "2024-08-02T00:00:00-04:00",
          "2024-08-05T00:00:00-04:00",
          "2024-08-06T00:00:00-04:00",
          "2024-08-07T00:00:00-04:00",
          "2024-08-08T00:00:00-04:00",
          "2024-08-09T00:00:00-04:00",
          "2024-08-12T00:00:00-04:00",
          "2024-08-13T00:00:00-04:00",
          "2024-08-14T00:00:00-04:00",
          "2024-08-15T00:00:00-04:00",
          "2024-08-16T00:00:00-04:00",
          "2024-08-19T00:00:00-04:00",
          "2024-08-20T00:00:00-04:00",
          "2024-08-21T00:00:00-04:00",
          "2024-08-22T00:00:00-04:00",
          "2024-08-23T00:00:00-04:00",
          "2024-08-26T00:00:00-04:00",
          "2024-08-27T00:00:00-04:00",
          "2024-08-28T00:00:00-04:00",
          "2024-08-29T00:00:00-04:00",
          "2024-08-30T00:00:00-04:00",
          "2024-09-03T00:00:00-04:00",
          "2024-09-04T00:00:00-04:00",
          "2024-09-05T00:00:00-04:00",
          "2024-09-06T00:00:00-04:00",
          "2024-09-09T00:00:00-04:00",
          "2024-09-10T00:00:00-04:00",
          "2024-09-11T00:00:00-04:00",
          "2024-09-12T00:00:00-04:00",
          "2024-09-13T00:00:00-04:00",
          "2024-09-16T00:00:00-04:00",
          "2024-09-17T00:00:00-04:00",
          "2024-09-18T00:00:00-04:00",
          "2024-09-19T00:00:00-04:00",
          "2024-09-20T00:00:00-04:00",
          "2024-09-23T00:00:00-04:00"
         ],
         "xaxis": "x",
         "y": [
          4440.19720703125,
          4435.14759765625,
          4430.62599609375,
          4425.17361328125,
          4421.643203125,
          4416.95041015625,
          4408.796015625,
          4399.4408203125,
          4389.17361328125,
          4381.20720703125,
          4374.0028125,
          4368.45921875,
          4364.91802734375,
          4360.85681640625,
          4355.6683984375,
          4351.1151953125,
          4347.56720703125,
          4341.45361328125,
          4332.369609375,
          4323.32322265625,
          4313.8636328125,
          4306.01283203125,
          4297.395625,
          4289.68482421875,
          4281.5772265625,
          4274.752421875,
          4271.56322265625,
          4270.0972265625,
          4270.82041015625,
          4273.63201171875,
          4276.73560546875,
          4282.69279296875,
          4287.453984375,
          4291.020390625,
          4295.29,
          4298.3255859375,
          4303.823984375,
          4308.861171875,
          4315.20638671875,
          4322.65599609375,
          4329.60599609375,
          4336.2055859375,
          4345.88638671875,
          4357.13998046875,
          4370.19078125,
          4383.70478515625,
          4395.82078125,
          4411.06197265625,
          4429.35796875,
          4447.45435546875,
          4463.46876953125,
          4477.69037109375,
          4491.5995703125,
          4503.06318359375,
          4513.6271875,
          4524.73599609375,
          4537.88439453125,
          4551.3551953125,
          4566.2287890625,
          4579.24158203125,
          4593.51439453125,
          4601.620390625,
          4611.3751953125,
          4621.23078125,
          4631.65998046875,
          4641.02798828125,
          4650.83439453125,
          4659.36279296875,
          4666.70240234375,
          4672.87759765625,
          4678.22919921875,
          4684.09560546875,
          4691.92521484375,
          4698.40001953125,
          4706.9468359375,
          4715.46923828125,
          4724.84884765625,
          4732.064453125,
          4737.458046875,
          4743.798046875,
          4751.64244140625,
          4757.3760546875,
          4763.17806640625,
          4769.1524609375,
          4775.29646484375,
          4780.20046875,
          4789.383671875,
          4796.51248046875,
          4800.15328125,
          4805.41087890625,
          4812.4920703125,
          4818.87046875,
          4826.24646484375,
          4836.3356640625,
          4848.05966796875,
          4861.57685546875,
          4874.56083984375,
          4882.14603515625,
          4891.91083984375,
          4901.76203125,
          4910.77521484375,
          4918.44240234375,
          4927.0751953125,
          4940.98798828125,
          4953.3023828125,
          4962.491171875,
          4971.601171875,
          4979.80755859375,
          4988.9163671875,
          4998.6331640625,
          5008.23236328125,
          5014.26115234375,
          5021.452734375,
          5033.9211328125,
          5042.6211328125,
          5048.9943359375,
          5058.292734375,
          5066.7359375,
          5072.952734375,
          5077.719921875,
          5082.63232421875,
          5088.89912109375,
          5099.75712890625,
          5109.393515625,
          5117.5715234375,
          5126.076328125,
          5135.199140625,
          5145.8667578125,
          5152.5595703125,
          5158.75837890625,
          5164.20958984375,
          5169.5419921875,
          5172.64,
          5176.96279296875,
          5179.5751953125,
          5182.73359375,
          5186.013203125,
          5189.78521484375,
          5188.4272265625,
          5185.952421875,
          5183.29123046875,
          5177.168828125,
          5171.00123046875,
          5163.67123046875,
          5159.411640625,
          5156.2568359375,
          5151.981640625,
          5144.9336328125,
          5139.27083984375,
          5134.5504296875,
          5127.2504296875,
          5119.84283203125,
          5112.47123046875,
          5107.408828125,
          5104.88763671875,
          5104.1632421875,
          5103.2104296875,
          5105.885234375,
          5106.61884765625,
          5107.3800390625,
          5108.85083984375,
          5114.75123046875,
          5118.67283203125,
          5125.8672265625,
          5135.71962890625,
          5146.51962890625,
          5157.91162109375,
          5168.18041015625,
          5181.68001953125,
          5193.4976171875,
          5201.3536328125,
          5207.90763671875,
          5217.07123046875,
          5224.408828125,
          5231.415625,
          5244.14921875,
          5257.53201171875,
          5268.84361328125,
          5278.16361328125,
          5285.946796875,
          5295.27998046875,
          5305.12279296875,
          5313.82359375,
          5323.8455859375,
          5334.46998046875,
          5343.5295703125,
          5349.78837890625,
          5355.8191796875,
          5362.46037109375,
          5369.251171875,
          5375.7095703125,
          5381.84837890625,
          5390.13837890625,
          5398.3099609375,
          5407.54916015625,
          5419.55875,
          5433.0535546875,
          5445.03236328125,
          5459.0527734375,
          5470.78078125,
          5481.23359375,
          5492.36400390625,
          5505.17240234375,
          5514.2716015625,
          5521.04240234375,
          5524.4012109375,
          5529.6280078125,
          5534.59361328125,
          5532.749609375,
          5529.2372265625,
          5528.67443359375,
          5528.63123046875,
          5528.1740234375,
          5530.2940234375,
          5529.045234375,
          5523.59283203125,
          5512.6268359375,
          5503.22443359375,
          5490.84404296875,
          5482.13564453125,
          5473.214453125,
          5464.0760546875,
          5458.3740625,
          5451.2260546875,
          5449.57326171875,
          5447.1292578125,
          5446.21044921875,
          5443.40724609375,
          5444.71044921875,
          5445.7524609375,
          5450.93685546875,
          5453.03404296875,
          5455.83642578125,
          5462.4384375,
          5470.14802734375,
          5477.72001953125,
          5480.335625,
          5483.6808203125,
          5482.925234375,
          5481.39482421875,
          5486.3744140625,
          5498.74201171875,
          5511.306015625,
          5527.15640625,
          5539.4248046875,
          5550.9819921875,
          5562.58958984375,
          5569.9427734375,
          5580.27998046875,
          5586.6531640625,
          5592.9467578125
         ],
         "yaxis": "y"
        },
        {
         "marker": {
          "color": "green",
          "opacity": 0.8,
          "size": 15,
          "symbol": "triangle-up"
         },
         "mode": "markers",
         "name": "Golden Cross",
         "type": "scatter",
         "x": [
          "2023-09-25T00:00:00-04:00",
          "2023-09-26T00:00:00-04:00",
          "2023-09-27T00:00:00-04:00",
          "2023-09-28T00:00:00-04:00",
          "2023-09-29T00:00:00-04:00",
          "2023-10-02T00:00:00-04:00",
          "2023-10-03T00:00:00-04:00",
          "2023-10-04T00:00:00-04:00",
          "2023-10-05T00:00:00-04:00",
          "2023-10-06T00:00:00-04:00",
          "2023-10-09T00:00:00-04:00",
          "2023-10-10T00:00:00-04:00",
          "2023-10-11T00:00:00-04:00",
          "2023-10-12T00:00:00-04:00",
          "2023-10-13T00:00:00-04:00",
          "2023-10-16T00:00:00-04:00",
          "2023-10-17T00:00:00-04:00",
          "2023-10-18T00:00:00-04:00",
          "2023-10-19T00:00:00-04:00",
          "2023-10-20T00:00:00-04:00",
          "2023-10-23T00:00:00-04:00",
          "2023-10-24T00:00:00-04:00",
          "2023-10-25T00:00:00-04:00",
          "2023-10-26T00:00:00-04:00",
          "2023-10-27T00:00:00-04:00",
          "2023-10-30T00:00:00-04:00",
          "2023-10-31T00:00:00-04:00",
          "2023-11-01T00:00:00-04:00",
          "2023-11-02T00:00:00-04:00",
          "2023-11-03T00:00:00-04:00",
          "2023-11-06T00:00:00-05:00",
          "2023-11-07T00:00:00-05:00",
          "2023-11-08T00:00:00-05:00",
          "2023-11-09T00:00:00-05:00",
          "2023-11-10T00:00:00-05:00",
          "2023-11-13T00:00:00-05:00",
          "2023-11-14T00:00:00-05:00",
          "2023-11-15T00:00:00-05:00",
          "2023-11-16T00:00:00-05:00",
          "2023-11-17T00:00:00-05:00",
          "2023-11-20T00:00:00-05:00",
          "2023-11-21T00:00:00-05:00",
          "2023-11-22T00:00:00-05:00",
          "2023-11-24T00:00:00-05:00",
          "2023-11-27T00:00:00-05:00",
          "2023-11-28T00:00:00-05:00",
          "2023-11-29T00:00:00-05:00",
          "2023-11-30T00:00:00-05:00",
          "2023-12-01T00:00:00-05:00",
          "2023-12-04T00:00:00-05:00",
          "2023-12-05T00:00:00-05:00",
          "2023-12-06T00:00:00-05:00",
          "2023-12-07T00:00:00-05:00",
          "2023-12-08T00:00:00-05:00",
          "2023-12-11T00:00:00-05:00",
          "2023-12-12T00:00:00-05:00",
          "2023-12-13T00:00:00-05:00",
          "2023-12-14T00:00:00-05:00",
          "2023-12-15T00:00:00-05:00",
          "2023-12-18T00:00:00-05:00",
          "2023-12-19T00:00:00-05:00",
          "2023-12-20T00:00:00-05:00",
          "2023-12-21T00:00:00-05:00",
          "2023-12-22T00:00:00-05:00",
          "2023-12-26T00:00:00-05:00",
          "2023-12-27T00:00:00-05:00",
          "2023-12-28T00:00:00-05:00",
          "2023-12-29T00:00:00-05:00",
          "2024-01-02T00:00:00-05:00",
          "2024-01-03T00:00:00-05:00",
          "2024-01-04T00:00:00-05:00",
          "2024-01-05T00:00:00-05:00",
          "2024-01-08T00:00:00-05:00",
          "2024-01-09T00:00:00-05:00",
          "2024-01-10T00:00:00-05:00",
          "2024-01-11T00:00:00-05:00",
          "2024-01-12T00:00:00-05:00",
          "2024-01-16T00:00:00-05:00",
          "2024-01-17T00:00:00-05:00",
          "2024-01-18T00:00:00-05:00",
          "2024-01-19T00:00:00-05:00",
          "2024-01-22T00:00:00-05:00",
          "2024-01-23T00:00:00-05:00",
          "2024-01-24T00:00:00-05:00",
          "2024-01-25T00:00:00-05:00",
          "2024-01-26T00:00:00-05:00",
          "2024-01-29T00:00:00-05:00",
          "2024-01-30T00:00:00-05:00",
          "2024-01-31T00:00:00-05:00",
          "2024-02-01T00:00:00-05:00",
          "2024-02-02T00:00:00-05:00",
          "2024-02-05T00:00:00-05:00",
          "2024-02-06T00:00:00-05:00",
          "2024-02-07T00:00:00-05:00",
          "2024-02-08T00:00:00-05:00",
          "2024-02-09T00:00:00-05:00",
          "2024-02-12T00:00:00-05:00",
          "2024-02-13T00:00:00-05:00",
          "2024-02-14T00:00:00-05:00",
          "2024-02-15T00:00:00-05:00",
          "2024-02-16T00:00:00-05:00",
          "2024-02-20T00:00:00-05:00",
          "2024-02-21T00:00:00-05:00",
          "2024-02-22T00:00:00-05:00",
          "2024-02-23T00:00:00-05:00",
          "2024-02-26T00:00:00-05:00",
          "2024-02-27T00:00:00-05:00",
          "2024-02-28T00:00:00-05:00",
          "2024-02-29T00:00:00-05:00",
          "2024-03-01T00:00:00-05:00",
          "2024-03-04T00:00:00-05:00",
          "2024-03-05T00:00:00-05:00",
          "2024-03-06T00:00:00-05:00",
          "2024-03-07T00:00:00-05:00",
          "2024-03-08T00:00:00-05:00",
          "2024-03-11T00:00:00-04:00",
          "2024-03-12T00:00:00-04:00",
          "2024-03-13T00:00:00-04:00",
          "2024-03-14T00:00:00-04:00",
          "2024-03-15T00:00:00-04:00",
          "2024-03-18T00:00:00-04:00",
          "2024-03-19T00:00:00-04:00",
          "2024-03-20T00:00:00-04:00",
          "2024-03-21T00:00:00-04:00",
          "2024-03-22T00:00:00-04:00",
          "2024-03-25T00:00:00-04:00",
          "2024-03-26T00:00:00-04:00",
          "2024-03-27T00:00:00-04:00",
          "2024-03-28T00:00:00-04:00",
          "2024-04-01T00:00:00-04:00",
          "2024-04-02T00:00:00-04:00",
          "2024-04-03T00:00:00-04:00",
          "2024-04-04T00:00:00-04:00",
          "2024-04-05T00:00:00-04:00",
          "2024-04-08T00:00:00-04:00",
          "2024-04-09T00:00:00-04:00",
          "2024-04-10T00:00:00-04:00",
          "2024-04-11T00:00:00-04:00",
          "2024-04-12T00:00:00-04:00",
          "2024-04-15T00:00:00-04:00",
          "2024-04-16T00:00:00-04:00",
          "2024-04-17T00:00:00-04:00",
          "2024-04-18T00:00:00-04:00",
          "2024-04-19T00:00:00-04:00",
          "2024-04-22T00:00:00-04:00",
          "2024-04-23T00:00:00-04:00",
          "2024-04-24T00:00:00-04:00",
          "2024-04-25T00:00:00-04:00",
          "2024-04-26T00:00:00-04:00",
          "2024-04-29T00:00:00-04:00",
          "2024-04-30T00:00:00-04:00",
          "2024-05-01T00:00:00-04:00",
          "2024-05-02T00:00:00-04:00",
          "2024-05-03T00:00:00-04:00",
          "2024-05-06T00:00:00-04:00",
          "2024-05-07T00:00:00-04:00",
          "2024-05-08T00:00:00-04:00",
          "2024-05-09T00:00:00-04:00",
          "2024-05-10T00:00:00-04:00",
          "2024-05-13T00:00:00-04:00",
          "2024-05-14T00:00:00-04:00",
          "2024-05-15T00:00:00-04:00",
          "2024-05-16T00:00:00-04:00",
          "2024-05-17T00:00:00-04:00",
          "2024-05-20T00:00:00-04:00",
          "2024-05-21T00:00:00-04:00",
          "2024-05-22T00:00:00-04:00",
          "2024-05-23T00:00:00-04:00",
          "2024-05-24T00:00:00-04:00",
          "2024-05-28T00:00:00-04:00",
          "2024-05-29T00:00:00-04:00",
          "2024-05-30T00:00:00-04:00",
          "2024-05-31T00:00:00-04:00",
          "2024-06-03T00:00:00-04:00",
          "2024-06-04T00:00:00-04:00",
          "2024-06-05T00:00:00-04:00",
          "2024-06-06T00:00:00-04:00",
          "2024-06-07T00:00:00-04:00",
          "2024-06-10T00:00:00-04:00",
          "2024-06-11T00:00:00-04:00",
          "2024-06-12T00:00:00-04:00",
          "2024-06-13T00:00:00-04:00",
          "2024-06-14T00:00:00-04:00",
          "2024-06-17T00:00:00-04:00",
          "2024-06-18T00:00:00-04:00",
          "2024-06-20T00:00:00-04:00",
          "2024-06-21T00:00:00-04:00",
          "2024-06-24T00:00:00-04:00",
          "2024-06-25T00:00:00-04:00",
          "2024-06-26T00:00:00-04:00",
          "2024-06-27T00:00:00-04:00",
          "2024-06-28T00:00:00-04:00",
          "2024-07-01T00:00:00-04:00",
          "2024-07-02T00:00:00-04:00",
          "2024-07-03T00:00:00-04:00",
          "2024-07-05T00:00:00-04:00",
          "2024-07-08T00:00:00-04:00",
          "2024-07-09T00:00:00-04:00",
          "2024-07-10T00:00:00-04:00",
          "2024-07-11T00:00:00-04:00",
          "2024-07-12T00:00:00-04:00",
          "2024-07-15T00:00:00-04:00",
          "2024-07-16T00:00:00-04:00",
          "2024-07-17T00:00:00-04:00",
          "2024-07-18T00:00:00-04:00",
          "2024-07-19T00:00:00-04:00",
          "2024-07-22T00:00:00-04:00",
          "2024-07-23T00:00:00-04:00",
          "2024-07-24T00:00:00-04:00",
          "2024-07-25T00:00:00-04:00",
          "2024-07-26T00:00:00-04:00",
          "2024-07-29T00:00:00-04:00",
          "2024-07-30T00:00:00-04:00",
          "2024-07-31T00:00:00-04:00",
          "2024-08-01T00:00:00-04:00",
          "2024-08-02T00:00:00-04:00",
          "2024-08-05T00:00:00-04:00",
          "2024-08-06T00:00:00-04:00",
          "2024-08-07T00:00:00-04:00",
          "2024-08-08T00:00:00-04:00",
          "2024-08-09T00:00:00-04:00",
          "2024-08-12T00:00:00-04:00",
          "2024-08-13T00:00:00-04:00",
          "2024-08-14T00:00:00-04:00",
          "2024-08-15T00:00:00-04:00",
          "2024-08-16T00:00:00-04:00",
          "2024-08-19T00:00:00-04:00",
          "2024-08-20T00:00:00-04:00",
          "2024-08-21T00:00:00-04:00",
          "2024-08-22T00:00:00-04:00",
          "2024-08-23T00:00:00-04:00",
          "2024-08-26T00:00:00-04:00",
          "2024-08-27T00:00:00-04:00",
          "2024-08-28T00:00:00-04:00",
          "2024-08-29T00:00:00-04:00",
          "2024-08-30T00:00:00-04:00",
          "2024-09-03T00:00:00-04:00",
          "2024-09-04T00:00:00-04:00",
          "2024-09-05T00:00:00-04:00",
          "2024-09-06T00:00:00-04:00",
          "2024-09-09T00:00:00-04:00",
          "2024-09-10T00:00:00-04:00",
          "2024-09-11T00:00:00-04:00",
          "2024-09-12T00:00:00-04:00",
          "2024-09-13T00:00:00-04:00",
          "2024-09-16T00:00:00-04:00",
          "2024-09-17T00:00:00-04:00",
          "2024-09-18T00:00:00-04:00",
          "2024-09-19T00:00:00-04:00",
          "2024-09-20T00:00:00-04:00",
          "2024-09-23T00:00:00-04:00"
         ],
         "y": [
          null,
          null,
          null,
          null,
          null,
          null,
          null,
          null,
          null,
          null,
          null,
          null,
          null,
          null,
          null,
          4357.2419921875,
          null,
          null,
          null,
          null,
          null,
          null,
          null,
          null,
          null,
          null,
          null,
          null,
          null,
          null,
          4294.75185546875,
          null,
          null,
          null,
          null,
          null,
          null,
          null,
          null,
          null,
          null,
          null,
          null,
          null,
          null,
          null,
          null,
          null,
          null,
          null,
          null,
          null,
          null,
          null,
          null,
          null,
          null,
          null,
          null,
          null,
          null,
          null,
          null,
          null,
          null,
          null,
          null,
          null,
          null,
          null,
          null,
          null,
          null,
          null,
          null,
          null,
          null,
          null,
          null,
          null,
          null,
          null,
          null,
          null,
          null,
          null,
          null,
          null,
          null,
          null,
          null,
          null,
          null,
          null,
          null,
          null,
          null,
          null,
          null,
          null,
          null,
          null,
          null,
          null,
          null,
          null,
          null,
          null,
          null,
          null,
          null,
          null,
          null,
          null,
          null,
          null,
          null,
          null,
          null,
          null,
          null,
          null,
          null,
          null,
          null,
          null,
          null,
          null,
          null,
          null,
          null,
          null,
          null,
          null,
          null,
          null,
          null,
          5195.26806640625,
          null,
          null,
          null,
          null,
          null,
          null,
          null,
          null,
          null,
          null,
          null,
          null,
          null,
          null,
          null,
          null,
          null,
          5115.76416015625,
          null,
          null,
          null,
          null,
          null,
          null,
          null,
          null,
          null,
          null,
          null,
          null,
          null,
          null,
          null,
          null,
          null,
          null,
          null,
          null,
          null,
          null,
          null,
          null,
          null,
          null,
          null,
          null,
          null,
          null,
          null,
          null,
          null,
          null,
          null,
          null,
          null,
          null,
          null,
          null,
          null,
          null,
          null,
          null,
          null,
          null,
          null,
          null,
          null,
          null,
          null,
          null,
          null,
          null,
          null,
          null,
          null,
          null,
          null,
          null,
          null,
          null,
          null,
          null,
          null,
          null,
          null,
          null,
          null,
          5466.30009765625,
          null,
          null,
          null,
          null,
          null,
          null,
          null,
          null,
          null,
          null,
          null,
          null,
          null,
          null,
          null,
          null,
          null,
          null,
          5548.4958984375,
          null,
          null,
          null,
          null,
          null,
          null
         ]
        },
        {
         "marker": {
          "color": "red",
          "opacity": 0.8,
          "size": 15,
          "symbol": "triangle-down"
         },
         "mode": "markers",
         "name": "Dead Cross",
         "type": "scatter",
         "x": [
          "2023-09-25T00:00:00-04:00",
          "2023-09-26T00:00:00-04:00",
          "2023-09-27T00:00:00-04:00",
          "2023-09-28T00:00:00-04:00",
          "2023-09-29T00:00:00-04:00",
          "2023-10-02T00:00:00-04:00",
          "2023-10-03T00:00:00-04:00",
          "2023-10-04T00:00:00-04:00",
          "2023-10-05T00:00:00-04:00",
          "2023-10-06T00:00:00-04:00",
          "2023-10-09T00:00:00-04:00",
          "2023-10-10T00:00:00-04:00",
          "2023-10-11T00:00:00-04:00",
          "2023-10-12T00:00:00-04:00",
          "2023-10-13T00:00:00-04:00",
          "2023-10-16T00:00:00-04:00",
          "2023-10-17T00:00:00-04:00",
          "2023-10-18T00:00:00-04:00",
          "2023-10-19T00:00:00-04:00",
          "2023-10-20T00:00:00-04:00",
          "2023-10-23T00:00:00-04:00",
          "2023-10-24T00:00:00-04:00",
          "2023-10-25T00:00:00-04:00",
          "2023-10-26T00:00:00-04:00",
          "2023-10-27T00:00:00-04:00",
          "2023-10-30T00:00:00-04:00",
          "2023-10-31T00:00:00-04:00",
          "2023-11-01T00:00:00-04:00",
          "2023-11-02T00:00:00-04:00",
          "2023-11-03T00:00:00-04:00",
          "2023-11-06T00:00:00-05:00",
          "2023-11-07T00:00:00-05:00",
          "2023-11-08T00:00:00-05:00",
          "2023-11-09T00:00:00-05:00",
          "2023-11-10T00:00:00-05:00",
          "2023-11-13T00:00:00-05:00",
          "2023-11-14T00:00:00-05:00",
          "2023-11-15T00:00:00-05:00",
          "2023-11-16T00:00:00-05:00",
          "2023-11-17T00:00:00-05:00",
          "2023-11-20T00:00:00-05:00",
          "2023-11-21T00:00:00-05:00",
          "2023-11-22T00:00:00-05:00",
          "2023-11-24T00:00:00-05:00",
          "2023-11-27T00:00:00-05:00",
          "2023-11-28T00:00:00-05:00",
          "2023-11-29T00:00:00-05:00",
          "2023-11-30T00:00:00-05:00",
          "2023-12-01T00:00:00-05:00",
          "2023-12-04T00:00:00-05:00",
          "2023-12-05T00:00:00-05:00",
          "2023-12-06T00:00:00-05:00",
          "2023-12-07T00:00:00-05:00",
          "2023-12-08T00:00:00-05:00",
          "2023-12-11T00:00:00-05:00",
          "2023-12-12T00:00:00-05:00",
          "2023-12-13T00:00:00-05:00",
          "2023-12-14T00:00:00-05:00",
          "2023-12-15T00:00:00-05:00",
          "2023-12-18T00:00:00-05:00",
          "2023-12-19T00:00:00-05:00",
          "2023-12-20T00:00:00-05:00",
          "2023-12-21T00:00:00-05:00",
          "2023-12-22T00:00:00-05:00",
          "2023-12-26T00:00:00-05:00",
          "2023-12-27T00:00:00-05:00",
          "2023-12-28T00:00:00-05:00",
          "2023-12-29T00:00:00-05:00",
          "2024-01-02T00:00:00-05:00",
          "2024-01-03T00:00:00-05:00",
          "2024-01-04T00:00:00-05:00",
          "2024-01-05T00:00:00-05:00",
          "2024-01-08T00:00:00-05:00",
          "2024-01-09T00:00:00-05:00",
          "2024-01-10T00:00:00-05:00",
          "2024-01-11T00:00:00-05:00",
          "2024-01-12T00:00:00-05:00",
          "2024-01-16T00:00:00-05:00",
          "2024-01-17T00:00:00-05:00",
          "2024-01-18T00:00:00-05:00",
          "2024-01-19T00:00:00-05:00",
          "2024-01-22T00:00:00-05:00",
          "2024-01-23T00:00:00-05:00",
          "2024-01-24T00:00:00-05:00",
          "2024-01-25T00:00:00-05:00",
          "2024-01-26T00:00:00-05:00",
          "2024-01-29T00:00:00-05:00",
          "2024-01-30T00:00:00-05:00",
          "2024-01-31T00:00:00-05:00",
          "2024-02-01T00:00:00-05:00",
          "2024-02-02T00:00:00-05:00",
          "2024-02-05T00:00:00-05:00",
          "2024-02-06T00:00:00-05:00",
          "2024-02-07T00:00:00-05:00",
          "2024-02-08T00:00:00-05:00",
          "2024-02-09T00:00:00-05:00",
          "2024-02-12T00:00:00-05:00",
          "2024-02-13T00:00:00-05:00",
          "2024-02-14T00:00:00-05:00",
          "2024-02-15T00:00:00-05:00",
          "2024-02-16T00:00:00-05:00",
          "2024-02-20T00:00:00-05:00",
          "2024-02-21T00:00:00-05:00",
          "2024-02-22T00:00:00-05:00",
          "2024-02-23T00:00:00-05:00",
          "2024-02-26T00:00:00-05:00",
          "2024-02-27T00:00:00-05:00",
          "2024-02-28T00:00:00-05:00",
          "2024-02-29T00:00:00-05:00",
          "2024-03-01T00:00:00-05:00",
          "2024-03-04T00:00:00-05:00",
          "2024-03-05T00:00:00-05:00",
          "2024-03-06T00:00:00-05:00",
          "2024-03-07T00:00:00-05:00",
          "2024-03-08T00:00:00-05:00",
          "2024-03-11T00:00:00-04:00",
          "2024-03-12T00:00:00-04:00",
          "2024-03-13T00:00:00-04:00",
          "2024-03-14T00:00:00-04:00",
          "2024-03-15T00:00:00-04:00",
          "2024-03-18T00:00:00-04:00",
          "2024-03-19T00:00:00-04:00",
          "2024-03-20T00:00:00-04:00",
          "2024-03-21T00:00:00-04:00",
          "2024-03-22T00:00:00-04:00",
          "2024-03-25T00:00:00-04:00",
          "2024-03-26T00:00:00-04:00",
          "2024-03-27T00:00:00-04:00",
          "2024-03-28T00:00:00-04:00",
          "2024-04-01T00:00:00-04:00",
          "2024-04-02T00:00:00-04:00",
          "2024-04-03T00:00:00-04:00",
          "2024-04-04T00:00:00-04:00",
          "2024-04-05T00:00:00-04:00",
          "2024-04-08T00:00:00-04:00",
          "2024-04-09T00:00:00-04:00",
          "2024-04-10T00:00:00-04:00",
          "2024-04-11T00:00:00-04:00",
          "2024-04-12T00:00:00-04:00",
          "2024-04-15T00:00:00-04:00",
          "2024-04-16T00:00:00-04:00",
          "2024-04-17T00:00:00-04:00",
          "2024-04-18T00:00:00-04:00",
          "2024-04-19T00:00:00-04:00",
          "2024-04-22T00:00:00-04:00",
          "2024-04-23T00:00:00-04:00",
          "2024-04-24T00:00:00-04:00",
          "2024-04-25T00:00:00-04:00",
          "2024-04-26T00:00:00-04:00",
          "2024-04-29T00:00:00-04:00",
          "2024-04-30T00:00:00-04:00",
          "2024-05-01T00:00:00-04:00",
          "2024-05-02T00:00:00-04:00",
          "2024-05-03T00:00:00-04:00",
          "2024-05-06T00:00:00-04:00",
          "2024-05-07T00:00:00-04:00",
          "2024-05-08T00:00:00-04:00",
          "2024-05-09T00:00:00-04:00",
          "2024-05-10T00:00:00-04:00",
          "2024-05-13T00:00:00-04:00",
          "2024-05-14T00:00:00-04:00",
          "2024-05-15T00:00:00-04:00",
          "2024-05-16T00:00:00-04:00",
          "2024-05-17T00:00:00-04:00",
          "2024-05-20T00:00:00-04:00",
          "2024-05-21T00:00:00-04:00",
          "2024-05-22T00:00:00-04:00",
          "2024-05-23T00:00:00-04:00",
          "2024-05-24T00:00:00-04:00",
          "2024-05-28T00:00:00-04:00",
          "2024-05-29T00:00:00-04:00",
          "2024-05-30T00:00:00-04:00",
          "2024-05-31T00:00:00-04:00",
          "2024-06-03T00:00:00-04:00",
          "2024-06-04T00:00:00-04:00",
          "2024-06-05T00:00:00-04:00",
          "2024-06-06T00:00:00-04:00",
          "2024-06-07T00:00:00-04:00",
          "2024-06-10T00:00:00-04:00",
          "2024-06-11T00:00:00-04:00",
          "2024-06-12T00:00:00-04:00",
          "2024-06-13T00:00:00-04:00",
          "2024-06-14T00:00:00-04:00",
          "2024-06-17T00:00:00-04:00",
          "2024-06-18T00:00:00-04:00",
          "2024-06-20T00:00:00-04:00",
          "2024-06-21T00:00:00-04:00",
          "2024-06-24T00:00:00-04:00",
          "2024-06-25T00:00:00-04:00",
          "2024-06-26T00:00:00-04:00",
          "2024-06-27T00:00:00-04:00",
          "2024-06-28T00:00:00-04:00",
          "2024-07-01T00:00:00-04:00",
          "2024-07-02T00:00:00-04:00",
          "2024-07-03T00:00:00-04:00",
          "2024-07-05T00:00:00-04:00",
          "2024-07-08T00:00:00-04:00",
          "2024-07-09T00:00:00-04:00",
          "2024-07-10T00:00:00-04:00",
          "2024-07-11T00:00:00-04:00",
          "2024-07-12T00:00:00-04:00",
          "2024-07-15T00:00:00-04:00",
          "2024-07-16T00:00:00-04:00",
          "2024-07-17T00:00:00-04:00",
          "2024-07-18T00:00:00-04:00",
          "2024-07-19T00:00:00-04:00",
          "2024-07-22T00:00:00-04:00",
          "2024-07-23T00:00:00-04:00",
          "2024-07-24T00:00:00-04:00",
          "2024-07-25T00:00:00-04:00",
          "2024-07-26T00:00:00-04:00",
          "2024-07-29T00:00:00-04:00",
          "2024-07-30T00:00:00-04:00",
          "2024-07-31T00:00:00-04:00",
          "2024-08-01T00:00:00-04:00",
          "2024-08-02T00:00:00-04:00",
          "2024-08-05T00:00:00-04:00",
          "2024-08-06T00:00:00-04:00",
          "2024-08-07T00:00:00-04:00",
          "2024-08-08T00:00:00-04:00",
          "2024-08-09T00:00:00-04:00",
          "2024-08-12T00:00:00-04:00",
          "2024-08-13T00:00:00-04:00",
          "2024-08-14T00:00:00-04:00",
          "2024-08-15T00:00:00-04:00",
          "2024-08-16T00:00:00-04:00",
          "2024-08-19T00:00:00-04:00",
          "2024-08-20T00:00:00-04:00",
          "2024-08-21T00:00:00-04:00",
          "2024-08-22T00:00:00-04:00",
          "2024-08-23T00:00:00-04:00",
          "2024-08-26T00:00:00-04:00",
          "2024-08-27T00:00:00-04:00",
          "2024-08-28T00:00:00-04:00",
          "2024-08-29T00:00:00-04:00",
          "2024-08-30T00:00:00-04:00",
          "2024-09-03T00:00:00-04:00",
          "2024-09-04T00:00:00-04:00",
          "2024-09-05T00:00:00-04:00",
          "2024-09-06T00:00:00-04:00",
          "2024-09-09T00:00:00-04:00",
          "2024-09-10T00:00:00-04:00",
          "2024-09-11T00:00:00-04:00",
          "2024-09-12T00:00:00-04:00",
          "2024-09-13T00:00:00-04:00",
          "2024-09-16T00:00:00-04:00",
          "2024-09-17T00:00:00-04:00",
          "2024-09-18T00:00:00-04:00",
          "2024-09-19T00:00:00-04:00",
          "2024-09-20T00:00:00-04:00",
          "2024-09-23T00:00:00-04:00"
         ],
         "y": [
          null,
          null,
          null,
          null,
          null,
          null,
          null,
          null,
          null,
          null,
          null,
          null,
          null,
          null,
          null,
          null,
          null,
          null,
          null,
          4323.32322265625,
          null,
          null,
          null,
          null,
          null,
          null,
          null,
          null,
          null,
          null,
          null,
          null,
          null,
          null,
          null,
          null,
          null,
          null,
          null,
          null,
          null,
          null,
          null,
          null,
          null,
          null,
          null,
          null,
          null,
          null,
          null,
          null,
          null,
          null,
          null,
          null,
          null,
          null,
          null,
          null,
          null,
          null,
          null,
          null,
          null,
          null,
          null,
          null,
          null,
          null,
          null,
          null,
          null,
          null,
          null,
          null,
          null,
          null,
          null,
          null,
          null,
          null,
          null,
          null,
          null,
          null,
          null,
          null,
          null,
          null,
          null,
          null,
          null,
          null,
          null,
          null,
          null,
          null,
          null,
          null,
          null,
          null,
          null,
          null,
          null,
          null,
          null,
          null,
          null,
          null,
          null,
          null,
          null,
          null,
          null,
          null,
          null,
          null,
          null,
          null,
          null,
          null,
          null,
          null,
          null,
          null,
          null,
          null,
          null,
          null,
          null,
          null,
          null,
          null,
          null,
          null,
          5186.013203125,
          null,
          5188.4272265625,
          null,
          null,
          null,
          null,
          null,
          null,
          null,
          null,
          null,
          null,
          null,
          null,
          null,
          null,
          null,
          null,
          null,
          null,
          null,
          null,
          null,
          null,
          null,
          null,
          null,
          null,
          null,
          null,
          null,
          null,
          null,
          null,
          null,
          null,
          null,
          null,
          null,
          null,
          null,
          null,
          null,
          null,
          null,
          null,
          null,
          null,
          null,
          null,
          null,
          null,
          null,
          null,
          null,
          null,
          null,
          null,
          null,
          null,
          null,
          null,
          null,
          null,
          null,
          null,
          null,
          null,
          null,
          null,
          null,
          5532.749609375,
          null,
          null,
          null,
          null,
          null,
          null,
          null,
          null,
          null,
          null,
          null,
          null,
          null,
          null,
          null,
          null,
          null,
          null,
          null,
          null,
          null,
          null,
          null,
          null,
          null,
          null,
          null,
          null,
          null,
          null,
          null,
          null,
          5498.74201171875,
          null,
          null,
          null,
          null,
          null,
          null,
          null,
          null,
          null
         ]
        }
       ],
       "layout": {
        "autosize": true,
        "legend": {
         "title": {
          "text": "variable"
         },
         "tracegroupgap": 0
        },
        "template": {
         "data": {
          "bar": [
           {
            "error_x": {
             "color": "#2a3f5f"
            },
            "error_y": {
             "color": "#2a3f5f"
            },
            "marker": {
             "line": {
              "color": "#E5ECF6",
              "width": 0.5
             },
             "pattern": {
              "fillmode": "overlay",
              "size": 10,
              "solidity": 0.2
             }
            },
            "type": "bar"
           }
          ],
          "barpolar": [
           {
            "marker": {
             "line": {
              "color": "#E5ECF6",
              "width": 0.5
             },
             "pattern": {
              "fillmode": "overlay",
              "size": 10,
              "solidity": 0.2
             }
            },
            "type": "barpolar"
           }
          ],
          "carpet": [
           {
            "aaxis": {
             "endlinecolor": "#2a3f5f",
             "gridcolor": "white",
             "linecolor": "white",
             "minorgridcolor": "white",
             "startlinecolor": "#2a3f5f"
            },
            "baxis": {
             "endlinecolor": "#2a3f5f",
             "gridcolor": "white",
             "linecolor": "white",
             "minorgridcolor": "white",
             "startlinecolor": "#2a3f5f"
            },
            "type": "carpet"
           }
          ],
          "choropleth": [
           {
            "colorbar": {
             "outlinewidth": 0,
             "ticks": ""
            },
            "type": "choropleth"
           }
          ],
          "contour": [
           {
            "colorbar": {
             "outlinewidth": 0,
             "ticks": ""
            },
            "colorscale": [
             [
              0,
              "#0d0887"
             ],
             [
              0.1111111111111111,
              "#46039f"
             ],
             [
              0.2222222222222222,
              "#7201a8"
             ],
             [
              0.3333333333333333,
              "#9c179e"
             ],
             [
              0.4444444444444444,
              "#bd3786"
             ],
             [
              0.5555555555555556,
              "#d8576b"
             ],
             [
              0.6666666666666666,
              "#ed7953"
             ],
             [
              0.7777777777777778,
              "#fb9f3a"
             ],
             [
              0.8888888888888888,
              "#fdca26"
             ],
             [
              1,
              "#f0f921"
             ]
            ],
            "type": "contour"
           }
          ],
          "contourcarpet": [
           {
            "colorbar": {
             "outlinewidth": 0,
             "ticks": ""
            },
            "type": "contourcarpet"
           }
          ],
          "heatmap": [
           {
            "colorbar": {
             "outlinewidth": 0,
             "ticks": ""
            },
            "colorscale": [
             [
              0,
              "#0d0887"
             ],
             [
              0.1111111111111111,
              "#46039f"
             ],
             [
              0.2222222222222222,
              "#7201a8"
             ],
             [
              0.3333333333333333,
              "#9c179e"
             ],
             [
              0.4444444444444444,
              "#bd3786"
             ],
             [
              0.5555555555555556,
              "#d8576b"
             ],
             [
              0.6666666666666666,
              "#ed7953"
             ],
             [
              0.7777777777777778,
              "#fb9f3a"
             ],
             [
              0.8888888888888888,
              "#fdca26"
             ],
             [
              1,
              "#f0f921"
             ]
            ],
            "type": "heatmap"
           }
          ],
          "heatmapgl": [
           {
            "colorbar": {
             "outlinewidth": 0,
             "ticks": ""
            },
            "colorscale": [
             [
              0,
              "#0d0887"
             ],
             [
              0.1111111111111111,
              "#46039f"
             ],
             [
              0.2222222222222222,
              "#7201a8"
             ],
             [
              0.3333333333333333,
              "#9c179e"
             ],
             [
              0.4444444444444444,
              "#bd3786"
             ],
             [
              0.5555555555555556,
              "#d8576b"
             ],
             [
              0.6666666666666666,
              "#ed7953"
             ],
             [
              0.7777777777777778,
              "#fb9f3a"
             ],
             [
              0.8888888888888888,
              "#fdca26"
             ],
             [
              1,
              "#f0f921"
             ]
            ],
            "type": "heatmapgl"
           }
          ],
          "histogram": [
           {
            "marker": {
             "pattern": {
              "fillmode": "overlay",
              "size": 10,
              "solidity": 0.2
             }
            },
            "type": "histogram"
           }
          ],
          "histogram2d": [
           {
            "colorbar": {
             "outlinewidth": 0,
             "ticks": ""
            },
            "colorscale": [
             [
              0,
              "#0d0887"
             ],
             [
              0.1111111111111111,
              "#46039f"
             ],
             [
              0.2222222222222222,
              "#7201a8"
             ],
             [
              0.3333333333333333,
              "#9c179e"
             ],
             [
              0.4444444444444444,
              "#bd3786"
             ],
             [
              0.5555555555555556,
              "#d8576b"
             ],
             [
              0.6666666666666666,
              "#ed7953"
             ],
             [
              0.7777777777777778,
              "#fb9f3a"
             ],
             [
              0.8888888888888888,
              "#fdca26"
             ],
             [
              1,
              "#f0f921"
             ]
            ],
            "type": "histogram2d"
           }
          ],
          "histogram2dcontour": [
           {
            "colorbar": {
             "outlinewidth": 0,
             "ticks": ""
            },
            "colorscale": [
             [
              0,
              "#0d0887"
             ],
             [
              0.1111111111111111,
              "#46039f"
             ],
             [
              0.2222222222222222,
              "#7201a8"
             ],
             [
              0.3333333333333333,
              "#9c179e"
             ],
             [
              0.4444444444444444,
              "#bd3786"
             ],
             [
              0.5555555555555556,
              "#d8576b"
             ],
             [
              0.6666666666666666,
              "#ed7953"
             ],
             [
              0.7777777777777778,
              "#fb9f3a"
             ],
             [
              0.8888888888888888,
              "#fdca26"
             ],
             [
              1,
              "#f0f921"
             ]
            ],
            "type": "histogram2dcontour"
           }
          ],
          "mesh3d": [
           {
            "colorbar": {
             "outlinewidth": 0,
             "ticks": ""
            },
            "type": "mesh3d"
           }
          ],
          "parcoords": [
           {
            "line": {
             "colorbar": {
              "outlinewidth": 0,
              "ticks": ""
             }
            },
            "type": "parcoords"
           }
          ],
          "pie": [
           {
            "automargin": true,
            "type": "pie"
           }
          ],
          "scatter": [
           {
            "fillpattern": {
             "fillmode": "overlay",
             "size": 10,
             "solidity": 0.2
            },
            "type": "scatter"
           }
          ],
          "scatter3d": [
           {
            "line": {
             "colorbar": {
              "outlinewidth": 0,
              "ticks": ""
             }
            },
            "marker": {
             "colorbar": {
              "outlinewidth": 0,
              "ticks": ""
             }
            },
            "type": "scatter3d"
           }
          ],
          "scattercarpet": [
           {
            "marker": {
             "colorbar": {
              "outlinewidth": 0,
              "ticks": ""
             }
            },
            "type": "scattercarpet"
           }
          ],
          "scattergeo": [
           {
            "marker": {
             "colorbar": {
              "outlinewidth": 0,
              "ticks": ""
             }
            },
            "type": "scattergeo"
           }
          ],
          "scattergl": [
           {
            "marker": {
             "colorbar": {
              "outlinewidth": 0,
              "ticks": ""
             }
            },
            "type": "scattergl"
           }
          ],
          "scattermapbox": [
           {
            "marker": {
             "colorbar": {
              "outlinewidth": 0,
              "ticks": ""
             }
            },
            "type": "scattermapbox"
           }
          ],
          "scatterpolar": [
           {
            "marker": {
             "colorbar": {
              "outlinewidth": 0,
              "ticks": ""
             }
            },
            "type": "scatterpolar"
           }
          ],
          "scatterpolargl": [
           {
            "marker": {
             "colorbar": {
              "outlinewidth": 0,
              "ticks": ""
             }
            },
            "type": "scatterpolargl"
           }
          ],
          "scatterternary": [
           {
            "marker": {
             "colorbar": {
              "outlinewidth": 0,
              "ticks": ""
             }
            },
            "type": "scatterternary"
           }
          ],
          "surface": [
           {
            "colorbar": {
             "outlinewidth": 0,
             "ticks": ""
            },
            "colorscale": [
             [
              0,
              "#0d0887"
             ],
             [
              0.1111111111111111,
              "#46039f"
             ],
             [
              0.2222222222222222,
              "#7201a8"
             ],
             [
              0.3333333333333333,
              "#9c179e"
             ],
             [
              0.4444444444444444,
              "#bd3786"
             ],
             [
              0.5555555555555556,
              "#d8576b"
             ],
             [
              0.6666666666666666,
              "#ed7953"
             ],
             [
              0.7777777777777778,
              "#fb9f3a"
             ],
             [
              0.8888888888888888,
              "#fdca26"
             ],
             [
              1,
              "#f0f921"
             ]
            ],
            "type": "surface"
           }
          ],
          "table": [
           {
            "cells": {
             "fill": {
              "color": "#EBF0F8"
             },
             "line": {
              "color": "white"
             }
            },
            "header": {
             "fill": {
              "color": "#C8D4E3"
             },
             "line": {
              "color": "white"
             }
            },
            "type": "table"
           }
          ]
         },
         "layout": {
          "annotationdefaults": {
           "arrowcolor": "#2a3f5f",
           "arrowhead": 0,
           "arrowwidth": 1
          },
          "autotypenumbers": "strict",
          "coloraxis": {
           "colorbar": {
            "outlinewidth": 0,
            "ticks": ""
           }
          },
          "colorscale": {
           "diverging": [
            [
             0,
             "#8e0152"
            ],
            [
             0.1,
             "#c51b7d"
            ],
            [
             0.2,
             "#de77ae"
            ],
            [
             0.3,
             "#f1b6da"
            ],
            [
             0.4,
             "#fde0ef"
            ],
            [
             0.5,
             "#f7f7f7"
            ],
            [
             0.6,
             "#e6f5d0"
            ],
            [
             0.7,
             "#b8e186"
            ],
            [
             0.8,
             "#7fbc41"
            ],
            [
             0.9,
             "#4d9221"
            ],
            [
             1,
             "#276419"
            ]
           ],
           "sequential": [
            [
             0,
             "#0d0887"
            ],
            [
             0.1111111111111111,
             "#46039f"
            ],
            [
             0.2222222222222222,
             "#7201a8"
            ],
            [
             0.3333333333333333,
             "#9c179e"
            ],
            [
             0.4444444444444444,
             "#bd3786"
            ],
            [
             0.5555555555555556,
             "#d8576b"
            ],
            [
             0.6666666666666666,
             "#ed7953"
            ],
            [
             0.7777777777777778,
             "#fb9f3a"
            ],
            [
             0.8888888888888888,
             "#fdca26"
            ],
            [
             1,
             "#f0f921"
            ]
           ],
           "sequentialminus": [
            [
             0,
             "#0d0887"
            ],
            [
             0.1111111111111111,
             "#46039f"
            ],
            [
             0.2222222222222222,
             "#7201a8"
            ],
            [
             0.3333333333333333,
             "#9c179e"
            ],
            [
             0.4444444444444444,
             "#bd3786"
            ],
            [
             0.5555555555555556,
             "#d8576b"
            ],
            [
             0.6666666666666666,
             "#ed7953"
            ],
            [
             0.7777777777777778,
             "#fb9f3a"
            ],
            [
             0.8888888888888888,
             "#fdca26"
            ],
            [
             1,
             "#f0f921"
            ]
           ]
          },
          "colorway": [
           "#636efa",
           "#EF553B",
           "#00cc96",
           "#ab63fa",
           "#FFA15A",
           "#19d3f3",
           "#FF6692",
           "#B6E880",
           "#FF97FF",
           "#FECB52"
          ],
          "font": {
           "color": "#2a3f5f"
          },
          "geo": {
           "bgcolor": "white",
           "lakecolor": "white",
           "landcolor": "#E5ECF6",
           "showlakes": true,
           "showland": true,
           "subunitcolor": "white"
          },
          "hoverlabel": {
           "align": "left"
          },
          "hovermode": "closest",
          "mapbox": {
           "style": "light"
          },
          "paper_bgcolor": "white",
          "plot_bgcolor": "#E5ECF6",
          "polar": {
           "angularaxis": {
            "gridcolor": "white",
            "linecolor": "white",
            "ticks": ""
           },
           "bgcolor": "#E5ECF6",
           "radialaxis": {
            "gridcolor": "white",
            "linecolor": "white",
            "ticks": ""
           }
          },
          "scene": {
           "xaxis": {
            "backgroundcolor": "#E5ECF6",
            "gridcolor": "white",
            "gridwidth": 2,
            "linecolor": "white",
            "showbackground": true,
            "ticks": "",
            "zerolinecolor": "white"
           },
           "yaxis": {
            "backgroundcolor": "#E5ECF6",
            "gridcolor": "white",
            "gridwidth": 2,
            "linecolor": "white",
            "showbackground": true,
            "ticks": "",
            "zerolinecolor": "white"
           },
           "zaxis": {
            "backgroundcolor": "#E5ECF6",
            "gridcolor": "white",
            "gridwidth": 2,
            "linecolor": "white",
            "showbackground": true,
            "ticks": "",
            "zerolinecolor": "white"
           }
          },
          "shapedefaults": {
           "line": {
            "color": "#2a3f5f"
           }
          },
          "ternary": {
           "aaxis": {
            "gridcolor": "white",
            "linecolor": "white",
            "ticks": ""
           },
           "baxis": {
            "gridcolor": "white",
            "linecolor": "white",
            "ticks": ""
           },
           "bgcolor": "#E5ECF6",
           "caxis": {
            "gridcolor": "white",
            "linecolor": "white",
            "ticks": ""
           }
          },
          "title": {
           "x": 0.05
          },
          "xaxis": {
           "automargin": true,
           "gridcolor": "white",
           "linecolor": "white",
           "ticks": "",
           "title": {
            "standoff": 15
           },
           "zerolinecolor": "white",
           "zerolinewidth": 2
          },
          "yaxis": {
           "automargin": true,
           "gridcolor": "white",
           "linecolor": "white",
           "ticks": "",
           "title": {
            "standoff": 15
           },
           "zerolinecolor": "white",
           "zerolinewidth": 2
          }
         }
        },
        "title": {
         "text": "S&P 500 Close Price"
        },
        "xaxis": {
         "anchor": "y",
         "domain": [
          0,
          1
         ],
         "range": [
          "2023-09-25T00:00:00-04:00",
          "2024-09-23T00:00:00-04:00"
         ],
         "rangeselector": {
          "buttons": [
           {
            "count": 1,
            "label": "1m",
            "step": "month",
            "stepmode": "backward"
           },
           {
            "count": 6,
            "label": "6m",
            "step": "month",
            "stepmode": "backward"
           },
           {
            "count": 12,
            "label": "12m",
            "step": "month",
            "stepmode": "backward"
           },
           {
            "count": 1,
            "label": "YTD",
            "step": "year",
            "stepmode": "todate"
           },
           {
            "count": 1,
            "label": "1y",
            "step": "year",
            "stepmode": "backward"
           },
           {
            "step": "all"
           }
          ]
         },
         "rangeslider": {
          "visible": true
         },
         "title": {
          "text": "Date"
         }
        },
        "yaxis": {
         "anchor": "x",
         "domain": [
          0,
          1
         ],
         "title": {
          "text": "value"
         }
        }
       }
      }
     },
     "metadata": {},
     "output_type": "display_data"
    }
   ],
   "source": [
    "fig = px.line(df, x=df.index, y=[\"Close\", \"ma05\", \"ma25\"], title=f\"{company_name} Close Price\")\n",
    "fig.add_scatter(x=df.index, y=df[\"gc\"], mode=\"markers\", name=\"Golden Cross\", marker=dict(color=\"green\", size=15, opacity=0.8), marker_symbol=\"triangle-up\")\n",
    "fig.add_scatter(x=df.index, y=df[\"dc\"], mode=\"markers\", name=\"Dead Cross\", marker=dict(color=\"red\", size=15, opacity=0.8), marker_symbol=\"triangle-down\")\n",
    "\n",
    "# --------------------------------\n",
    "fig.update_layout(\n",
    "    xaxis=dict(range=[df.index[0], df.index[-1]]),\n",
    "    autosize=True,\n",
    ")\n",
    "\n",
    "fig.update_xaxes(\n",
    "    rangeslider_visible=True,\n",
    "    rangeselector=dict(\n",
    "        buttons=list(\n",
    "            [\n",
    "                dict(count=1, label=\"1m\", step=\"month\", stepmode=\"backward\"),\n",
    "                dict(count=6, label=\"6m\", step=\"month\", stepmode=\"backward\"),\n",
    "                dict(count=12, label=\"12m\", step=\"month\", stepmode=\"backward\"),\n",
    "                dict(count=1, label=\"YTD\", step=\"year\", stepmode=\"todate\"),\n",
    "                dict(count=1, label=\"1y\", step=\"year\", stepmode=\"backward\"),\n",
    "                dict(step=\"all\"),\n",
    "            ]\n",
    "        )\n",
    "    ),\n",
    ")\n",
    "\n",
    "fig.show()\n",
    "\n",
    "# save png\n",
    "with open(\"stock_chart2.png\", \"wb\") as f:\n",
    "    fig.write_image(f)"
   ]
  },
  {
   "cell_type": "markdown",
   "metadata": {},
   "source": [
    "![stock_chart2](./stock_chart2.png)\n"
   ]
  },
  {
   "cell_type": "code",
   "execution_count": null,
   "metadata": {},
   "outputs": [],
   "source": []
  }
 ],
 "metadata": {
  "kernelspec": {
   "display_name": "Python 3",
   "language": "python",
   "name": "python3"
  },
  "language_info": {
   "codemirror_mode": {
    "name": "ipython",
    "version": 3
   },
   "file_extension": ".py",
   "mimetype": "text/x-python",
   "name": "python",
   "nbconvert_exporter": "python",
   "pygments_lexer": "ipython3",
   "version": "3.12.2"
  }
 },
 "nbformat": 4,
 "nbformat_minor": 2
}
