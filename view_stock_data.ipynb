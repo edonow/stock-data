{
 "cells": [
  {
   "cell_type": "code",
   "execution_count": 13,
   "metadata": {},
   "outputs": [],
   "source": [
    "import pandas as pd\n",
    "import numpy as np\n",
    "import matplotlib.pyplot as plt\n",
    "import seaborn as sns\n",
    "import datetime\n",
    "import yfinance as yf\n",
    "import mplfinance as mpf\n",
    "\n",
    "import talib as ta"
   ]
  },
  {
   "cell_type": "code",
   "execution_count": 14,
   "metadata": {},
   "outputs": [],
   "source": [
    "def get_stock_data_yf(symbol, type=None):\n",
    "    stock_data = yf.Ticker(symbol)\n",
    "    history = stock_data.history(period=\"max\").sort_index()\n",
    "    if type is not None:\n",
    "        history = history.resample(type).agg({\"Open\": \"first\", \"High\": \"max\", \"Low\": \"min\", \"Close\": \"last\", \"Volume\": \"sum\"})\n",
    "    company_name = stock_data.info[\"longName\"]\n",
    "    return history, company_name\n",
    "\n",
    "\n",
    "def golden_and_dead_cross(df):\n",
    "    df[\"ma05>ma25\"] = df[\"ma05\"] > df[\"ma25\"]\n",
    "    temp_gc = (df[\"ma05>ma25\"] != df[\"ma05>ma25\"].shift(1)) & (df[\"ma05>ma25\"] == True)\n",
    "    temp_dc = (df[\"ma05>ma25\"] != df[\"ma05>ma25\"].shift(1)) & (df[\"ma05>ma25\"] == False)\n",
    "    df[\"gc\"] = [m if g == True else None for m, g in zip(df[\"ma05\"], temp_gc)]\n",
    "    df[\"dc\"] = [m if d == True else None for m, d in zip(df[\"ma25\"], temp_dc)]\n",
    "    return df.drop(columns=[\"ma05>ma25\"])"
   ]
  },
  {
   "cell_type": "markdown",
   "metadata": {},
   "source": [
    "## Get stock data\n"
   ]
  },
  {
   "cell_type": "code",
   "execution_count": 15,
   "metadata": {},
   "outputs": [
    {
     "name": "stdout",
     "output_type": "stream",
     "text": [
      "\n",
      "  >   Persol Holdings Co.,Ltd. \n"
     ]
    },
    {
     "data": {
      "text/html": [
       "<div>\n",
       "<style scoped>\n",
       "    .dataframe tbody tr th:only-of-type {\n",
       "        vertical-align: middle;\n",
       "    }\n",
       "\n",
       "    .dataframe tbody tr th {\n",
       "        vertical-align: top;\n",
       "    }\n",
       "\n",
       "    .dataframe thead th {\n",
       "        text-align: right;\n",
       "    }\n",
       "</style>\n",
       "<table border=\"1\" class=\"dataframe\">\n",
       "  <thead>\n",
       "    <tr style=\"text-align: right;\">\n",
       "      <th></th>\n",
       "      <th>Open</th>\n",
       "      <th>High</th>\n",
       "      <th>Low</th>\n",
       "      <th>Close</th>\n",
       "      <th>Volume</th>\n",
       "      <th>Dividends</th>\n",
       "      <th>Stock Splits</th>\n",
       "      <th>ma05</th>\n",
       "      <th>ma25</th>\n",
       "      <th>gc</th>\n",
       "      <th>dc</th>\n",
       "      <th>macd</th>\n",
       "      <th>macd_signal</th>\n",
       "      <th>hist</th>\n",
       "    </tr>\n",
       "    <tr>\n",
       "      <th>Date</th>\n",
       "      <th></th>\n",
       "      <th></th>\n",
       "      <th></th>\n",
       "      <th></th>\n",
       "      <th></th>\n",
       "      <th></th>\n",
       "      <th></th>\n",
       "      <th></th>\n",
       "      <th></th>\n",
       "      <th></th>\n",
       "      <th></th>\n",
       "      <th></th>\n",
       "      <th></th>\n",
       "      <th></th>\n",
       "    </tr>\n",
       "  </thead>\n",
       "  <tbody>\n",
       "    <tr>\n",
       "      <th>2023-09-25 00:00:00+09:00</th>\n",
       "      <td>238.798830</td>\n",
       "      <td>243.423528</td>\n",
       "      <td>238.365252</td>\n",
       "      <td>242.941788</td>\n",
       "      <td>7809000</td>\n",
       "      <td>0.0</td>\n",
       "      <td>0.0</td>\n",
       "      <td>241.024460</td>\n",
       "      <td>243.473632</td>\n",
       "      <td>NaN</td>\n",
       "      <td>NaN</td>\n",
       "      <td>-2.295508</td>\n",
       "      <td>-2.323776</td>\n",
       "      <td>0.028268</td>\n",
       "    </tr>\n",
       "    <tr>\n",
       "      <th>2023-09-26 00:00:00+09:00</th>\n",
       "      <td>242.267356</td>\n",
       "      <td>242.652757</td>\n",
       "      <td>239.521443</td>\n",
       "      <td>240.195877</td>\n",
       "      <td>8681000</td>\n",
       "      <td>0.0</td>\n",
       "      <td>0.0</td>\n",
       "      <td>240.812497</td>\n",
       "      <td>243.537222</td>\n",
       "      <td>NaN</td>\n",
       "      <td>NaN</td>\n",
       "      <td>-2.317214</td>\n",
       "      <td>-2.322463</td>\n",
       "      <td>0.005249</td>\n",
       "    </tr>\n",
       "    <tr>\n",
       "      <th>2023-09-27 00:00:00+09:00</th>\n",
       "      <td>238.461607</td>\n",
       "      <td>241.063004</td>\n",
       "      <td>237.305433</td>\n",
       "      <td>241.063004</td>\n",
       "      <td>8302000</td>\n",
       "      <td>0.0</td>\n",
       "      <td>0.0</td>\n",
       "      <td>240.263312</td>\n",
       "      <td>243.550710</td>\n",
       "      <td>NaN</td>\n",
       "      <td>NaN</td>\n",
       "      <td>-2.238642</td>\n",
       "      <td>-2.305699</td>\n",
       "      <td>0.067057</td>\n",
       "    </tr>\n",
       "  </tbody>\n",
       "</table>\n",
       "</div>"
      ],
      "text/plain": [
       "                                 Open        High         Low       Close  \\\n",
       "Date                                                                        \n",
       "2023-09-25 00:00:00+09:00  238.798830  243.423528  238.365252  242.941788   \n",
       "2023-09-26 00:00:00+09:00  242.267356  242.652757  239.521443  240.195877   \n",
       "2023-09-27 00:00:00+09:00  238.461607  241.063004  237.305433  241.063004   \n",
       "\n",
       "                            Volume  Dividends  Stock Splits        ma05  \\\n",
       "Date                                                                      \n",
       "2023-09-25 00:00:00+09:00  7809000        0.0           0.0  241.024460   \n",
       "2023-09-26 00:00:00+09:00  8681000        0.0           0.0  240.812497   \n",
       "2023-09-27 00:00:00+09:00  8302000        0.0           0.0  240.263312   \n",
       "\n",
       "                                 ma25  gc  dc      macd  macd_signal      hist  \n",
       "Date                                                                            \n",
       "2023-09-25 00:00:00+09:00  243.473632 NaN NaN -2.295508    -2.323776  0.028268  \n",
       "2023-09-26 00:00:00+09:00  243.537222 NaN NaN -2.317214    -2.322463  0.005249  \n",
       "2023-09-27 00:00:00+09:00  243.550710 NaN NaN -2.238642    -2.305699  0.067057  "
      ]
     },
     "metadata": {},
     "output_type": "display_data"
    },
    {
     "data": {
      "text/html": [
       "<div>\n",
       "<style scoped>\n",
       "    .dataframe tbody tr th:only-of-type {\n",
       "        vertical-align: middle;\n",
       "    }\n",
       "\n",
       "    .dataframe tbody tr th {\n",
       "        vertical-align: top;\n",
       "    }\n",
       "\n",
       "    .dataframe thead th {\n",
       "        text-align: right;\n",
       "    }\n",
       "</style>\n",
       "<table border=\"1\" class=\"dataframe\">\n",
       "  <thead>\n",
       "    <tr style=\"text-align: right;\">\n",
       "      <th></th>\n",
       "      <th>Open</th>\n",
       "      <th>High</th>\n",
       "      <th>Low</th>\n",
       "      <th>Close</th>\n",
       "      <th>Volume</th>\n",
       "      <th>Dividends</th>\n",
       "      <th>Stock Splits</th>\n",
       "      <th>ma05</th>\n",
       "      <th>ma25</th>\n",
       "      <th>gc</th>\n",
       "      <th>dc</th>\n",
       "      <th>macd</th>\n",
       "      <th>macd_signal</th>\n",
       "      <th>hist</th>\n",
       "    </tr>\n",
       "    <tr>\n",
       "      <th>Date</th>\n",
       "      <th></th>\n",
       "      <th></th>\n",
       "      <th></th>\n",
       "      <th></th>\n",
       "      <th></th>\n",
       "      <th></th>\n",
       "      <th></th>\n",
       "      <th></th>\n",
       "      <th></th>\n",
       "      <th></th>\n",
       "      <th></th>\n",
       "      <th></th>\n",
       "      <th></th>\n",
       "      <th></th>\n",
       "    </tr>\n",
       "  </thead>\n",
       "  <tbody>\n",
       "    <tr>\n",
       "      <th>2024-09-18 00:00:00+09:00</th>\n",
       "      <td>271.799988</td>\n",
       "      <td>275.000000</td>\n",
       "      <td>269.399994</td>\n",
       "      <td>273.100006</td>\n",
       "      <td>7565500</td>\n",
       "      <td>0.0</td>\n",
       "      <td>0.0</td>\n",
       "      <td>273.119995</td>\n",
       "      <td>278.587999</td>\n",
       "      <td>NaN</td>\n",
       "      <td>NaN</td>\n",
       "      <td>2.660316</td>\n",
       "      <td>5.185913</td>\n",
       "      <td>-2.525598</td>\n",
       "    </tr>\n",
       "    <tr>\n",
       "      <th>2024-09-19 00:00:00+09:00</th>\n",
       "      <td>276.899994</td>\n",
       "      <td>279.200012</td>\n",
       "      <td>275.799988</td>\n",
       "      <td>276.500000</td>\n",
       "      <td>4706800</td>\n",
       "      <td>0.0</td>\n",
       "      <td>0.0</td>\n",
       "      <td>273.639996</td>\n",
       "      <td>278.603999</td>\n",
       "      <td>NaN</td>\n",
       "      <td>NaN</td>\n",
       "      <td>2.487648</td>\n",
       "      <td>4.646260</td>\n",
       "      <td>-2.158612</td>\n",
       "    </tr>\n",
       "    <tr>\n",
       "      <th>2024-09-20 00:00:00+09:00</th>\n",
       "      <td>279.000000</td>\n",
       "      <td>280.399994</td>\n",
       "      <td>273.299988</td>\n",
       "      <td>274.899994</td>\n",
       "      <td>9780200</td>\n",
       "      <td>0.0</td>\n",
       "      <td>0.0</td>\n",
       "      <td>273.059998</td>\n",
       "      <td>278.719999</td>\n",
       "      <td>NaN</td>\n",
       "      <td>NaN</td>\n",
       "      <td>2.196382</td>\n",
       "      <td>4.156285</td>\n",
       "      <td>-1.959903</td>\n",
       "    </tr>\n",
       "  </tbody>\n",
       "</table>\n",
       "</div>"
      ],
      "text/plain": [
       "                                 Open        High         Low       Close  \\\n",
       "Date                                                                        \n",
       "2024-09-18 00:00:00+09:00  271.799988  275.000000  269.399994  273.100006   \n",
       "2024-09-19 00:00:00+09:00  276.899994  279.200012  275.799988  276.500000   \n",
       "2024-09-20 00:00:00+09:00  279.000000  280.399994  273.299988  274.899994   \n",
       "\n",
       "                            Volume  Dividends  Stock Splits        ma05  \\\n",
       "Date                                                                      \n",
       "2024-09-18 00:00:00+09:00  7565500        0.0           0.0  273.119995   \n",
       "2024-09-19 00:00:00+09:00  4706800        0.0           0.0  273.639996   \n",
       "2024-09-20 00:00:00+09:00  9780200        0.0           0.0  273.059998   \n",
       "\n",
       "                                 ma25  gc  dc      macd  macd_signal      hist  \n",
       "Date                                                                            \n",
       "2024-09-18 00:00:00+09:00  278.587999 NaN NaN  2.660316     5.185913 -2.525598  \n",
       "2024-09-19 00:00:00+09:00  278.603999 NaN NaN  2.487648     4.646260 -2.158612  \n",
       "2024-09-20 00:00:00+09:00  278.719999 NaN NaN  2.196382     4.156285 -1.959903  "
      ]
     },
     "metadata": {},
     "output_type": "display_data"
    }
   ],
   "source": [
    "data, company_name = get_stock_data_yf(\"2181.T\")  # ^GSPC\n",
    "df = data.copy()\n",
    "df[\"ma05\"] = df[\"Close\"].rolling(window=5).mean()\n",
    "df[\"ma25\"] = df[\"Close\"].rolling(window=25).mean()\n",
    "df = golden_and_dead_cross(df)\n",
    "df[\"macd\"], df[\"macd_signal\"], df[\"hist\"] = ta.MACD(df[\"Close\"], fastperiod=12, slowperiod=26, signalperiod=9)\n",
    "\n",
    "print(f\"\\n  >   {company_name} \")\n",
    "\n",
    "# -----------------------\n",
    "# set start and end date\n",
    "# -----------------------\n",
    "start = (datetime.datetime.today() - pd.DateOffset(years=1)).strftime(\"%Y-%m-%d\")\n",
    "df = df[start:]\n",
    "\n",
    "display(df.head(3), df.tail(3))"
   ]
  },
  {
   "cell_type": "markdown",
   "metadata": {},
   "source": [
    "## Use Mplfinance\n",
    "\n",
    "ref: [mplfinance](https://github.com/matplotlib/mplfinance)\n"
   ]
  },
  {
   "cell_type": "code",
   "execution_count": 16,
   "metadata": {},
   "outputs": [
    {
     "data": {
      "text/plain": [
       "Text(0.5, 1.0, 'Persol Holdings Co.,Ltd. (2023-09-23 ~ )')"
      ]
     },
     "execution_count": 16,
     "metadata": {},
     "output_type": "execute_result"
    },
    {
     "data": {
      "image/png": "[encoded data removed]",
      "text/plain": [
       "<Figure size 1725x575 with 4 Axes>"
      ]
     },
     "metadata": {},
     "output_type": "display_data"
    }
   ],
   "source": [
    "lines = [\n",
    "    mpf.make_addplot(df[\"ma05\"], panel=0, width=1),\n",
    "    mpf.make_addplot(df[\"ma25\"], panel=0, width=1),\n",
    "    mpf.make_addplot(df[\"gc\"], type=\"scatter\", markersize=100, marker=\"^\", color=\"g\", panel=0, alpha=0.75),\n",
    "    mpf.make_addplot(df[\"dc\"], type=\"scatter\", markersize=100, marker=\"v\", color=\"r\", panel=0, alpha=0.75),\n",
    "    mpf.make_addplot(df[\"macd\"], panel=1, width=1, color=\"red\", label=\"MACD\"),\n",
    "    mpf.make_addplot(df[\"macd_signal\"], panel=1, width=1, color=\"skyblue\", label=\"Signal\"),\n",
    "    mpf.make_addplot(df[\"hist\"], panel=1, type=\"bar\", color=\"g\", alpha=0.75),\n",
    "]\n",
    "\n",
    "\n",
    "fig, axes = mpf.plot(df, type=\"candle\", figratio=(3, 1), addplot=lines, style=\"sas\", returnfig=True)\n",
    "\n",
    "axes[0].legend(axes[0].get_lines()[-2:], [\"ma05\", \"ma25\"], loc=\"best\")\n",
    "axes[2].legend(axes[2].get_lines()[-2:], [\"MACD\", \"Signal\"], loc=\"best\")\n",
    "axes[0].set_title(f\"{company_name} ({start} ~ )\")"
   ]
  },
  {
   "cell_type": "markdown",
   "metadata": {},
   "source": [
    "## Use Plotly\n",
    "\n",
    "ref: [plotly](https://plotly.com/python/time-series/)\n"
   ]
  },
  {
   "cell_type": "code",
   "execution_count": 17,
   "metadata": {},
   "outputs": [
    {
     "data": {
      "application/vnd.plotly.v1+json": {
       "config": {
        "plotlyServerURL": "https://plot.ly"
       },
       "data": [
        {
         "hovertemplate": "variable=Close<br>Date=%{x}<br>value=%{y}<extra></extra>",
         "legendgroup": "Close",
         "line": {
          "color": "#636efa",
          "dash": "solid"
         },
         "marker": {
          "symbol": "circle"
         },
         "mode": "lines",
         "name": "Close",
         "orientation": "v",
         "showlegend": true,
         "type": "scatter",
         "x": [
          "2023-09-25T00:00:00+09:00",
          "2023-09-26T00:00:00+09:00",
          "2023-09-27T00:00:00+09:00",
          "2023-09-28T00:00:00+09:00",
          "2023-09-29T00:00:00+09:00",
          "2023-10-02T00:00:00+09:00",
          "2023-10-03T00:00:00+09:00",
          "2023-10-04T00:00:00+09:00",
          "2023-10-05T00:00:00+09:00",
          "2023-10-06T00:00:00+09:00",
          "2023-10-10T00:00:00+09:00",
          "2023-10-11T00:00:00+09:00",
          "2023-10-12T00:00:00+09:00",
          "2023-10-13T00:00:00+09:00",
          "2023-10-16T00:00:00+09:00",
          "2023-10-17T00:00:00+09:00",
          "2023-10-18T00:00:00+09:00",
          "2023-10-19T00:00:00+09:00",
          "2023-10-20T00:00:00+09:00",
          "2023-10-23T00:00:00+09:00",
          "2023-10-24T00:00:00+09:00",
          "2023-10-25T00:00:00+09:00",
          "2023-10-26T00:00:00+09:00",
          "2023-10-27T00:00:00+09:00",
          "2023-10-30T00:00:00+09:00",
          "2023-10-31T00:00:00+09:00",
          "2023-11-01T00:00:00+09:00",
          "2023-11-02T00:00:00+09:00",
          "2023-11-06T00:00:00+09:00",
          "2023-11-07T00:00:00+09:00",
          "2023-11-08T00:00:00+09:00",
          "2023-11-09T00:00:00+09:00",
          "2023-11-10T00:00:00+09:00",
          "2023-11-13T00:00:00+09:00",
          "2023-11-14T00:00:00+09:00",
          "2023-11-15T00:00:00+09:00",
          "2023-11-16T00:00:00+09:00",
          "2023-11-17T00:00:00+09:00",
          "2023-11-20T00:00:00+09:00",
          "2023-11-21T00:00:00+09:00",
          "2023-11-22T00:00:00+09:00",
          "2023-11-24T00:00:00+09:00",
          "2023-11-27T00:00:00+09:00",
          "2023-11-28T00:00:00+09:00",
          "2023-11-29T00:00:00+09:00",
          "2023-11-30T00:00:00+09:00",
          "2023-12-01T00:00:00+09:00",
          "2023-12-04T00:00:00+09:00",
          "2023-12-05T00:00:00+09:00",
          "2023-12-06T00:00:00+09:00",
          "2023-12-07T00:00:00+09:00",
          "2023-12-08T00:00:00+09:00",
          "2023-12-11T00:00:00+09:00",
          "2023-12-12T00:00:00+09:00",
          "2023-12-13T00:00:00+09:00",
          "2023-12-14T00:00:00+09:00",
          "2023-12-15T00:00:00+09:00",
          "2023-12-18T00:00:00+09:00",
          "2023-12-19T00:00:00+09:00",
          "2023-12-20T00:00:00+09:00",
          "2023-12-21T00:00:00+09:00",
          "2023-12-22T00:00:00+09:00",
          "2023-12-25T00:00:00+09:00",
          "2023-12-26T00:00:00+09:00",
          "2023-12-27T00:00:00+09:00",
          "2023-12-28T00:00:00+09:00",
          "2023-12-29T00:00:00+09:00",
          "2024-01-04T00:00:00+09:00",
          "2024-01-05T00:00:00+09:00",
          "2024-01-09T00:00:00+09:00",
          "2024-01-10T00:00:00+09:00",
          "2024-01-11T00:00:00+09:00",
          "2024-01-12T00:00:00+09:00",
          "2024-01-15T00:00:00+09:00",
          "2024-01-16T00:00:00+09:00",
          "2024-01-17T00:00:00+09:00",
          "2024-01-18T00:00:00+09:00",
          "2024-01-19T00:00:00+09:00",
          "2024-01-22T00:00:00+09:00",
          "2024-01-23T00:00:00+09:00",
          "2024-01-24T00:00:00+09:00",
          "2024-01-25T00:00:00+09:00",
          "2024-01-26T00:00:00+09:00",
          "2024-01-29T00:00:00+09:00",
          "2024-01-30T00:00:00+09:00",
          "2024-01-31T00:00:00+09:00",
          "2024-02-01T00:00:00+09:00",
          "2024-02-02T00:00:00+09:00",
          "2024-02-05T00:00:00+09:00",
          "2024-02-06T00:00:00+09:00",
          "2024-02-07T00:00:00+09:00",
          "2024-02-08T00:00:00+09:00",
          "2024-02-09T00:00:00+09:00",
          "2024-02-13T00:00:00+09:00",
          "2024-02-14T00:00:00+09:00",
          "2024-02-15T00:00:00+09:00",
          "2024-02-16T00:00:00+09:00",
          "2024-02-19T00:00:00+09:00",
          "2024-02-20T00:00:00+09:00",
          "2024-02-21T00:00:00+09:00",
          "2024-02-22T00:00:00+09:00",
          "2024-02-26T00:00:00+09:00",
          "2024-02-27T00:00:00+09:00",
          "2024-02-28T00:00:00+09:00",
          "2024-02-29T00:00:00+09:00",
          "2024-03-01T00:00:00+09:00",
          "2024-03-04T00:00:00+09:00",
          "2024-03-05T00:00:00+09:00",
          "2024-03-06T00:00:00+09:00",
          "2024-03-07T00:00:00+09:00",
          "2024-03-08T00:00:00+09:00",
          "2024-03-11T00:00:00+09:00",
          "2024-03-12T00:00:00+09:00",
          "2024-03-13T00:00:00+09:00",
          "2024-03-14T00:00:00+09:00",
          "2024-03-15T00:00:00+09:00",
          "2024-03-18T00:00:00+09:00",
          "2024-03-19T00:00:00+09:00",
          "2024-03-21T00:00:00+09:00",
          "2024-03-22T00:00:00+09:00",
          "2024-03-25T00:00:00+09:00",
          "2024-03-26T00:00:00+09:00",
          "2024-03-27T00:00:00+09:00",
          "2024-03-28T00:00:00+09:00",
          "2024-03-29T00:00:00+09:00",
          "2024-04-01T00:00:00+09:00",
          "2024-04-02T00:00:00+09:00",
          "2024-04-03T00:00:00+09:00",
          "2024-04-04T00:00:00+09:00",
          "2024-04-05T00:00:00+09:00",
          "2024-04-08T00:00:00+09:00",
          "2024-04-09T00:00:00+09:00",
          "2024-04-10T00:00:00+09:00",
          "2024-04-11T00:00:00+09:00",
          "2024-04-12T00:00:00+09:00",
          "2024-04-15T00:00:00+09:00",
          "2024-04-16T00:00:00+09:00",
          "2024-04-17T00:00:00+09:00",
          "2024-04-18T00:00:00+09:00",
          "2024-04-19T00:00:00+09:00",
          "2024-04-22T00:00:00+09:00",
          "2024-04-23T00:00:00+09:00",
          "2024-04-24T00:00:00+09:00",
          "2024-04-25T00:00:00+09:00",
          "2024-04-26T00:00:00+09:00",
          "2024-04-30T00:00:00+09:00",
          "2024-05-01T00:00:00+09:00",
          "2024-05-02T00:00:00+09:00",
          "2024-05-07T00:00:00+09:00",
          "2024-05-08T00:00:00+09:00",
          "2024-05-09T00:00:00+09:00",
          "2024-05-10T00:00:00+09:00",
          "2024-05-13T00:00:00+09:00",
          "2024-05-14T00:00:00+09:00",
          "2024-05-15T00:00:00+09:00",
          "2024-05-16T00:00:00+09:00",
          "2024-05-17T00:00:00+09:00",
          "2024-05-20T00:00:00+09:00",
          "2024-05-21T00:00:00+09:00",
          "2024-05-22T00:00:00+09:00",
          "2024-05-23T00:00:00+09:00",
          "2024-05-24T00:00:00+09:00",
          "2024-05-27T00:00:00+09:00",
          "2024-05-28T00:00:00+09:00",
          "2024-05-29T00:00:00+09:00",
          "2024-05-30T00:00:00+09:00",
          "2024-05-31T00:00:00+09:00",
          "2024-06-03T00:00:00+09:00",
          "2024-06-04T00:00:00+09:00",
          "2024-06-05T00:00:00+09:00",
          "2024-06-06T00:00:00+09:00",
          "2024-06-07T00:00:00+09:00",
          "2024-06-10T00:00:00+09:00",
          "2024-06-11T00:00:00+09:00",
          "2024-06-12T00:00:00+09:00",
          "2024-06-13T00:00:00+09:00",
          "2024-06-14T00:00:00+09:00",
          "2024-06-17T00:00:00+09:00",
          "2024-06-18T00:00:00+09:00",
          "2024-06-19T00:00:00+09:00",
          "2024-06-20T00:00:00+09:00",
          "2024-06-21T00:00:00+09:00",
          "2024-06-24T00:00:00+09:00",
          "2024-06-25T00:00:00+09:00",
          "2024-06-26T00:00:00+09:00",
          "2024-06-27T00:00:00+09:00",
          "2024-06-28T00:00:00+09:00",
          "2024-07-01T00:00:00+09:00",
          "2024-07-02T00:00:00+09:00",
          "2024-07-03T00:00:00+09:00",
          "2024-07-04T00:00:00+09:00",
          "2024-07-05T00:00:00+09:00",
          "2024-07-08T00:00:00+09:00",
          "2024-07-09T00:00:00+09:00",
          "2024-07-10T00:00:00+09:00",
          "2024-07-11T00:00:00+09:00",
          "2024-07-12T00:00:00+09:00",
          "2024-07-16T00:00:00+09:00",
          "2024-07-17T00:00:00+09:00",
          "2024-07-18T00:00:00+09:00",
          "2024-07-19T00:00:00+09:00",
          "2024-07-22T00:00:00+09:00",
          "2024-07-23T00:00:00+09:00",
          "2024-07-24T00:00:00+09:00",
          "2024-07-25T00:00:00+09:00",
          "2024-07-26T00:00:00+09:00",
          "2024-07-29T00:00:00+09:00",
          "2024-07-30T00:00:00+09:00",
          "2024-07-31T00:00:00+09:00",
          "2024-08-01T00:00:00+09:00",
          "2024-08-02T00:00:00+09:00",
          "2024-08-05T00:00:00+09:00",
          "2024-08-06T00:00:00+09:00",
          "2024-08-07T00:00:00+09:00",
          "2024-08-08T00:00:00+09:00",
          "2024-08-09T00:00:00+09:00",
          "2024-08-13T00:00:00+09:00",
          "2024-08-14T00:00:00+09:00",
          "2024-08-15T00:00:00+09:00",
          "2024-08-16T00:00:00+09:00",
          "2024-08-19T00:00:00+09:00",
          "2024-08-20T00:00:00+09:00",
          "2024-08-21T00:00:00+09:00",
          "2024-08-22T00:00:00+09:00",
          "2024-08-23T00:00:00+09:00",
          "2024-08-26T00:00:00+09:00",
          "2024-08-27T00:00:00+09:00",
          "2024-08-28T00:00:00+09:00",
          "2024-08-29T00:00:00+09:00",
          "2024-08-30T00:00:00+09:00",
          "2024-09-02T00:00:00+09:00",
          "2024-09-03T00:00:00+09:00",
          "2024-09-04T00:00:00+09:00",
          "2024-09-05T00:00:00+09:00",
          "2024-09-06T00:00:00+09:00",
          "2024-09-09T00:00:00+09:00",
          "2024-09-10T00:00:00+09:00",
          "2024-09-11T00:00:00+09:00",
          "2024-09-12T00:00:00+09:00",
          "2024-09-13T00:00:00+09:00",
          "2024-09-17T00:00:00+09:00",
          "2024-09-18T00:00:00+09:00",
          "2024-09-19T00:00:00+09:00",
          "2024-09-20T00:00:00+09:00"
         ],
         "xaxis": "x",
         "y": [
          242.94178771972656,
          240.1958770751953,
          241.06300354003906,
          241.06298828125,
          238.61216735839844,
          234.29872131347656,
          237.1416778564453,
          230.6715087890625,
          233.22035217285156,
          233.90660095214844,
          237.23971557617188,
          234.69085693359375,
          236.357421875,
          234.88693237304688,
          220.57411193847656,
          224.78953552246094,
          216.16262817382812,
          215.08425903320312,
          212.14328002929688,
          209.30032348632812,
          212.24131774902344,
          211.94720458984375,
          212.73147583007812,
          217.24099731445312,
          215.67247009277344,
          219.8878936767578,
          224.20132446289062,
          236.55348205566406,
          242.5334930419922,
          242.141357421875,
          242.92562866210938,
          245.67054748535156,
          244.29808044433594,
          230.57347106933594,
          236.65150451660156,
          233.51446533203125,
          231.847900390625,
          237.1416778564453,
          240.67086791992188,
          244.88629150390625,
          242.8275909423828,
          247.14105224609375,
          246.84693908691406,
          252.53285217285156,
          252.8269500732422,
          249.78793334960938,
          237.0436553955078,
          231.45578002929688,
          225.37771606445312,
          227.04429626464844,
          219.59378051757812,
          214.20196533203125,
          222.53477478027344,
          217.82919311523438,
          223.02493286132812,
          224.59347534179688,
          225.18165588378906,
          225.18165588378906,
          228.02462768554688,
          225.86788940429688,
          223.51510620117188,
          230.1813507080078,
          226.35804748535156,
          229.20101928710938,
          236.74954223632812,
          241.16102600097656,
          237.33775329589844,
          240.9649658203125,
          244.7882537841797,
          247.23907470703125,
          242.7295684814453,
          239.69053649902344,
          235.279052734375,
          231.55380249023438,
          227.2403564453125,
          224.985595703125,
          221.75050354003906,
          230.6715087890625,
          228.9069061279297,
          230.37741088867188,
          229.0049591064453,
          229.29904174804688,
          230.57347106933594,
          232.5341339111328,
          231.55380249023438,
          232.04396057128906,
          235.18101501464844,
          235.9652862548828,
          239.69053649902344,
          235.47511291503906,
          233.12232971191406,
          232.04396057128906,
          234.98495483398438,
          238.61216735839844,
          230.37741088867188,
          211.06492614746094,
          208.51605224609375,
          214.88819885253906,
          217.4370574951172,
          218.51541137695312,
          217.73117065429688,
          213.71180725097656,
          214.0059051513672,
          214.59410095214844,
          212.04525756835938,
          211.45704650878906,
          208.22195434570312,
          205.77113342285156,
          205.5750732421875,
          199.59507751464844,
          197.2422637939453,
          198.81080627441406,
          199.39898681640625,
          196.9481658935547,
          201.26162719726562,
          201.4576873779297,
          206.84950256347656,
          210.47671508789062,
          219.8878936767578,
          217.6331329345703,
          210.77081298828125,
          214.88819885253906,
          214.30001831054688,
          211.1999969482422,
          213.10000610351562,
          210.60000610351562,
          208.60000610351562,
          207.3000030517578,
          207.5,
          208,
          211.8000030517578,
          218.1999969482422,
          217.5,
          216.8000030517578,
          218.1999969482422,
          212.60000610351562,
          214,
          210.10000610351562,
          210.1999969482422,
          207.6999969482422,
          214.89999389648438,
          215.60000610351562,
          218.6999969482422,
          217.5,
          220.39999389648438,
          219.1999969482422,
          216.60000610351562,
          215.60000610351562,
          220.39999389648438,
          221.1999969482422,
          222.8000030517578,
          225.89999389648438,
          220.1999969482422,
          233.89999389648438,
          230.89999389648438,
          236.6999969482422,
          238.89999389648438,
          236.6999969482422,
          231.8000030517578,
          225,
          225.39999389648438,
          227.1999969482422,
          223.3000030517578,
          222.60000610351562,
          220,
          223.5,
          226.10000610351562,
          228.5,
          228.10000610351562,
          225,
          222.60000610351562,
          224.3000030517578,
          223.3000030517578,
          223.5,
          223.8000030517578,
          216.8000030517578,
          214.5,
          210.3000030517578,
          210.5,
          210.6999969482422,
          208.60000610351562,
          212.1999969482422,
          216.39999389648438,
          220.89999389648438,
          222.6999969482422,
          225.8000030517578,
          222.6999969482422,
          228.39999389648438,
          228.60000610351562,
          234.39999389648438,
          243.1999969482422,
          241.39999389648438,
          243.1999969482422,
          249,
          252.3000030517578,
          256.8999938964844,
          259.20001220703125,
          257.79998779296875,
          255.89999389648438,
          257.5,
          255.6999969482422,
          254.1999969482422,
          257.8999938964844,
          257.29998779296875,
          250.60000610351562,
          252.10000610351562,
          253.8000030517578,
          256.8999938964844,
          258.5,
          245.6999969482422,
          239.1999969482422,
          218.6999969482422,
          241.8000030517578,
          244.39999389648438,
          242,
          271.20001220703125,
          266.5,
          276.1000061035156,
          272,
          279.29998779296875,
          276.6000061035156,
          279.1000061035156,
          274.1000061035156,
          273.6000061035156,
          274.79998779296875,
          280.29998779296875,
          283.8999938964844,
          285.6000061035156,
          283.20001220703125,
          284.70001220703125,
          281.1000061035156,
          287,
          282.5,
          281.8999938964844,
          280.29998779296875,
          282,
          281,
          273.8999938964844,
          277.79998779296875,
          270,
          270.79998779296875,
          273.1000061035156,
          276.5,
          274.8999938964844
         ],
         "yaxis": "y"
        }
       ],
       "layout": {
        "legend": {
         "title": {
          "text": "variable"
         },
         "tracegroupgap": 0
        },
        "template": {
         "data": {
          "bar": [
           {
            "error_x": {
             "color": "#2a3f5f"
            },
            "error_y": {
             "color": "#2a3f5f"
            },
            "marker": {
             "line": {
              "color": "#E5ECF6",
              "width": 0.5
             },
             "pattern": {
              "fillmode": "overlay",
              "size": 10,
              "solidity": 0.2
             }
            },
            "type": "bar"
           }
          ],
          "barpolar": [
           {
            "marker": {
             "line": {
              "color": "#E5ECF6",
              "width": 0.5
             },
             "pattern": {
              "fillmode": "overlay",
              "size": 10,
              "solidity": 0.2
             }
            },
            "type": "barpolar"
           }
          ],
          "carpet": [
           {
            "aaxis": {
             "endlinecolor": "#2a3f5f",
             "gridcolor": "white",
             "linecolor": "white",
             "minorgridcolor": "white",
             "startlinecolor": "#2a3f5f"
            },
            "baxis": {
             "endlinecolor": "#2a3f5f",
             "gridcolor": "white",
             "linecolor": "white",
             "minorgridcolor": "white",
             "startlinecolor": "#2a3f5f"
            },
            "type": "carpet"
           }
          ],
          "choropleth": [
           {
            "colorbar": {
             "outlinewidth": 0,
             "ticks": ""
            },
            "type": "choropleth"
           }
          ],
          "contour": [
           {
            "colorbar": {
             "outlinewidth": 0,
             "ticks": ""
            },
            "colorscale": [
             [
              0,
              "#0d0887"
             ],
             [
              0.1111111111111111,
              "#46039f"
             ],
             [
              0.2222222222222222,
              "#7201a8"
             ],
             [
              0.3333333333333333,
              "#9c179e"
             ],
             [
              0.4444444444444444,
              "#bd3786"
             ],
             [
              0.5555555555555556,
              "#d8576b"
             ],
             [
              0.6666666666666666,
              "#ed7953"
             ],
             [
              0.7777777777777778,
              "#fb9f3a"
             ],
             [
              0.8888888888888888,
              "#fdca26"
             ],
             [
              1,
              "#f0f921"
             ]
            ],
            "type": "contour"
           }
          ],
          "contourcarpet": [
           {
            "colorbar": {
             "outlinewidth": 0,
             "ticks": ""
            },
            "type": "contourcarpet"
           }
          ],
          "heatmap": [
           {
            "colorbar": {
             "outlinewidth": 0,
             "ticks": ""
            },
            "colorscale": [
             [
              0,
              "#0d0887"
             ],
             [
              0.1111111111111111,
              "#46039f"
             ],
             [
              0.2222222222222222,
              "#7201a8"
             ],
             [
              0.3333333333333333,
              "#9c179e"
             ],
             [
              0.4444444444444444,
              "#bd3786"
             ],
             [
              0.5555555555555556,
              "#d8576b"
             ],
             [
              0.6666666666666666,
              "#ed7953"
             ],
             [
              0.7777777777777778,
              "#fb9f3a"
             ],
             [
              0.8888888888888888,
              "#fdca26"
             ],
             [
              1,
              "#f0f921"
             ]
            ],
            "type": "heatmap"
           }
          ],
          "heatmapgl": [
           {
            "colorbar": {
             "outlinewidth": 0,
             "ticks": ""
            },
            "colorscale": [
             [
              0,
              "#0d0887"
             ],
             [
              0.1111111111111111,
              "#46039f"
             ],
             [
              0.2222222222222222,
              "#7201a8"
             ],
             [
              0.3333333333333333,
              "#9c179e"
             ],
             [
              0.4444444444444444,
              "#bd3786"
             ],
             [
              0.5555555555555556,
              "#d8576b"
             ],
             [
              0.6666666666666666,
              "#ed7953"
             ],
             [
              0.7777777777777778,
              "#fb9f3a"
             ],
             [
              0.8888888888888888,
              "#fdca26"
             ],
             [
              1,
              "#f0f921"
             ]
            ],
            "type": "heatmapgl"
           }
          ],
          "histogram": [
           {
            "marker": {
             "pattern": {
              "fillmode": "overlay",
              "size": 10,
              "solidity": 0.2
             }
            },
            "type": "histogram"
           }
          ],
          "histogram2d": [
           {
            "colorbar": {
             "outlinewidth": 0,
             "ticks": ""
            },
            "colorscale": [
             [
              0,
              "#0d0887"
             ],
             [
              0.1111111111111111,
              "#46039f"
             ],
             [
              0.2222222222222222,
              "#7201a8"
             ],
             [
              0.3333333333333333,
              "#9c179e"
             ],
             [
              0.4444444444444444,
              "#bd3786"
             ],
             [
              0.5555555555555556,
              "#d8576b"
             ],
             [
              0.6666666666666666,
              "#ed7953"
             ],
             [
              0.7777777777777778,
              "#fb9f3a"
             ],
             [
              0.8888888888888888,
              "#fdca26"
             ],
             [
              1,
              "#f0f921"
             ]
            ],
            "type": "histogram2d"
           }
          ],
          "histogram2dcontour": [
           {
            "colorbar": {
             "outlinewidth": 0,
             "ticks": ""
            },
            "colorscale": [
             [
              0,
              "#0d0887"
             ],
             [
              0.1111111111111111,
              "#46039f"
             ],
             [
              0.2222222222222222,
              "#7201a8"
             ],
             [
              0.3333333333333333,
              "#9c179e"
             ],
             [
              0.4444444444444444,
              "#bd3786"
             ],
             [
              0.5555555555555556,
              "#d8576b"
             ],
             [
              0.6666666666666666,
              "#ed7953"
             ],
             [
              0.7777777777777778,
              "#fb9f3a"
             ],
             [
              0.8888888888888888,
              "#fdca26"
             ],
             [
              1,
              "#f0f921"
             ]
            ],
            "type": "histogram2dcontour"
           }
          ],
          "mesh3d": [
           {
            "colorbar": {
             "outlinewidth": 0,
             "ticks": ""
            },
            "type": "mesh3d"
           }
          ],
          "parcoords": [
           {
            "line": {
             "colorbar": {
              "outlinewidth": 0,
              "ticks": ""
             }
            },
            "type": "parcoords"
           }
          ],
          "pie": [
           {
            "automargin": true,
            "type": "pie"
           }
          ],
          "scatter": [
           {
            "fillpattern": {
             "fillmode": "overlay",
             "size": 10,
             "solidity": 0.2
            },
            "type": "scatter"
           }
          ],
          "scatter3d": [
           {
            "line": {
             "colorbar": {
              "outlinewidth": 0,
              "ticks": ""
             }
            },
            "marker": {
             "colorbar": {
              "outlinewidth": 0,
              "ticks": ""
             }
            },
            "type": "scatter3d"
           }
          ],
          "scattercarpet": [
           {
            "marker": {
             "colorbar": {
              "outlinewidth": 0,
              "ticks": ""
             }
            },
            "type": "scattercarpet"
           }
          ],
          "scattergeo": [
           {
            "marker": {
             "colorbar": {
              "outlinewidth": 0,
              "ticks": ""
             }
            },
            "type": "scattergeo"
           }
          ],
          "scattergl": [
           {
            "marker": {
             "colorbar": {
              "outlinewidth": 0,
              "ticks": ""
             }
            },
            "type": "scattergl"
           }
          ],
          "scattermapbox": [
           {
            "marker": {
             "colorbar": {
              "outlinewidth": 0,
              "ticks": ""
             }
            },
            "type": "scattermapbox"
           }
          ],
          "scatterpolar": [
           {
            "marker": {
             "colorbar": {
              "outlinewidth": 0,
              "ticks": ""
             }
            },
            "type": "scatterpolar"
           }
          ],
          "scatterpolargl": [
           {
            "marker": {
             "colorbar": {
              "outlinewidth": 0,
              "ticks": ""
             }
            },
            "type": "scatterpolargl"
           }
          ],
          "scatterternary": [
           {
            "marker": {
             "colorbar": {
              "outlinewidth": 0,
              "ticks": ""
             }
            },
            "type": "scatterternary"
           }
          ],
          "surface": [
           {
            "colorbar": {
             "outlinewidth": 0,
             "ticks": ""
            },
            "colorscale": [
             [
              0,
              "#0d0887"
             ],
             [
              0.1111111111111111,
              "#46039f"
             ],
             [
              0.2222222222222222,
              "#7201a8"
             ],
             [
              0.3333333333333333,
              "#9c179e"
             ],
             [
              0.4444444444444444,
              "#bd3786"
             ],
             [
              0.5555555555555556,
              "#d8576b"
             ],
             [
              0.6666666666666666,
              "#ed7953"
             ],
             [
              0.7777777777777778,
              "#fb9f3a"
             ],
             [
              0.8888888888888888,
              "#fdca26"
             ],
             [
              1,
              "#f0f921"
             ]
            ],
            "type": "surface"
           }
          ],
          "table": [
           {
            "cells": {
             "fill": {
              "color": "#EBF0F8"
             },
             "line": {
              "color": "white"
             }
            },
            "header": {
             "fill": {
              "color": "#C8D4E3"
             },
             "line": {
              "color": "white"
             }
            },
            "type": "table"
           }
          ]
         },
         "layout": {
          "annotationdefaults": {
           "arrowcolor": "#2a3f5f",
           "arrowhead": 0,
           "arrowwidth": 1
          },
          "autotypenumbers": "strict",
          "coloraxis": {
           "colorbar": {
            "outlinewidth": 0,
            "ticks": ""
           }
          },
          "colorscale": {
           "diverging": [
            [
             0,
             "#8e0152"
            ],
            [
             0.1,
             "#c51b7d"
            ],
            [
             0.2,
             "#de77ae"
            ],
            [
             0.3,
             "#f1b6da"
            ],
            [
             0.4,
             "#fde0ef"
            ],
            [
             0.5,
             "#f7f7f7"
            ],
            [
             0.6,
             "#e6f5d0"
            ],
            [
             0.7,
             "#b8e186"
            ],
            [
             0.8,
             "#7fbc41"
            ],
            [
             0.9,
             "#4d9221"
            ],
            [
             1,
             "#276419"
            ]
           ],
           "sequential": [
            [
             0,
             "#0d0887"
            ],
            [
             0.1111111111111111,
             "#46039f"
            ],
            [
             0.2222222222222222,
             "#7201a8"
            ],
            [
             0.3333333333333333,
             "#9c179e"
            ],
            [
             0.4444444444444444,
             "#bd3786"
            ],
            [
             0.5555555555555556,
             "#d8576b"
            ],
            [
             0.6666666666666666,
             "#ed7953"
            ],
            [
             0.7777777777777778,
             "#fb9f3a"
            ],
            [
             0.8888888888888888,
             "#fdca26"
            ],
            [
             1,
             "#f0f921"
            ]
           ],
           "sequentialminus": [
            [
             0,
             "#0d0887"
            ],
            [
             0.1111111111111111,
             "#46039f"
            ],
            [
             0.2222222222222222,
             "#7201a8"
            ],
            [
             0.3333333333333333,
             "#9c179e"
            ],
            [
             0.4444444444444444,
             "#bd3786"
            ],
            [
             0.5555555555555556,
             "#d8576b"
            ],
            [
             0.6666666666666666,
             "#ed7953"
            ],
            [
             0.7777777777777778,
             "#fb9f3a"
            ],
            [
             0.8888888888888888,
             "#fdca26"
            ],
            [
             1,
             "#f0f921"
            ]
           ]
          },
          "colorway": [
           "#636efa",
           "#EF553B",
           "#00cc96",
           "#ab63fa",
           "#FFA15A",
           "#19d3f3",
           "#FF6692",
           "#B6E880",
           "#FF97FF",
           "#FECB52"
          ],
          "font": {
           "color": "#2a3f5f"
          },
          "geo": {
           "bgcolor": "white",
           "lakecolor": "white",
           "landcolor": "#E5ECF6",
           "showlakes": true,
           "showland": true,
           "subunitcolor": "white"
          },
          "hoverlabel": {
           "align": "left"
          },
          "hovermode": "closest",
          "mapbox": {
           "style": "light"
          },
          "paper_bgcolor": "white",
          "plot_bgcolor": "#E5ECF6",
          "polar": {
           "angularaxis": {
            "gridcolor": "white",
            "linecolor": "white",
            "ticks": ""
           },
           "bgcolor": "#E5ECF6",
           "radialaxis": {
            "gridcolor": "white",
            "linecolor": "white",
            "ticks": ""
           }
          },
          "scene": {
           "xaxis": {
            "backgroundcolor": "#E5ECF6",
            "gridcolor": "white",
            "gridwidth": 2,
            "linecolor": "white",
            "showbackground": true,
            "ticks": "",
            "zerolinecolor": "white"
           },
           "yaxis": {
            "backgroundcolor": "#E5ECF6",
            "gridcolor": "white",
            "gridwidth": 2,
            "linecolor": "white",
            "showbackground": true,
            "ticks": "",
            "zerolinecolor": "white"
           },
           "zaxis": {
            "backgroundcolor": "#E5ECF6",
            "gridcolor": "white",
            "gridwidth": 2,
            "linecolor": "white",
            "showbackground": true,
            "ticks": "",
            "zerolinecolor": "white"
           }
          },
          "shapedefaults": {
           "line": {
            "color": "#2a3f5f"
           }
          },
          "ternary": {
           "aaxis": {
            "gridcolor": "white",
            "linecolor": "white",
            "ticks": ""
           },
           "baxis": {
            "gridcolor": "white",
            "linecolor": "white",
            "ticks": ""
           },
           "bgcolor": "#E5ECF6",
           "caxis": {
            "gridcolor": "white",
            "linecolor": "white",
            "ticks": ""
           }
          },
          "title": {
           "x": 0.05
          },
          "xaxis": {
           "automargin": true,
           "gridcolor": "white",
           "linecolor": "white",
           "ticks": "",
           "title": {
            "standoff": 15
           },
           "zerolinecolor": "white",
           "zerolinewidth": 2
          },
          "yaxis": {
           "automargin": true,
           "gridcolor": "white",
           "linecolor": "white",
           "ticks": "",
           "title": {
            "standoff": 15
           },
           "zerolinecolor": "white",
           "zerolinewidth": 2
          }
         }
        },
        "title": {
         "text": "Persol Holdings Co.,Ltd. Close Price"
        },
        "xaxis": {
         "anchor": "y",
         "domain": [
          0,
          1
         ],
         "rangeselector": {
          "buttons": [
           {
            "count": 1,
            "label": "1m",
            "step": "month",
            "stepmode": "backward"
           },
           {
            "count": 6,
            "label": "6m",
            "step": "month",
            "stepmode": "backward"
           },
           {
            "count": 12,
            "label": "12m",
            "step": "month",
            "stepmode": "backward"
           },
           {
            "count": 1,
            "label": "YTD",
            "step": "year",
            "stepmode": "todate"
           },
           {
            "count": 1,
            "label": "1y",
            "step": "year",
            "stepmode": "backward"
           },
           {
            "step": "all"
           }
          ]
         },
         "rangeslider": {
          "visible": true
         },
         "title": {
          "text": "Date"
         }
        },
        "yaxis": {
         "anchor": "x",
         "domain": [
          0,
          1
         ],
         "title": {
          "text": "value"
         }
        }
       }
      }
     },
     "metadata": {},
     "output_type": "display_data"
    }
   ],
   "source": [
    "import plotly.express as px\n",
    "import pandas as pd\n",
    "\n",
    "fig = px.line(df, x=df.index, y=[\"Close\"], title=f\"{company_name} Close Price\")\n",
    "\n",
    "fig.update_xaxes(\n",
    "    rangeslider_visible=True,\n",
    "    rangeselector=dict(\n",
    "        buttons=list(\n",
    "            [\n",
    "                dict(count=1, label=\"1m\", step=\"month\", stepmode=\"backward\"),\n",
    "                dict(count=6, label=\"6m\", step=\"month\", stepmode=\"backward\"),\n",
    "                dict(count=12, label=\"12m\", step=\"month\", stepmode=\"backward\"),\n",
    "                dict(count=1, label=\"YTD\", step=\"year\", stepmode=\"todate\"),\n",
    "                dict(count=1, label=\"1y\", step=\"year\", stepmode=\"backward\"),\n",
    "                dict(step=\"all\"),\n",
    "            ]\n",
    "        )\n",
    "    ),\n",
    ")\n",
    "\n",
    "fig.show()\n",
    "\n",
    "# save png\n",
    "with open(\"stock_chart1.png\", \"wb\") as f:\n",
    "    fig.write_image(f)"
   ]
  },
  {
   "cell_type": "markdown",
   "metadata": {},
   "source": [
    "![stock_chart1](./stock_chart1.png)\n"
   ]
  },
  {
   "cell_type": "code",
   "execution_count": 18,
   "metadata": {},
   "outputs": [
    {
     "data": {
      "application/vnd.plotly.v1+json": {
       "config": {
        "plotlyServerURL": "https://plot.ly"
       },
       "data": [
        {
         "hovertemplate": "variable=Close<br>Date=%{x}<br>value=%{y}<extra></extra>",
         "legendgroup": "Close",
         "line": {
          "color": "#636efa",
          "dash": "solid"
         },
         "marker": {
          "symbol": "circle"
         },
         "mode": "lines",
         "name": "Close",
         "orientation": "v",
         "showlegend": true,
         "type": "scatter",
         "x": [
          "2023-09-25T00:00:00+09:00",
          "2023-09-26T00:00:00+09:00",
          "2023-09-27T00:00:00+09:00",
          "2023-09-28T00:00:00+09:00",
          "2023-09-29T00:00:00+09:00",
          "2023-10-02T00:00:00+09:00",
          "2023-10-03T00:00:00+09:00",
          "2023-10-04T00:00:00+09:00",
          "2023-10-05T00:00:00+09:00",
          "2023-10-06T00:00:00+09:00",
          "2023-10-10T00:00:00+09:00",
          "2023-10-11T00:00:00+09:00",
          "2023-10-12T00:00:00+09:00",
          "2023-10-13T00:00:00+09:00",
          "2023-10-16T00:00:00+09:00",
          "2023-10-17T00:00:00+09:00",
          "2023-10-18T00:00:00+09:00",
          "2023-10-19T00:00:00+09:00",
          "2023-10-20T00:00:00+09:00",
          "2023-10-23T00:00:00+09:00",
          "2023-10-24T00:00:00+09:00",
          "2023-10-25T00:00:00+09:00",
          "2023-10-26T00:00:00+09:00",
          "2023-10-27T00:00:00+09:00",
          "2023-10-30T00:00:00+09:00",
          "2023-10-31T00:00:00+09:00",
          "2023-11-01T00:00:00+09:00",
          "2023-11-02T00:00:00+09:00",
          "2023-11-06T00:00:00+09:00",
          "2023-11-07T00:00:00+09:00",
          "2023-11-08T00:00:00+09:00",
          "2023-11-09T00:00:00+09:00",
          "2023-11-10T00:00:00+09:00",
          "2023-11-13T00:00:00+09:00",
          "2023-11-14T00:00:00+09:00",
          "2023-11-15T00:00:00+09:00",
          "2023-11-16T00:00:00+09:00",
          "2023-11-17T00:00:00+09:00",
          "2023-11-20T00:00:00+09:00",
          "2023-11-21T00:00:00+09:00",
          "2023-11-22T00:00:00+09:00",
          "2023-11-24T00:00:00+09:00",
          "2023-11-27T00:00:00+09:00",
          "2023-11-28T00:00:00+09:00",
          "2023-11-29T00:00:00+09:00",
          "2023-11-30T00:00:00+09:00",
          "2023-12-01T00:00:00+09:00",
          "2023-12-04T00:00:00+09:00",
          "2023-12-05T00:00:00+09:00",
          "2023-12-06T00:00:00+09:00",
          "2023-12-07T00:00:00+09:00",
          "2023-12-08T00:00:00+09:00",
          "2023-12-11T00:00:00+09:00",
          "2023-12-12T00:00:00+09:00",
          "2023-12-13T00:00:00+09:00",
          "2023-12-14T00:00:00+09:00",
          "2023-12-15T00:00:00+09:00",
          "2023-12-18T00:00:00+09:00",
          "2023-12-19T00:00:00+09:00",
          "2023-12-20T00:00:00+09:00",
          "2023-12-21T00:00:00+09:00",
          "2023-12-22T00:00:00+09:00",
          "2023-12-25T00:00:00+09:00",
          "2023-12-26T00:00:00+09:00",
          "2023-12-27T00:00:00+09:00",
          "2023-12-28T00:00:00+09:00",
          "2023-12-29T00:00:00+09:00",
          "2024-01-04T00:00:00+09:00",
          "2024-01-05T00:00:00+09:00",
          "2024-01-09T00:00:00+09:00",
          "2024-01-10T00:00:00+09:00",
          "2024-01-11T00:00:00+09:00",
          "2024-01-12T00:00:00+09:00",
          "2024-01-15T00:00:00+09:00",
          "2024-01-16T00:00:00+09:00",
          "2024-01-17T00:00:00+09:00",
          "2024-01-18T00:00:00+09:00",
          "2024-01-19T00:00:00+09:00",
          "2024-01-22T00:00:00+09:00",
          "2024-01-23T00:00:00+09:00",
          "2024-01-24T00:00:00+09:00",
          "2024-01-25T00:00:00+09:00",
          "2024-01-26T00:00:00+09:00",
          "2024-01-29T00:00:00+09:00",
          "2024-01-30T00:00:00+09:00",
          "2024-01-31T00:00:00+09:00",
          "2024-02-01T00:00:00+09:00",
          "2024-02-02T00:00:00+09:00",
          "2024-02-05T00:00:00+09:00",
          "2024-02-06T00:00:00+09:00",
          "2024-02-07T00:00:00+09:00",
          "2024-02-08T00:00:00+09:00",
          "2024-02-09T00:00:00+09:00",
          "2024-02-13T00:00:00+09:00",
          "2024-02-14T00:00:00+09:00",
          "2024-02-15T00:00:00+09:00",
          "2024-02-16T00:00:00+09:00",
          "2024-02-19T00:00:00+09:00",
          "2024-02-20T00:00:00+09:00",
          "2024-02-21T00:00:00+09:00",
          "2024-02-22T00:00:00+09:00",
          "2024-02-26T00:00:00+09:00",
          "2024-02-27T00:00:00+09:00",
          "2024-02-28T00:00:00+09:00",
          "2024-02-29T00:00:00+09:00",
          "2024-03-01T00:00:00+09:00",
          "2024-03-04T00:00:00+09:00",
          "2024-03-05T00:00:00+09:00",
          "2024-03-06T00:00:00+09:00",
          "2024-03-07T00:00:00+09:00",
          "2024-03-08T00:00:00+09:00",
          "2024-03-11T00:00:00+09:00",
          "2024-03-12T00:00:00+09:00",
          "2024-03-13T00:00:00+09:00",
          "2024-03-14T00:00:00+09:00",
          "2024-03-15T00:00:00+09:00",
          "2024-03-18T00:00:00+09:00",
          "2024-03-19T00:00:00+09:00",
          "2024-03-21T00:00:00+09:00",
          "2024-03-22T00:00:00+09:00",
          "2024-03-25T00:00:00+09:00",
          "2024-03-26T00:00:00+09:00",
          "2024-03-27T00:00:00+09:00",
          "2024-03-28T00:00:00+09:00",
          "2024-03-29T00:00:00+09:00",
          "2024-04-01T00:00:00+09:00",
          "2024-04-02T00:00:00+09:00",
          "2024-04-03T00:00:00+09:00",
          "2024-04-04T00:00:00+09:00",
          "2024-04-05T00:00:00+09:00",
          "2024-04-08T00:00:00+09:00",
          "2024-04-09T00:00:00+09:00",
          "2024-04-10T00:00:00+09:00",
          "2024-04-11T00:00:00+09:00",
          "2024-04-12T00:00:00+09:00",
          "2024-04-15T00:00:00+09:00",
          "2024-04-16T00:00:00+09:00",
          "2024-04-17T00:00:00+09:00",
          "2024-04-18T00:00:00+09:00",
          "2024-04-19T00:00:00+09:00",
          "2024-04-22T00:00:00+09:00",
          "2024-04-23T00:00:00+09:00",
          "2024-04-24T00:00:00+09:00",
          "2024-04-25T00:00:00+09:00",
          "2024-04-26T00:00:00+09:00",
          "2024-04-30T00:00:00+09:00",
          "2024-05-01T00:00:00+09:00",
          "2024-05-02T00:00:00+09:00",
          "2024-05-07T00:00:00+09:00",
          "2024-05-08T00:00:00+09:00",
          "2024-05-09T00:00:00+09:00",
          "2024-05-10T00:00:00+09:00",
          "2024-05-13T00:00:00+09:00",
          "2024-05-14T00:00:00+09:00",
          "2024-05-15T00:00:00+09:00",
          "2024-05-16T00:00:00+09:00",
          "2024-05-17T00:00:00+09:00",
          "2024-05-20T00:00:00+09:00",
          "2024-05-21T00:00:00+09:00",
          "2024-05-22T00:00:00+09:00",
          "2024-05-23T00:00:00+09:00",
          "2024-05-24T00:00:00+09:00",
          "2024-05-27T00:00:00+09:00",
          "2024-05-28T00:00:00+09:00",
          "2024-05-29T00:00:00+09:00",
          "2024-05-30T00:00:00+09:00",
          "2024-05-31T00:00:00+09:00",
          "2024-06-03T00:00:00+09:00",
          "2024-06-04T00:00:00+09:00",
          "2024-06-05T00:00:00+09:00",
          "2024-06-06T00:00:00+09:00",
          "2024-06-07T00:00:00+09:00",
          "2024-06-10T00:00:00+09:00",
          "2024-06-11T00:00:00+09:00",
          "2024-06-12T00:00:00+09:00",
          "2024-06-13T00:00:00+09:00",
          "2024-06-14T00:00:00+09:00",
          "2024-06-17T00:00:00+09:00",
          "2024-06-18T00:00:00+09:00",
          "2024-06-19T00:00:00+09:00",
          "2024-06-20T00:00:00+09:00",
          "2024-06-21T00:00:00+09:00",
          "2024-06-24T00:00:00+09:00",
          "2024-06-25T00:00:00+09:00",
          "2024-06-26T00:00:00+09:00",
          "2024-06-27T00:00:00+09:00",
          "2024-06-28T00:00:00+09:00",
          "2024-07-01T00:00:00+09:00",
          "2024-07-02T00:00:00+09:00",
          "2024-07-03T00:00:00+09:00",
          "2024-07-04T00:00:00+09:00",
          "2024-07-05T00:00:00+09:00",
          "2024-07-08T00:00:00+09:00",
          "2024-07-09T00:00:00+09:00",
          "2024-07-10T00:00:00+09:00",
          "2024-07-11T00:00:00+09:00",
          "2024-07-12T00:00:00+09:00",
          "2024-07-16T00:00:00+09:00",
          "2024-07-17T00:00:00+09:00",
          "2024-07-18T00:00:00+09:00",
          "2024-07-19T00:00:00+09:00",
          "2024-07-22T00:00:00+09:00",
          "2024-07-23T00:00:00+09:00",
          "2024-07-24T00:00:00+09:00",
          "2024-07-25T00:00:00+09:00",
          "2024-07-26T00:00:00+09:00",
          "2024-07-29T00:00:00+09:00",
          "2024-07-30T00:00:00+09:00",
          "2024-07-31T00:00:00+09:00",
          "2024-08-01T00:00:00+09:00",
          "2024-08-02T00:00:00+09:00",
          "2024-08-05T00:00:00+09:00",
          "2024-08-06T00:00:00+09:00",
          "2024-08-07T00:00:00+09:00",
          "2024-08-08T00:00:00+09:00",
          "2024-08-09T00:00:00+09:00",
          "2024-08-13T00:00:00+09:00",
          "2024-08-14T00:00:00+09:00",
          "2024-08-15T00:00:00+09:00",
          "2024-08-16T00:00:00+09:00",
          "2024-08-19T00:00:00+09:00",
          "2024-08-20T00:00:00+09:00",
          "2024-08-21T00:00:00+09:00",
          "2024-08-22T00:00:00+09:00",
          "2024-08-23T00:00:00+09:00",
          "2024-08-26T00:00:00+09:00",
          "2024-08-27T00:00:00+09:00",
          "2024-08-28T00:00:00+09:00",
          "2024-08-29T00:00:00+09:00",
          "2024-08-30T00:00:00+09:00",
          "2024-09-02T00:00:00+09:00",
          "2024-09-03T00:00:00+09:00",
          "2024-09-04T00:00:00+09:00",
          "2024-09-05T00:00:00+09:00",
          "2024-09-06T00:00:00+09:00",
          "2024-09-09T00:00:00+09:00",
          "2024-09-10T00:00:00+09:00",
          "2024-09-11T00:00:00+09:00",
          "2024-09-12T00:00:00+09:00",
          "2024-09-13T00:00:00+09:00",
          "2024-09-17T00:00:00+09:00",
          "2024-09-18T00:00:00+09:00",
          "2024-09-19T00:00:00+09:00",
          "2024-09-20T00:00:00+09:00"
         ],
         "xaxis": "x",
         "y": [
          242.94178771972656,
          240.1958770751953,
          241.06300354003906,
          241.06298828125,
          238.61216735839844,
          234.29872131347656,
          237.1416778564453,
          230.6715087890625,
          233.22035217285156,
          233.90660095214844,
          237.23971557617188,
          234.69085693359375,
          236.357421875,
          234.88693237304688,
          220.57411193847656,
          224.78953552246094,
          216.16262817382812,
          215.08425903320312,
          212.14328002929688,
          209.30032348632812,
          212.24131774902344,
          211.94720458984375,
          212.73147583007812,
          217.24099731445312,
          215.67247009277344,
          219.8878936767578,
          224.20132446289062,
          236.55348205566406,
          242.5334930419922,
          242.141357421875,
          242.92562866210938,
          245.67054748535156,
          244.29808044433594,
          230.57347106933594,
          236.65150451660156,
          233.51446533203125,
          231.847900390625,
          237.1416778564453,
          240.67086791992188,
          244.88629150390625,
          242.8275909423828,
          247.14105224609375,
          246.84693908691406,
          252.53285217285156,
          252.8269500732422,
          249.78793334960938,
          237.0436553955078,
          231.45578002929688,
          225.37771606445312,
          227.04429626464844,
          219.59378051757812,
          214.20196533203125,
          222.53477478027344,
          217.82919311523438,
          223.02493286132812,
          224.59347534179688,
          225.18165588378906,
          225.18165588378906,
          228.02462768554688,
          225.86788940429688,
          223.51510620117188,
          230.1813507080078,
          226.35804748535156,
          229.20101928710938,
          236.74954223632812,
          241.16102600097656,
          237.33775329589844,
          240.9649658203125,
          244.7882537841797,
          247.23907470703125,
          242.7295684814453,
          239.69053649902344,
          235.279052734375,
          231.55380249023438,
          227.2403564453125,
          224.985595703125,
          221.75050354003906,
          230.6715087890625,
          228.9069061279297,
          230.37741088867188,
          229.0049591064453,
          229.29904174804688,
          230.57347106933594,
          232.5341339111328,
          231.55380249023438,
          232.04396057128906,
          235.18101501464844,
          235.9652862548828,
          239.69053649902344,
          235.47511291503906,
          233.12232971191406,
          232.04396057128906,
          234.98495483398438,
          238.61216735839844,
          230.37741088867188,
          211.06492614746094,
          208.51605224609375,
          214.88819885253906,
          217.4370574951172,
          218.51541137695312,
          217.73117065429688,
          213.71180725097656,
          214.0059051513672,
          214.59410095214844,
          212.04525756835938,
          211.45704650878906,
          208.22195434570312,
          205.77113342285156,
          205.5750732421875,
          199.59507751464844,
          197.2422637939453,
          198.81080627441406,
          199.39898681640625,
          196.9481658935547,
          201.26162719726562,
          201.4576873779297,
          206.84950256347656,
          210.47671508789062,
          219.8878936767578,
          217.6331329345703,
          210.77081298828125,
          214.88819885253906,
          214.30001831054688,
          211.1999969482422,
          213.10000610351562,
          210.60000610351562,
          208.60000610351562,
          207.3000030517578,
          207.5,
          208,
          211.8000030517578,
          218.1999969482422,
          217.5,
          216.8000030517578,
          218.1999969482422,
          212.60000610351562,
          214,
          210.10000610351562,
          210.1999969482422,
          207.6999969482422,
          214.89999389648438,
          215.60000610351562,
          218.6999969482422,
          217.5,
          220.39999389648438,
          219.1999969482422,
          216.60000610351562,
          215.60000610351562,
          220.39999389648438,
          221.1999969482422,
          222.8000030517578,
          225.89999389648438,
          220.1999969482422,
          233.89999389648438,
          230.89999389648438,
          236.6999969482422,
          238.89999389648438,
          236.6999969482422,
          231.8000030517578,
          225,
          225.39999389648438,
          227.1999969482422,
          223.3000030517578,
          222.60000610351562,
          220,
          223.5,
          226.10000610351562,
          228.5,
          228.10000610351562,
          225,
          222.60000610351562,
          224.3000030517578,
          223.3000030517578,
          223.5,
          223.8000030517578,
          216.8000030517578,
          214.5,
          210.3000030517578,
          210.5,
          210.6999969482422,
          208.60000610351562,
          212.1999969482422,
          216.39999389648438,
          220.89999389648438,
          222.6999969482422,
          225.8000030517578,
          222.6999969482422,
          228.39999389648438,
          228.60000610351562,
          234.39999389648438,
          243.1999969482422,
          241.39999389648438,
          243.1999969482422,
          249,
          252.3000030517578,
          256.8999938964844,
          259.20001220703125,
          257.79998779296875,
          255.89999389648438,
          257.5,
          255.6999969482422,
          254.1999969482422,
          257.8999938964844,
          257.29998779296875,
          250.60000610351562,
          252.10000610351562,
          253.8000030517578,
          256.8999938964844,
          258.5,
          245.6999969482422,
          239.1999969482422,
          218.6999969482422,
          241.8000030517578,
          244.39999389648438,
          242,
          271.20001220703125,
          266.5,
          276.1000061035156,
          272,
          279.29998779296875,
          276.6000061035156,
          279.1000061035156,
          274.1000061035156,
          273.6000061035156,
          274.79998779296875,
          280.29998779296875,
          283.8999938964844,
          285.6000061035156,
          283.20001220703125,
          284.70001220703125,
          281.1000061035156,
          287,
          282.5,
          281.8999938964844,
          280.29998779296875,
          282,
          281,
          273.8999938964844,
          277.79998779296875,
          270,
          270.79998779296875,
          273.1000061035156,
          276.5,
          274.8999938964844
         ],
         "yaxis": "y"
        },
        {
         "hovertemplate": "variable=ma05<br>Date=%{x}<br>value=%{y}<extra></extra>",
         "legendgroup": "ma05",
         "line": {
          "color": "#EF553B",
          "dash": "solid"
         },
         "marker": {
          "symbol": "circle"
         },
         "mode": "lines",
         "name": "ma05",
         "orientation": "v",
         "showlegend": true,
         "type": "scatter",
         "x": [
          "2023-09-25T00:00:00+09:00",
          "2023-09-26T00:00:00+09:00",
          "2023-09-27T00:00:00+09:00",
          "2023-09-28T00:00:00+09:00",
          "2023-09-29T00:00:00+09:00",
          "2023-10-02T00:00:00+09:00",
          "2023-10-03T00:00:00+09:00",
          "2023-10-04T00:00:00+09:00",
          "2023-10-05T00:00:00+09:00",
          "2023-10-06T00:00:00+09:00",
          "2023-10-10T00:00:00+09:00",
          "2023-10-11T00:00:00+09:00",
          "2023-10-12T00:00:00+09:00",
          "2023-10-13T00:00:00+09:00",
          "2023-10-16T00:00:00+09:00",
          "2023-10-17T00:00:00+09:00",
          "2023-10-18T00:00:00+09:00",
          "2023-10-19T00:00:00+09:00",
          "2023-10-20T00:00:00+09:00",
          "2023-10-23T00:00:00+09:00",
          "2023-10-24T00:00:00+09:00",
          "2023-10-25T00:00:00+09:00",
          "2023-10-26T00:00:00+09:00",
          "2023-10-27T00:00:00+09:00",
          "2023-10-30T00:00:00+09:00",
          "2023-10-31T00:00:00+09:00",
          "2023-11-01T00:00:00+09:00",
          "2023-11-02T00:00:00+09:00",
          "2023-11-06T00:00:00+09:00",
          "2023-11-07T00:00:00+09:00",
          "2023-11-08T00:00:00+09:00",
          "2023-11-09T00:00:00+09:00",
          "2023-11-10T00:00:00+09:00",
          "2023-11-13T00:00:00+09:00",
          "2023-11-14T00:00:00+09:00",
          "2023-11-15T00:00:00+09:00",
          "2023-11-16T00:00:00+09:00",
          "2023-11-17T00:00:00+09:00",
          "2023-11-20T00:00:00+09:00",
          "2023-11-21T00:00:00+09:00",
          "2023-11-22T00:00:00+09:00",
          "2023-11-24T00:00:00+09:00",
          "2023-11-27T00:00:00+09:00",
          "2023-11-28T00:00:00+09:00",
          "2023-11-29T00:00:00+09:00",
          "2023-11-30T00:00:00+09:00",
          "2023-12-01T00:00:00+09:00",
          "2023-12-04T00:00:00+09:00",
          "2023-12-05T00:00:00+09:00",
          "2023-12-06T00:00:00+09:00",
          "2023-12-07T00:00:00+09:00",
          "2023-12-08T00:00:00+09:00",
          "2023-12-11T00:00:00+09:00",
          "2023-12-12T00:00:00+09:00",
          "2023-12-13T00:00:00+09:00",
          "2023-12-14T00:00:00+09:00",
          "2023-12-15T00:00:00+09:00",
          "2023-12-18T00:00:00+09:00",
          "2023-12-19T00:00:00+09:00",
          "2023-12-20T00:00:00+09:00",
          "2023-12-21T00:00:00+09:00",
          "2023-12-22T00:00:00+09:00",
          "2023-12-25T00:00:00+09:00",
          "2023-12-26T00:00:00+09:00",
          "2023-12-27T00:00:00+09:00",
          "2023-12-28T00:00:00+09:00",
          "2023-12-29T00:00:00+09:00",
          "2024-01-04T00:00:00+09:00",
          "2024-01-05T00:00:00+09:00",
          "2024-01-09T00:00:00+09:00",
          "2024-01-10T00:00:00+09:00",
          "2024-01-11T00:00:00+09:00",
          "2024-01-12T00:00:00+09:00",
          "2024-01-15T00:00:00+09:00",
          "2024-01-16T00:00:00+09:00",
          "2024-01-17T00:00:00+09:00",
          "2024-01-18T00:00:00+09:00",
          "2024-01-19T00:00:00+09:00",
          "2024-01-22T00:00:00+09:00",
          "2024-01-23T00:00:00+09:00",
          "2024-01-24T00:00:00+09:00",
          "2024-01-25T00:00:00+09:00",
          "2024-01-26T00:00:00+09:00",
          "2024-01-29T00:00:00+09:00",
          "2024-01-30T00:00:00+09:00",
          "2024-01-31T00:00:00+09:00",
          "2024-02-01T00:00:00+09:00",
          "2024-02-02T00:00:00+09:00",
          "2024-02-05T00:00:00+09:00",
          "2024-02-06T00:00:00+09:00",
          "2024-02-07T00:00:00+09:00",
          "2024-02-08T00:00:00+09:00",
          "2024-02-09T00:00:00+09:00",
          "2024-02-13T00:00:00+09:00",
          "2024-02-14T00:00:00+09:00",
          "2024-02-15T00:00:00+09:00",
          "2024-02-16T00:00:00+09:00",
          "2024-02-19T00:00:00+09:00",
          "2024-02-20T00:00:00+09:00",
          "2024-02-21T00:00:00+09:00",
          "2024-02-22T00:00:00+09:00",
          "2024-02-26T00:00:00+09:00",
          "2024-02-27T00:00:00+09:00",
          "2024-02-28T00:00:00+09:00",
          "2024-02-29T00:00:00+09:00",
          "2024-03-01T00:00:00+09:00",
          "2024-03-04T00:00:00+09:00",
          "2024-03-05T00:00:00+09:00",
          "2024-03-06T00:00:00+09:00",
          "2024-03-07T00:00:00+09:00",
          "2024-03-08T00:00:00+09:00",
          "2024-03-11T00:00:00+09:00",
          "2024-03-12T00:00:00+09:00",
          "2024-03-13T00:00:00+09:00",
          "2024-03-14T00:00:00+09:00",
          "2024-03-15T00:00:00+09:00",
          "2024-03-18T00:00:00+09:00",
          "2024-03-19T00:00:00+09:00",
          "2024-03-21T00:00:00+09:00",
          "2024-03-22T00:00:00+09:00",
          "2024-03-25T00:00:00+09:00",
          "2024-03-26T00:00:00+09:00",
          "2024-03-27T00:00:00+09:00",
          "2024-03-28T00:00:00+09:00",
          "2024-03-29T00:00:00+09:00",
          "2024-04-01T00:00:00+09:00",
          "2024-04-02T00:00:00+09:00",
          "2024-04-03T00:00:00+09:00",
          "2024-04-04T00:00:00+09:00",
          "2024-04-05T00:00:00+09:00",
          "2024-04-08T00:00:00+09:00",
          "2024-04-09T00:00:00+09:00",
          "2024-04-10T00:00:00+09:00",
          "2024-04-11T00:00:00+09:00",
          "2024-04-12T00:00:00+09:00",
          "2024-04-15T00:00:00+09:00",
          "2024-04-16T00:00:00+09:00",
          "2024-04-17T00:00:00+09:00",
          "2024-04-18T00:00:00+09:00",
          "2024-04-19T00:00:00+09:00",
          "2024-04-22T00:00:00+09:00",
          "2024-04-23T00:00:00+09:00",
          "2024-04-24T00:00:00+09:00",
          "2024-04-25T00:00:00+09:00",
          "2024-04-26T00:00:00+09:00",
          "2024-04-30T00:00:00+09:00",
          "2024-05-01T00:00:00+09:00",
          "2024-05-02T00:00:00+09:00",
          "2024-05-07T00:00:00+09:00",
          "2024-05-08T00:00:00+09:00",
          "2024-05-09T00:00:00+09:00",
          "2024-05-10T00:00:00+09:00",
          "2024-05-13T00:00:00+09:00",
          "2024-05-14T00:00:00+09:00",
          "2024-05-15T00:00:00+09:00",
          "2024-05-16T00:00:00+09:00",
          "2024-05-17T00:00:00+09:00",
          "2024-05-20T00:00:00+09:00",
          "2024-05-21T00:00:00+09:00",
          "2024-05-22T00:00:00+09:00",
          "2024-05-23T00:00:00+09:00",
          "2024-05-24T00:00:00+09:00",
          "2024-05-27T00:00:00+09:00",
          "2024-05-28T00:00:00+09:00",
          "2024-05-29T00:00:00+09:00",
          "2024-05-30T00:00:00+09:00",
          "2024-05-31T00:00:00+09:00",
          "2024-06-03T00:00:00+09:00",
          "2024-06-04T00:00:00+09:00",
          "2024-06-05T00:00:00+09:00",
          "2024-06-06T00:00:00+09:00",
          "2024-06-07T00:00:00+09:00",
          "2024-06-10T00:00:00+09:00",
          "2024-06-11T00:00:00+09:00",
          "2024-06-12T00:00:00+09:00",
          "2024-06-13T00:00:00+09:00",
          "2024-06-14T00:00:00+09:00",
          "2024-06-17T00:00:00+09:00",
          "2024-06-18T00:00:00+09:00",
          "2024-06-19T00:00:00+09:00",
          "2024-06-20T00:00:00+09:00",
          "2024-06-21T00:00:00+09:00",
          "2024-06-24T00:00:00+09:00",
          "2024-06-25T00:00:00+09:00",
          "2024-06-26T00:00:00+09:00",
          "2024-06-27T00:00:00+09:00",
          "2024-06-28T00:00:00+09:00",
          "2024-07-01T00:00:00+09:00",
          "2024-07-02T00:00:00+09:00",
          "2024-07-03T00:00:00+09:00",
          "2024-07-04T00:00:00+09:00",
          "2024-07-05T00:00:00+09:00",
          "2024-07-08T00:00:00+09:00",
          "2024-07-09T00:00:00+09:00",
          "2024-07-10T00:00:00+09:00",
          "2024-07-11T00:00:00+09:00",
          "2024-07-12T00:00:00+09:00",
          "2024-07-16T00:00:00+09:00",
          "2024-07-17T00:00:00+09:00",
          "2024-07-18T00:00:00+09:00",
          "2024-07-19T00:00:00+09:00",
          "2024-07-22T00:00:00+09:00",
          "2024-07-23T00:00:00+09:00",
          "2024-07-24T00:00:00+09:00",
          "2024-07-25T00:00:00+09:00",
          "2024-07-26T00:00:00+09:00",
          "2024-07-29T00:00:00+09:00",
          "2024-07-30T00:00:00+09:00",
          "2024-07-31T00:00:00+09:00",
          "2024-08-01T00:00:00+09:00",
          "2024-08-02T00:00:00+09:00",
          "2024-08-05T00:00:00+09:00",
          "2024-08-06T00:00:00+09:00",
          "2024-08-07T00:00:00+09:00",
          "2024-08-08T00:00:00+09:00",
          "2024-08-09T00:00:00+09:00",
          "2024-08-13T00:00:00+09:00",
          "2024-08-14T00:00:00+09:00",
          "2024-08-15T00:00:00+09:00",
          "2024-08-16T00:00:00+09:00",
          "2024-08-19T00:00:00+09:00",
          "2024-08-20T00:00:00+09:00",
          "2024-08-21T00:00:00+09:00",
          "2024-08-22T00:00:00+09:00",
          "2024-08-23T00:00:00+09:00",
          "2024-08-26T00:00:00+09:00",
          "2024-08-27T00:00:00+09:00",
          "2024-08-28T00:00:00+09:00",
          "2024-08-29T00:00:00+09:00",
          "2024-08-30T00:00:00+09:00",
          "2024-09-02T00:00:00+09:00",
          "2024-09-03T00:00:00+09:00",
          "2024-09-04T00:00:00+09:00",
          "2024-09-05T00:00:00+09:00",
          "2024-09-06T00:00:00+09:00",
          "2024-09-09T00:00:00+09:00",
          "2024-09-10T00:00:00+09:00",
          "2024-09-11T00:00:00+09:00",
          "2024-09-12T00:00:00+09:00",
          "2024-09-13T00:00:00+09:00",
          "2024-09-17T00:00:00+09:00",
          "2024-09-18T00:00:00+09:00",
          "2024-09-19T00:00:00+09:00",
          "2024-09-20T00:00:00+09:00"
         ],
         "xaxis": "x",
         "y": [
          241.0244598388672,
          240.8124969482422,
          240.26331176757813,
          240.82212829589844,
          240.77516479492186,
          239.0465515136719,
          238.4357116699219,
          236.35741271972657,
          234.78888549804688,
          233.84777221679687,
          234.43597106933595,
          233.94580688476563,
          235.08298950195314,
          235.4163055419922,
          232.74980773925782,
          230.25977172851563,
          226.5541259765625,
          222.29949340820312,
          217.75076293945312,
          215.49600524902343,
          212.98636169433593,
          212.14327697753907,
          211.67272033691407,
          212.6922637939453,
          213.96669311523436,
          215.49600830078126,
          217.94683227539062,
          222.71123352050782,
          227.7697326660156,
          233.06351013183593,
          237.67105712890626,
          241.96490173339845,
          243.51382141113282,
          241.12181701660157,
          240.0238464355469,
          238.14161376953126,
          235.37708435058593,
          233.9458038330078,
          235.965283203125,
          237.61224060058595,
          239.47486572265626,
          242.53349609375,
          244.47454833984375,
          246.8469451904297,
          248.43507690429686,
          249.8271453857422,
          247.807666015625,
          244.72943420410155,
          239.29840698242188,
          234.14187622070312,
          228.10304565429686,
          223.53470764160156,
          221.75050659179686,
          220.2408020019531,
          219.43692932128906,
          220.4368682861328,
          222.63280639648437,
          223.1621826171875,
          225.20126953125,
          225.76986083984374,
          225.55418701171874,
          226.5541259765625,
          226.789404296875,
          227.0246826171875,
          229.20101318359374,
          232.73019714355468,
          234.1614776611328,
          237.082861328125,
          240.20030822753907,
          242.2982147216797,
          242.61192321777344,
          243.08247985839844,
          241.94529724121094,
          239.29840698242188,
          235.2986633300781,
          231.74986877441407,
          228.1618621826172,
          227.2403533935547,
          226.71097412109376,
          227.33838500976563,
          228.1422576904297,
          229.65196533203124,
          229.63235778808593,
          230.35780334472656,
          230.59308166503905,
          231.2008819580078,
          232.3772766113281,
          233.4556396484375,
          234.8869201660156,
          235.67118225097656,
          235.88685607910156,
          235.2594451904297,
          235.06337890625,
          234.847705078125,
          233.82816467285156,
          229.41668395996095,
          224.7111022949219,
          220.6917510986328,
          216.45672912597655,
          214.0843292236328,
          215.417578125,
          216.45672912597655,
          216.2802703857422,
          215.71167907714843,
          214.4176483154297,
          213.16282348632814,
          212.06485290527343,
          210.41789855957032,
          208.6140930175781,
          206.12405700683593,
          203.28110046386718,
          201.39887084960938,
          200.12444152832032,
          198.39906005859376,
          198.73236999511718,
          199.57545471191406,
          201.18319396972657,
          203.39873962402345,
          207.98668518066407,
          211.260986328125,
          213.1236114501953,
          214.73135070800782,
          215.49601135253906,
          213.75843200683593,
          212.851806640625,
          212.81764526367186,
          211.56000671386718,
          210.16000366210938,
          209.42000427246094,
          208.4000030517578,
          208.64000244140624,
          210.56000061035155,
          212.6,
          214.46000061035156,
          216.5,
          216.66000061035157,
          215.82000122070312,
          214.34000244140626,
          213.02000122070314,
          210.9200012207031,
          211.37999877929687,
          211.7,
          213.4199981689453,
          214.87999877929687,
          217.4199981689453,
          218.27999877929688,
          218.47999877929686,
          217.86000061035156,
          218.43999938964845,
          218.6,
          219.32000122070312,
          221.17999877929688,
          222.0999969482422,
          224.79999694824218,
          226.73999633789063,
          229.5199951171875,
          232.1199951171875,
          235.4199951171875,
          234.9999969482422,
          233.81999816894532,
          231.55999755859375,
          229.21999816894532,
          226.53999938964844,
          224.7,
          223.7,
          223.32000122070312,
          223.10000305175782,
          224.14000244140624,
          225.24000244140626,
          226.24000244140626,
          226.06000366210938,
          225.70000305175782,
          224.66000366210938,
          223.74000244140626,
          223.5000030517578,
          222.34000244140626,
          220.3800018310547,
          217.78000183105468,
          215.18000183105468,
          212.56000061035155,
          210.9200012207031,
          210.46000061035156,
          211.67999877929688,
          213.75999755859374,
          216.15999755859374,
          219.5999969482422,
          221.6999969482422,
          224.0999969482422,
          225.63999938964844,
          227.97999877929686,
          231.45999755859376,
          235.1999969482422,
          238.15999755859374,
          242.23999633789063,
          245.81999816894532,
          248.55999755859375,
          252.12000122070313,
          255.03999938964844,
          256.4199981689453,
          257.4599975585937,
          257.2199981689453,
          256.2199951171875,
          256.2399963378906,
          256.5199951171875,
          255.13999633789064,
          254.4199981689453,
          254.33999938964843,
          254.13999938964844,
          254.3800018310547,
          253.4,
          250.81999816894532,
          243.79999694824218,
          240.77999877929688,
          237.95999755859376,
          237.21999816894532,
          243.62000122070313,
          253.18000183105468,
          260.0400024414063,
          265.56000366210935,
          273.02000122070314,
          274.1,
          276.6200012207031,
          276.2200012207031,
          276.5400024414063,
          275.64000244140624,
          276.3799987792969,
          277.3399963378906,
          279.63999633789064,
          281.55999755859375,
          283.5400024414063,
          283.70000610351565,
          284.32000732421875,
          283.70000610351565,
          283.44000244140625,
          282.55999755859375,
          282.7399963378906,
          281.5399963378906,
          279.8199951171875,
          278.9999938964844,
          276.93999633789065,
          274.6999938964844,
          273.1199951171875,
          273.63999633789064,
          273.05999755859375
         ],
         "yaxis": "y"
        },
        {
         "hovertemplate": "variable=ma25<br>Date=%{x}<br>value=%{y}<extra></extra>",
         "legendgroup": "ma25",
         "line": {
          "color": "#00cc96",
          "dash": "solid"
         },
         "marker": {
          "symbol": "circle"
         },
         "mode": "lines",
         "name": "ma25",
         "orientation": "v",
         "showlegend": true,
         "type": "scatter",
         "x": [
          "2023-09-25T00:00:00+09:00",
          "2023-09-26T00:00:00+09:00",
          "2023-09-27T00:00:00+09:00",
          "2023-09-28T00:00:00+09:00",
          "2023-09-29T00:00:00+09:00",
          "2023-10-02T00:00:00+09:00",
          "2023-10-03T00:00:00+09:00",
          "2023-10-04T00:00:00+09:00",
          "2023-10-05T00:00:00+09:00",
          "2023-10-06T00:00:00+09:00",
          "2023-10-10T00:00:00+09:00",
          "2023-10-11T00:00:00+09:00",
          "2023-10-12T00:00:00+09:00",
          "2023-10-13T00:00:00+09:00",
          "2023-10-16T00:00:00+09:00",
          "2023-10-17T00:00:00+09:00",
          "2023-10-18T00:00:00+09:00",
          "2023-10-19T00:00:00+09:00",
          "2023-10-20T00:00:00+09:00",
          "2023-10-23T00:00:00+09:00",
          "2023-10-24T00:00:00+09:00",
          "2023-10-25T00:00:00+09:00",
          "2023-10-26T00:00:00+09:00",
          "2023-10-27T00:00:00+09:00",
          "2023-10-30T00:00:00+09:00",
          "2023-10-31T00:00:00+09:00",
          "2023-11-01T00:00:00+09:00",
          "2023-11-02T00:00:00+09:00",
          "2023-11-06T00:00:00+09:00",
          "2023-11-07T00:00:00+09:00",
          "2023-11-08T00:00:00+09:00",
          "2023-11-09T00:00:00+09:00",
          "2023-11-10T00:00:00+09:00",
          "2023-11-13T00:00:00+09:00",
          "2023-11-14T00:00:00+09:00",
          "2023-11-15T00:00:00+09:00",
          "2023-11-16T00:00:00+09:00",
          "2023-11-17T00:00:00+09:00",
          "2023-11-20T00:00:00+09:00",
          "2023-11-21T00:00:00+09:00",
          "2023-11-22T00:00:00+09:00",
          "2023-11-24T00:00:00+09:00",
          "2023-11-27T00:00:00+09:00",
          "2023-11-28T00:00:00+09:00",
          "2023-11-29T00:00:00+09:00",
          "2023-11-30T00:00:00+09:00",
          "2023-12-01T00:00:00+09:00",
          "2023-12-04T00:00:00+09:00",
          "2023-12-05T00:00:00+09:00",
          "2023-12-06T00:00:00+09:00",
          "2023-12-07T00:00:00+09:00",
          "2023-12-08T00:00:00+09:00",
          "2023-12-11T00:00:00+09:00",
          "2023-12-12T00:00:00+09:00",
          "2023-12-13T00:00:00+09:00",
          "2023-12-14T00:00:00+09:00",
          "2023-12-15T00:00:00+09:00",
          "2023-12-18T00:00:00+09:00",
          "2023-12-19T00:00:00+09:00",
          "2023-12-20T00:00:00+09:00",
          "2023-12-21T00:00:00+09:00",
          "2023-12-22T00:00:00+09:00",
          "2023-12-25T00:00:00+09:00",
          "2023-12-26T00:00:00+09:00",
          "2023-12-27T00:00:00+09:00",
          "2023-12-28T00:00:00+09:00",
          "2023-12-29T00:00:00+09:00",
          "2024-01-04T00:00:00+09:00",
          "2024-01-05T00:00:00+09:00",
          "2024-01-09T00:00:00+09:00",
          "2024-01-10T00:00:00+09:00",
          "2024-01-11T00:00:00+09:00",
          "2024-01-12T00:00:00+09:00",
          "2024-01-15T00:00:00+09:00",
          "2024-01-16T00:00:00+09:00",
          "2024-01-17T00:00:00+09:00",
          "2024-01-18T00:00:00+09:00",
          "2024-01-19T00:00:00+09:00",
          "2024-01-22T00:00:00+09:00",
          "2024-01-23T00:00:00+09:00",
          "2024-01-24T00:00:00+09:00",
          "2024-01-25T00:00:00+09:00",
          "2024-01-26T00:00:00+09:00",
          "2024-01-29T00:00:00+09:00",
          "2024-01-30T00:00:00+09:00",
          "2024-01-31T00:00:00+09:00",
          "2024-02-01T00:00:00+09:00",
          "2024-02-02T00:00:00+09:00",
          "2024-02-05T00:00:00+09:00",
          "2024-02-06T00:00:00+09:00",
          "2024-02-07T00:00:00+09:00",
          "2024-02-08T00:00:00+09:00",
          "2024-02-09T00:00:00+09:00",
          "2024-02-13T00:00:00+09:00",
          "2024-02-14T00:00:00+09:00",
          "2024-02-15T00:00:00+09:00",
          "2024-02-16T00:00:00+09:00",
          "2024-02-19T00:00:00+09:00",
          "2024-02-20T00:00:00+09:00",
          "2024-02-21T00:00:00+09:00",
          "2024-02-22T00:00:00+09:00",
          "2024-02-26T00:00:00+09:00",
          "2024-02-27T00:00:00+09:00",
          "2024-02-28T00:00:00+09:00",
          "2024-02-29T00:00:00+09:00",
          "2024-03-01T00:00:00+09:00",
          "2024-03-04T00:00:00+09:00",
          "2024-03-05T00:00:00+09:00",
          "2024-03-06T00:00:00+09:00",
          "2024-03-07T00:00:00+09:00",
          "2024-03-08T00:00:00+09:00",
          "2024-03-11T00:00:00+09:00",
          "2024-03-12T00:00:00+09:00",
          "2024-03-13T00:00:00+09:00",
          "2024-03-14T00:00:00+09:00",
          "2024-03-15T00:00:00+09:00",
          "2024-03-18T00:00:00+09:00",
          "2024-03-19T00:00:00+09:00",
          "2024-03-21T00:00:00+09:00",
          "2024-03-22T00:00:00+09:00",
          "2024-03-25T00:00:00+09:00",
          "2024-03-26T00:00:00+09:00",
          "2024-03-27T00:00:00+09:00",
          "2024-03-28T00:00:00+09:00",
          "2024-03-29T00:00:00+09:00",
          "2024-04-01T00:00:00+09:00",
          "2024-04-02T00:00:00+09:00",
          "2024-04-03T00:00:00+09:00",
          "2024-04-04T00:00:00+09:00",
          "2024-04-05T00:00:00+09:00",
          "2024-04-08T00:00:00+09:00",
          "2024-04-09T00:00:00+09:00",
          "2024-04-10T00:00:00+09:00",
          "2024-04-11T00:00:00+09:00",
          "2024-04-12T00:00:00+09:00",
          "2024-04-15T00:00:00+09:00",
          "2024-04-16T00:00:00+09:00",
          "2024-04-17T00:00:00+09:00",
          "2024-04-18T00:00:00+09:00",
          "2024-04-19T00:00:00+09:00",
          "2024-04-22T00:00:00+09:00",
          "2024-04-23T00:00:00+09:00",
          "2024-04-24T00:00:00+09:00",
          "2024-04-25T00:00:00+09:00",
          "2024-04-26T00:00:00+09:00",
          "2024-04-30T00:00:00+09:00",
          "2024-05-01T00:00:00+09:00",
          "2024-05-02T00:00:00+09:00",
          "2024-05-07T00:00:00+09:00",
          "2024-05-08T00:00:00+09:00",
          "2024-05-09T00:00:00+09:00",
          "2024-05-10T00:00:00+09:00",
          "2024-05-13T00:00:00+09:00",
          "2024-05-14T00:00:00+09:00",
          "2024-05-15T00:00:00+09:00",
          "2024-05-16T00:00:00+09:00",
          "2024-05-17T00:00:00+09:00",
          "2024-05-20T00:00:00+09:00",
          "2024-05-21T00:00:00+09:00",
          "2024-05-22T00:00:00+09:00",
          "2024-05-23T00:00:00+09:00",
          "2024-05-24T00:00:00+09:00",
          "2024-05-27T00:00:00+09:00",
          "2024-05-28T00:00:00+09:00",
          "2024-05-29T00:00:00+09:00",
          "2024-05-30T00:00:00+09:00",
          "2024-05-31T00:00:00+09:00",
          "2024-06-03T00:00:00+09:00",
          "2024-06-04T00:00:00+09:00",
          "2024-06-05T00:00:00+09:00",
          "2024-06-06T00:00:00+09:00",
          "2024-06-07T00:00:00+09:00",
          "2024-06-10T00:00:00+09:00",
          "2024-06-11T00:00:00+09:00",
          "2024-06-12T00:00:00+09:00",
          "2024-06-13T00:00:00+09:00",
          "2024-06-14T00:00:00+09:00",
          "2024-06-17T00:00:00+09:00",
          "2024-06-18T00:00:00+09:00",
          "2024-06-19T00:00:00+09:00",
          "2024-06-20T00:00:00+09:00",
          "2024-06-21T00:00:00+09:00",
          "2024-06-24T00:00:00+09:00",
          "2024-06-25T00:00:00+09:00",
          "2024-06-26T00:00:00+09:00",
          "2024-06-27T00:00:00+09:00",
          "2024-06-28T00:00:00+09:00",
          "2024-07-01T00:00:00+09:00",
          "2024-07-02T00:00:00+09:00",
          "2024-07-03T00:00:00+09:00",
          "2024-07-04T00:00:00+09:00",
          "2024-07-05T00:00:00+09:00",
          "2024-07-08T00:00:00+09:00",
          "2024-07-09T00:00:00+09:00",
          "2024-07-10T00:00:00+09:00",
          "2024-07-11T00:00:00+09:00",
          "2024-07-12T00:00:00+09:00",
          "2024-07-16T00:00:00+09:00",
          "2024-07-17T00:00:00+09:00",
          "2024-07-18T00:00:00+09:00",
          "2024-07-19T00:00:00+09:00",
          "2024-07-22T00:00:00+09:00",
          "2024-07-23T00:00:00+09:00",
          "2024-07-24T00:00:00+09:00",
          "2024-07-25T00:00:00+09:00",
          "2024-07-26T00:00:00+09:00",
          "2024-07-29T00:00:00+09:00",
          "2024-07-30T00:00:00+09:00",
          "2024-07-31T00:00:00+09:00",
          "2024-08-01T00:00:00+09:00",
          "2024-08-02T00:00:00+09:00",
          "2024-08-05T00:00:00+09:00",
          "2024-08-06T00:00:00+09:00",
          "2024-08-07T00:00:00+09:00",
          "2024-08-08T00:00:00+09:00",
          "2024-08-09T00:00:00+09:00",
          "2024-08-13T00:00:00+09:00",
          "2024-08-14T00:00:00+09:00",
          "2024-08-15T00:00:00+09:00",
          "2024-08-16T00:00:00+09:00",
          "2024-08-19T00:00:00+09:00",
          "2024-08-20T00:00:00+09:00",
          "2024-08-21T00:00:00+09:00",
          "2024-08-22T00:00:00+09:00",
          "2024-08-23T00:00:00+09:00",
          "2024-08-26T00:00:00+09:00",
          "2024-08-27T00:00:00+09:00",
          "2024-08-28T00:00:00+09:00",
          "2024-08-29T00:00:00+09:00",
          "2024-08-30T00:00:00+09:00",
          "2024-09-02T00:00:00+09:00",
          "2024-09-03T00:00:00+09:00",
          "2024-09-04T00:00:00+09:00",
          "2024-09-05T00:00:00+09:00",
          "2024-09-06T00:00:00+09:00",
          "2024-09-09T00:00:00+09:00",
          "2024-09-10T00:00:00+09:00",
          "2024-09-11T00:00:00+09:00",
          "2024-09-12T00:00:00+09:00",
          "2024-09-13T00:00:00+09:00",
          "2024-09-17T00:00:00+09:00",
          "2024-09-18T00:00:00+09:00",
          "2024-09-19T00:00:00+09:00",
          "2024-09-20T00:00:00+09:00"
         ],
         "xaxis": "x",
         "y": [
          243.47363159179687,
          243.5372216796875,
          243.55071044921874,
          243.55649047851563,
          243.38908630371094,
          243.06263305664064,
          242.77860046386718,
          242.14519409179687,
          241.7081622314453,
          241.44888366699217,
          241.17840759277342,
          240.67108947753906,
          240.19960327148436,
          239.51128662109375,
          238.44893371582032,
          237.57832153320314,
          236.563037109375,
          235.46800537109374,
          234.22835693359374,
          232.76708068847657,
          231.55062316894532,
          230.37828369140624,
          229.135185546875,
          228.29406921386717,
          227.36708862304687,
          226.4449328613281,
          225.80515075683593,
          225.62476989746094,
          225.68359008789062,
          225.8247576904297,
          226.169833984375,
          226.51098876953125,
          227.0560516357422,
          226.95017639160156,
          227.05997253417968,
          226.91096252441406,
          226.7972442626953,
          226.82861450195313,
          227.05997192382813,
          228.03245910644532,
          228.7539813232422,
          229.9931182861328,
          231.26362548828126,
          232.87920837402345,
          234.6202734375,
          236.12213806152343,
          237.12599609375,
          237.87496826171875,
          238.20043701171875,
          238.65531005859376,
          238.64354553222657,
          238.24357116699218,
          237.68282287597657,
          236.69465087890626,
          235.92999389648438,
          235.19670776367187,
          234.37715209960936,
          233.6124951171875,
          233.51054138183594,
          233.07919677734375,
          232.67922241210937,
          232.61256042480468,
          232.18121520996092,
          231.72242126464843,
          231.3969512939453,
          231.33028869628907,
          230.93815673828124,
          230.7028778076172,
          230.39309387207032,
          230.16957885742187,
          229.8872442626953,
          229.99311950683594,
          230.14605041503907,
          230.39309387207032,
          230.40093627929687,
          230.61660888671875,
          230.91855041503905,
          231.24401977539063,
          231.68712829589845,
          231.9812274169922,
          232.15768676757813,
          232.32238220214845,
          232.53805480957033,
          232.71843505859374,
          232.94587158203126,
          233.28702575683593,
          233.48701232910156,
          233.87130187988282,
          234.29088256835936,
          234.2399053955078,
          233.91835754394532,
          233.70660583496092,
          233.46740539550783,
          233.22036193847657,
          232.5458953857422,
          231.2793096923828,
          230.03233032226564,
          229.2166961669922,
          228.6520263671875,
          228.30302856445311,
          228.0128515625,
          227.6913037109375,
          227.0246795654297,
          226.45216735839844,
          225.71888122558593,
          225.0169647216797,
          224.17388122558594,
          223.18178771972657,
          222.10342529296875,
          220.8250762939453,
          219.43300842285157,
          217.9782000732422,
          216.51554809570314,
          214.80585327148438,
          213.43731384277345,
          212.17072814941406,
          211.16294982910156,
          210.1826202392578,
          209.4336492919922,
          208.92387817382811,
          208.91211364746093,
          209.16699951171876,
          209.14347229003906,
          208.89398986816406,
          208.67737365722655,
          208.3921270751953,
          208.18765502929688,
          207.9194189453125,
          207.63565490722655,
          207.4738446044922,
          207.48756286621094,
          207.8866845703125,
          208.35583923339843,
          208.80483642578125,
          209.549033203125,
          210.1633428955078,
          210.77091064453126,
          211.19895141601563,
          211.72902465820312,
          211.9865594482422,
          212.52425170898437,
          212.87427185058593,
          213.203203125,
          213.1076873779297,
          213.21836181640626,
          213.5555291748047,
          213.62400146484376,
          213.6760009765625,
          214.0440008544922,
          214.36800048828124,
          214.85600036621094,
          215.5479998779297,
          216.06399963378905,
          217.11999938964843,
          218.03599914550782,
          219.0319989013672,
          219.8599987792969,
          220.62799865722656,
          221.22799865722655,
          221.49999877929687,
          222.01199829101563,
          222.53999816894532,
          223.067998046875,
          223.56399841308593,
          224.05599853515625,
          224.39999877929688,
          224.81999877929687,
          225.2119989013672,
          225.6359991455078,
          225.81999938964844,
          225.95599975585938,
          226.26399963378907,
          226.57199951171876,
          226.69599975585936,
          226.8,
          226.56,
          226.10400024414062,
          225.70800048828124,
          224.77200073242187,
          223.96400085449218,
          222.84000122070313,
          221.77200134277345,
          220.96000122070313,
          220.5240008544922,
          220.43200073242187,
          220.4480010986328,
          220.26800109863282,
          220.47200073242186,
          220.71200073242187,
          221.28800048828126,
          222.07600036621093,
          222.68799987792968,
          223.27599975585937,
          224.11199951171875,
          225.20399963378907,
          226.5759991455078,
          227.97199951171876,
          229.35199890136718,
          230.64799865722657,
          231.99599853515625,
          233.55199829101562,
          235.1399981689453,
          237.04399780273437,
          238.91599731445314,
          240.51199768066405,
          242.25199768066406,
          243.91599792480469,
          245.5359979248047,
          247.03999816894532,
          247.9599981689453,
          248.4959979248047,
          248.3359979248047,
          248.87199829101561,
          249.50399780273438,
          249.807998046875,
          250.92799865722657,
          251.9319989013672,
          253.24799926757814,
          254.16799926757812,
          255.24799865722656,
          256.0359991455078,
          256.8319989013672,
          257.48399963378904,
          258.19200012207034,
          258.8839996337891,
          259.8679992675781,
          261.0559991455078,
          262.16399963378905,
          263.20000061035154,
          264.5640008544922,
          265.7240008544922,
          267.0520007324219,
          268.0760009765625,
          269.0120007324219,
          270.39600036621096,
          272.1080004882813,
          274.6000006103516,
          275.8840002441406,
          277.22,
          278.34,
          278.3239990234375,
          278.58799926757814,
          278.6039990234375,
          278.7199987792969
         ],
         "yaxis": "y"
        },
        {
         "marker": {
          "color": "green",
          "opacity": 0.8,
          "size": 15,
          "symbol": "triangle-up"
         },
         "mode": "markers",
         "name": "Golden Cross",
         "type": "scatter",
         "x": [
          "2023-09-25T00:00:00+09:00",
          "2023-09-26T00:00:00+09:00",
          "2023-09-27T00:00:00+09:00",
          "2023-09-28T00:00:00+09:00",
          "2023-09-29T00:00:00+09:00",
          "2023-10-02T00:00:00+09:00",
          "2023-10-03T00:00:00+09:00",
          "2023-10-04T00:00:00+09:00",
          "2023-10-05T00:00:00+09:00",
          "2023-10-06T00:00:00+09:00",
          "2023-10-10T00:00:00+09:00",
          "2023-10-11T00:00:00+09:00",
          "2023-10-12T00:00:00+09:00",
          "2023-10-13T00:00:00+09:00",
          "2023-10-16T00:00:00+09:00",
          "2023-10-17T00:00:00+09:00",
          "2023-10-18T00:00:00+09:00",
          "2023-10-19T00:00:00+09:00",
          "2023-10-20T00:00:00+09:00",
          "2023-10-23T00:00:00+09:00",
          "2023-10-24T00:00:00+09:00",
          "2023-10-25T00:00:00+09:00",
          "2023-10-26T00:00:00+09:00",
          "2023-10-27T00:00:00+09:00",
          "2023-10-30T00:00:00+09:00",
          "2023-10-31T00:00:00+09:00",
          "2023-11-01T00:00:00+09:00",
          "2023-11-02T00:00:00+09:00",
          "2023-11-06T00:00:00+09:00",
          "2023-11-07T00:00:00+09:00",
          "2023-11-08T00:00:00+09:00",
          "2023-11-09T00:00:00+09:00",
          "2023-11-10T00:00:00+09:00",
          "2023-11-13T00:00:00+09:00",
          "2023-11-14T00:00:00+09:00",
          "2023-11-15T00:00:00+09:00",
          "2023-11-16T00:00:00+09:00",
          "2023-11-17T00:00:00+09:00",
          "2023-11-20T00:00:00+09:00",
          "2023-11-21T00:00:00+09:00",
          "2023-11-22T00:00:00+09:00",
          "2023-11-24T00:00:00+09:00",
          "2023-11-27T00:00:00+09:00",
          "2023-11-28T00:00:00+09:00",
          "2023-11-29T00:00:00+09:00",
          "2023-11-30T00:00:00+09:00",
          "2023-12-01T00:00:00+09:00",
          "2023-12-04T00:00:00+09:00",
          "2023-12-05T00:00:00+09:00",
          "2023-12-06T00:00:00+09:00",
          "2023-12-07T00:00:00+09:00",
          "2023-12-08T00:00:00+09:00",
          "2023-12-11T00:00:00+09:00",
          "2023-12-12T00:00:00+09:00",
          "2023-12-13T00:00:00+09:00",
          "2023-12-14T00:00:00+09:00",
          "2023-12-15T00:00:00+09:00",
          "2023-12-18T00:00:00+09:00",
          "2023-12-19T00:00:00+09:00",
          "2023-12-20T00:00:00+09:00",
          "2023-12-21T00:00:00+09:00",
          "2023-12-22T00:00:00+09:00",
          "2023-12-25T00:00:00+09:00",
          "2023-12-26T00:00:00+09:00",
          "2023-12-27T00:00:00+09:00",
          "2023-12-28T00:00:00+09:00",
          "2023-12-29T00:00:00+09:00",
          "2024-01-04T00:00:00+09:00",
          "2024-01-05T00:00:00+09:00",
          "2024-01-09T00:00:00+09:00",
          "2024-01-10T00:00:00+09:00",
          "2024-01-11T00:00:00+09:00",
          "2024-01-12T00:00:00+09:00",
          "2024-01-15T00:00:00+09:00",
          "2024-01-16T00:00:00+09:00",
          "2024-01-17T00:00:00+09:00",
          "2024-01-18T00:00:00+09:00",
          "2024-01-19T00:00:00+09:00",
          "2024-01-22T00:00:00+09:00",
          "2024-01-23T00:00:00+09:00",
          "2024-01-24T00:00:00+09:00",
          "2024-01-25T00:00:00+09:00",
          "2024-01-26T00:00:00+09:00",
          "2024-01-29T00:00:00+09:00",
          "2024-01-30T00:00:00+09:00",
          "2024-01-31T00:00:00+09:00",
          "2024-02-01T00:00:00+09:00",
          "2024-02-02T00:00:00+09:00",
          "2024-02-05T00:00:00+09:00",
          "2024-02-06T00:00:00+09:00",
          "2024-02-07T00:00:00+09:00",
          "2024-02-08T00:00:00+09:00",
          "2024-02-09T00:00:00+09:00",
          "2024-02-13T00:00:00+09:00",
          "2024-02-14T00:00:00+09:00",
          "2024-02-15T00:00:00+09:00",
          "2024-02-16T00:00:00+09:00",
          "2024-02-19T00:00:00+09:00",
          "2024-02-20T00:00:00+09:00",
          "2024-02-21T00:00:00+09:00",
          "2024-02-22T00:00:00+09:00",
          "2024-02-26T00:00:00+09:00",
          "2024-02-27T00:00:00+09:00",
          "2024-02-28T00:00:00+09:00",
          "2024-02-29T00:00:00+09:00",
          "2024-03-01T00:00:00+09:00",
          "2024-03-04T00:00:00+09:00",
          "2024-03-05T00:00:00+09:00",
          "2024-03-06T00:00:00+09:00",
          "2024-03-07T00:00:00+09:00",
          "2024-03-08T00:00:00+09:00",
          "2024-03-11T00:00:00+09:00",
          "2024-03-12T00:00:00+09:00",
          "2024-03-13T00:00:00+09:00",
          "2024-03-14T00:00:00+09:00",
          "2024-03-15T00:00:00+09:00",
          "2024-03-18T00:00:00+09:00",
          "2024-03-19T00:00:00+09:00",
          "2024-03-21T00:00:00+09:00",
          "2024-03-22T00:00:00+09:00",
          "2024-03-25T00:00:00+09:00",
          "2024-03-26T00:00:00+09:00",
          "2024-03-27T00:00:00+09:00",
          "2024-03-28T00:00:00+09:00",
          "2024-03-29T00:00:00+09:00",
          "2024-04-01T00:00:00+09:00",
          "2024-04-02T00:00:00+09:00",
          "2024-04-03T00:00:00+09:00",
          "2024-04-04T00:00:00+09:00",
          "2024-04-05T00:00:00+09:00",
          "2024-04-08T00:00:00+09:00",
          "2024-04-09T00:00:00+09:00",
          "2024-04-10T00:00:00+09:00",
          "2024-04-11T00:00:00+09:00",
          "2024-04-12T00:00:00+09:00",
          "2024-04-15T00:00:00+09:00",
          "2024-04-16T00:00:00+09:00",
          "2024-04-17T00:00:00+09:00",
          "2024-04-18T00:00:00+09:00",
          "2024-04-19T00:00:00+09:00",
          "2024-04-22T00:00:00+09:00",
          "2024-04-23T00:00:00+09:00",
          "2024-04-24T00:00:00+09:00",
          "2024-04-25T00:00:00+09:00",
          "2024-04-26T00:00:00+09:00",
          "2024-04-30T00:00:00+09:00",
          "2024-05-01T00:00:00+09:00",
          "2024-05-02T00:00:00+09:00",
          "2024-05-07T00:00:00+09:00",
          "2024-05-08T00:00:00+09:00",
          "2024-05-09T00:00:00+09:00",
          "2024-05-10T00:00:00+09:00",
          "2024-05-13T00:00:00+09:00",
          "2024-05-14T00:00:00+09:00",
          "2024-05-15T00:00:00+09:00",
          "2024-05-16T00:00:00+09:00",
          "2024-05-17T00:00:00+09:00",
          "2024-05-20T00:00:00+09:00",
          "2024-05-21T00:00:00+09:00",
          "2024-05-22T00:00:00+09:00",
          "2024-05-23T00:00:00+09:00",
          "2024-05-24T00:00:00+09:00",
          "2024-05-27T00:00:00+09:00",
          "2024-05-28T00:00:00+09:00",
          "2024-05-29T00:00:00+09:00",
          "2024-05-30T00:00:00+09:00",
          "2024-05-31T00:00:00+09:00",
          "2024-06-03T00:00:00+09:00",
          "2024-06-04T00:00:00+09:00",
          "2024-06-05T00:00:00+09:00",
          "2024-06-06T00:00:00+09:00",
          "2024-06-07T00:00:00+09:00",
          "2024-06-10T00:00:00+09:00",
          "2024-06-11T00:00:00+09:00",
          "2024-06-12T00:00:00+09:00",
          "2024-06-13T00:00:00+09:00",
          "2024-06-14T00:00:00+09:00",
          "2024-06-17T00:00:00+09:00",
          "2024-06-18T00:00:00+09:00",
          "2024-06-19T00:00:00+09:00",
          "2024-06-20T00:00:00+09:00",
          "2024-06-21T00:00:00+09:00",
          "2024-06-24T00:00:00+09:00",
          "2024-06-25T00:00:00+09:00",
          "2024-06-26T00:00:00+09:00",
          "2024-06-27T00:00:00+09:00",
          "2024-06-28T00:00:00+09:00",
          "2024-07-01T00:00:00+09:00",
          "2024-07-02T00:00:00+09:00",
          "2024-07-03T00:00:00+09:00",
          "2024-07-04T00:00:00+09:00",
          "2024-07-05T00:00:00+09:00",
          "2024-07-08T00:00:00+09:00",
          "2024-07-09T00:00:00+09:00",
          "2024-07-10T00:00:00+09:00",
          "2024-07-11T00:00:00+09:00",
          "2024-07-12T00:00:00+09:00",
          "2024-07-16T00:00:00+09:00",
          "2024-07-17T00:00:00+09:00",
          "2024-07-18T00:00:00+09:00",
          "2024-07-19T00:00:00+09:00",
          "2024-07-22T00:00:00+09:00",
          "2024-07-23T00:00:00+09:00",
          "2024-07-24T00:00:00+09:00",
          "2024-07-25T00:00:00+09:00",
          "2024-07-26T00:00:00+09:00",
          "2024-07-29T00:00:00+09:00",
          "2024-07-30T00:00:00+09:00",
          "2024-07-31T00:00:00+09:00",
          "2024-08-01T00:00:00+09:00",
          "2024-08-02T00:00:00+09:00",
          "2024-08-05T00:00:00+09:00",
          "2024-08-06T00:00:00+09:00",
          "2024-08-07T00:00:00+09:00",
          "2024-08-08T00:00:00+09:00",
          "2024-08-09T00:00:00+09:00",
          "2024-08-13T00:00:00+09:00",
          "2024-08-14T00:00:00+09:00",
          "2024-08-15T00:00:00+09:00",
          "2024-08-16T00:00:00+09:00",
          "2024-08-19T00:00:00+09:00",
          "2024-08-20T00:00:00+09:00",
          "2024-08-21T00:00:00+09:00",
          "2024-08-22T00:00:00+09:00",
          "2024-08-23T00:00:00+09:00",
          "2024-08-26T00:00:00+09:00",
          "2024-08-27T00:00:00+09:00",
          "2024-08-28T00:00:00+09:00",
          "2024-08-29T00:00:00+09:00",
          "2024-08-30T00:00:00+09:00",
          "2024-09-02T00:00:00+09:00",
          "2024-09-03T00:00:00+09:00",
          "2024-09-04T00:00:00+09:00",
          "2024-09-05T00:00:00+09:00",
          "2024-09-06T00:00:00+09:00",
          "2024-09-09T00:00:00+09:00",
          "2024-09-10T00:00:00+09:00",
          "2024-09-11T00:00:00+09:00",
          "2024-09-12T00:00:00+09:00",
          "2024-09-13T00:00:00+09:00",
          "2024-09-17T00:00:00+09:00",
          "2024-09-18T00:00:00+09:00",
          "2024-09-19T00:00:00+09:00",
          "2024-09-20T00:00:00+09:00"
         ],
         "y": [
          null,
          null,
          null,
          null,
          null,
          null,
          null,
          null,
          null,
          null,
          null,
          null,
          null,
          null,
          null,
          null,
          null,
          null,
          null,
          null,
          null,
          null,
          null,
          null,
          null,
          null,
          null,
          null,
          227.7697326660156,
          null,
          null,
          null,
          null,
          null,
          null,
          null,
          null,
          null,
          null,
          null,
          null,
          null,
          null,
          null,
          null,
          null,
          null,
          null,
          null,
          null,
          null,
          null,
          null,
          null,
          null,
          null,
          null,
          null,
          null,
          null,
          null,
          null,
          null,
          null,
          null,
          232.73019714355468,
          null,
          null,
          null,
          null,
          null,
          null,
          null,
          null,
          null,
          null,
          null,
          null,
          null,
          null,
          null,
          null,
          null,
          null,
          null,
          null,
          null,
          null,
          234.8869201660156,
          null,
          null,
          null,
          null,
          null,
          null,
          null,
          null,
          null,
          null,
          null,
          null,
          null,
          null,
          null,
          null,
          null,
          null,
          null,
          null,
          null,
          null,
          null,
          null,
          null,
          null,
          null,
          null,
          null,
          null,
          211.260986328125,
          null,
          null,
          null,
          null,
          null,
          null,
          null,
          null,
          null,
          null,
          null,
          null,
          null,
          null,
          null,
          null,
          null,
          null,
          null,
          null,
          null,
          null,
          213.4199981689453,
          null,
          null,
          null,
          null,
          null,
          null,
          null,
          null,
          null,
          null,
          null,
          null,
          null,
          null,
          null,
          null,
          null,
          null,
          null,
          null,
          null,
          null,
          null,
          null,
          null,
          null,
          226.24000244140626,
          null,
          null,
          null,
          null,
          null,
          null,
          null,
          null,
          null,
          null,
          null,
          null,
          null,
          null,
          null,
          null,
          221.6999969482422,
          null,
          null,
          null,
          null,
          null,
          null,
          null,
          null,
          null,
          null,
          null,
          null,
          null,
          null,
          null,
          null,
          null,
          null,
          null,
          null,
          null,
          null,
          null,
          null,
          null,
          null,
          null,
          null,
          null,
          253.18000183105468,
          null,
          null,
          null,
          null,
          null,
          null,
          null,
          null,
          null,
          null,
          null,
          null,
          null,
          null,
          null,
          null,
          null,
          null,
          null,
          null,
          null,
          null,
          null,
          null,
          null,
          null,
          null
         ]
        },
        {
         "marker": {
          "color": "red",
          "opacity": 0.8,
          "size": 15,
          "symbol": "triangle-down"
         },
         "mode": "markers",
         "name": "Dead Cross",
         "type": "scatter",
         "x": [
          "2023-09-25T00:00:00+09:00",
          "2023-09-26T00:00:00+09:00",
          "2023-09-27T00:00:00+09:00",
          "2023-09-28T00:00:00+09:00",
          "2023-09-29T00:00:00+09:00",
          "2023-10-02T00:00:00+09:00",
          "2023-10-03T00:00:00+09:00",
          "2023-10-04T00:00:00+09:00",
          "2023-10-05T00:00:00+09:00",
          "2023-10-06T00:00:00+09:00",
          "2023-10-10T00:00:00+09:00",
          "2023-10-11T00:00:00+09:00",
          "2023-10-12T00:00:00+09:00",
          "2023-10-13T00:00:00+09:00",
          "2023-10-16T00:00:00+09:00",
          "2023-10-17T00:00:00+09:00",
          "2023-10-18T00:00:00+09:00",
          "2023-10-19T00:00:00+09:00",
          "2023-10-20T00:00:00+09:00",
          "2023-10-23T00:00:00+09:00",
          "2023-10-24T00:00:00+09:00",
          "2023-10-25T00:00:00+09:00",
          "2023-10-26T00:00:00+09:00",
          "2023-10-27T00:00:00+09:00",
          "2023-10-30T00:00:00+09:00",
          "2023-10-31T00:00:00+09:00",
          "2023-11-01T00:00:00+09:00",
          "2023-11-02T00:00:00+09:00",
          "2023-11-06T00:00:00+09:00",
          "2023-11-07T00:00:00+09:00",
          "2023-11-08T00:00:00+09:00",
          "2023-11-09T00:00:00+09:00",
          "2023-11-10T00:00:00+09:00",
          "2023-11-13T00:00:00+09:00",
          "2023-11-14T00:00:00+09:00",
          "2023-11-15T00:00:00+09:00",
          "2023-11-16T00:00:00+09:00",
          "2023-11-17T00:00:00+09:00",
          "2023-11-20T00:00:00+09:00",
          "2023-11-21T00:00:00+09:00",
          "2023-11-22T00:00:00+09:00",
          "2023-11-24T00:00:00+09:00",
          "2023-11-27T00:00:00+09:00",
          "2023-11-28T00:00:00+09:00",
          "2023-11-29T00:00:00+09:00",
          "2023-11-30T00:00:00+09:00",
          "2023-12-01T00:00:00+09:00",
          "2023-12-04T00:00:00+09:00",
          "2023-12-05T00:00:00+09:00",
          "2023-12-06T00:00:00+09:00",
          "2023-12-07T00:00:00+09:00",
          "2023-12-08T00:00:00+09:00",
          "2023-12-11T00:00:00+09:00",
          "2023-12-12T00:00:00+09:00",
          "2023-12-13T00:00:00+09:00",
          "2023-12-14T00:00:00+09:00",
          "2023-12-15T00:00:00+09:00",
          "2023-12-18T00:00:00+09:00",
          "2023-12-19T00:00:00+09:00",
          "2023-12-20T00:00:00+09:00",
          "2023-12-21T00:00:00+09:00",
          "2023-12-22T00:00:00+09:00",
          "2023-12-25T00:00:00+09:00",
          "2023-12-26T00:00:00+09:00",
          "2023-12-27T00:00:00+09:00",
          "2023-12-28T00:00:00+09:00",
          "2023-12-29T00:00:00+09:00",
          "2024-01-04T00:00:00+09:00",
          "2024-01-05T00:00:00+09:00",
          "2024-01-09T00:00:00+09:00",
          "2024-01-10T00:00:00+09:00",
          "2024-01-11T00:00:00+09:00",
          "2024-01-12T00:00:00+09:00",
          "2024-01-15T00:00:00+09:00",
          "2024-01-16T00:00:00+09:00",
          "2024-01-17T00:00:00+09:00",
          "2024-01-18T00:00:00+09:00",
          "2024-01-19T00:00:00+09:00",
          "2024-01-22T00:00:00+09:00",
          "2024-01-23T00:00:00+09:00",
          "2024-01-24T00:00:00+09:00",
          "2024-01-25T00:00:00+09:00",
          "2024-01-26T00:00:00+09:00",
          "2024-01-29T00:00:00+09:00",
          "2024-01-30T00:00:00+09:00",
          "2024-01-31T00:00:00+09:00",
          "2024-02-01T00:00:00+09:00",
          "2024-02-02T00:00:00+09:00",
          "2024-02-05T00:00:00+09:00",
          "2024-02-06T00:00:00+09:00",
          "2024-02-07T00:00:00+09:00",
          "2024-02-08T00:00:00+09:00",
          "2024-02-09T00:00:00+09:00",
          "2024-02-13T00:00:00+09:00",
          "2024-02-14T00:00:00+09:00",
          "2024-02-15T00:00:00+09:00",
          "2024-02-16T00:00:00+09:00",
          "2024-02-19T00:00:00+09:00",
          "2024-02-20T00:00:00+09:00",
          "2024-02-21T00:00:00+09:00",
          "2024-02-22T00:00:00+09:00",
          "2024-02-26T00:00:00+09:00",
          "2024-02-27T00:00:00+09:00",
          "2024-02-28T00:00:00+09:00",
          "2024-02-29T00:00:00+09:00",
          "2024-03-01T00:00:00+09:00",
          "2024-03-04T00:00:00+09:00",
          "2024-03-05T00:00:00+09:00",
          "2024-03-06T00:00:00+09:00",
          "2024-03-07T00:00:00+09:00",
          "2024-03-08T00:00:00+09:00",
          "2024-03-11T00:00:00+09:00",
          "2024-03-12T00:00:00+09:00",
          "2024-03-13T00:00:00+09:00",
          "2024-03-14T00:00:00+09:00",
          "2024-03-15T00:00:00+09:00",
          "2024-03-18T00:00:00+09:00",
          "2024-03-19T00:00:00+09:00",
          "2024-03-21T00:00:00+09:00",
          "2024-03-22T00:00:00+09:00",
          "2024-03-25T00:00:00+09:00",
          "2024-03-26T00:00:00+09:00",
          "2024-03-27T00:00:00+09:00",
          "2024-03-28T00:00:00+09:00",
          "2024-03-29T00:00:00+09:00",
          "2024-04-01T00:00:00+09:00",
          "2024-04-02T00:00:00+09:00",
          "2024-04-03T00:00:00+09:00",
          "2024-04-04T00:00:00+09:00",
          "2024-04-05T00:00:00+09:00",
          "2024-04-08T00:00:00+09:00",
          "2024-04-09T00:00:00+09:00",
          "2024-04-10T00:00:00+09:00",
          "2024-04-11T00:00:00+09:00",
          "2024-04-12T00:00:00+09:00",
          "2024-04-15T00:00:00+09:00",
          "2024-04-16T00:00:00+09:00",
          "2024-04-17T00:00:00+09:00",
          "2024-04-18T00:00:00+09:00",
          "2024-04-19T00:00:00+09:00",
          "2024-04-22T00:00:00+09:00",
          "2024-04-23T00:00:00+09:00",
          "2024-04-24T00:00:00+09:00",
          "2024-04-25T00:00:00+09:00",
          "2024-04-26T00:00:00+09:00",
          "2024-04-30T00:00:00+09:00",
          "2024-05-01T00:00:00+09:00",
          "2024-05-02T00:00:00+09:00",
          "2024-05-07T00:00:00+09:00",
          "2024-05-08T00:00:00+09:00",
          "2024-05-09T00:00:00+09:00",
          "2024-05-10T00:00:00+09:00",
          "2024-05-13T00:00:00+09:00",
          "2024-05-14T00:00:00+09:00",
          "2024-05-15T00:00:00+09:00",
          "2024-05-16T00:00:00+09:00",
          "2024-05-17T00:00:00+09:00",
          "2024-05-20T00:00:00+09:00",
          "2024-05-21T00:00:00+09:00",
          "2024-05-22T00:00:00+09:00",
          "2024-05-23T00:00:00+09:00",
          "2024-05-24T00:00:00+09:00",
          "2024-05-27T00:00:00+09:00",
          "2024-05-28T00:00:00+09:00",
          "2024-05-29T00:00:00+09:00",
          "2024-05-30T00:00:00+09:00",
          "2024-05-31T00:00:00+09:00",
          "2024-06-03T00:00:00+09:00",
          "2024-06-04T00:00:00+09:00",
          "2024-06-05T00:00:00+09:00",
          "2024-06-06T00:00:00+09:00",
          "2024-06-07T00:00:00+09:00",
          "2024-06-10T00:00:00+09:00",
          "2024-06-11T00:00:00+09:00",
          "2024-06-12T00:00:00+09:00",
          "2024-06-13T00:00:00+09:00",
          "2024-06-14T00:00:00+09:00",
          "2024-06-17T00:00:00+09:00",
          "2024-06-18T00:00:00+09:00",
          "2024-06-19T00:00:00+09:00",
          "2024-06-20T00:00:00+09:00",
          "2024-06-21T00:00:00+09:00",
          "2024-06-24T00:00:00+09:00",
          "2024-06-25T00:00:00+09:00",
          "2024-06-26T00:00:00+09:00",
          "2024-06-27T00:00:00+09:00",
          "2024-06-28T00:00:00+09:00",
          "2024-07-01T00:00:00+09:00",
          "2024-07-02T00:00:00+09:00",
          "2024-07-03T00:00:00+09:00",
          "2024-07-04T00:00:00+09:00",
          "2024-07-05T00:00:00+09:00",
          "2024-07-08T00:00:00+09:00",
          "2024-07-09T00:00:00+09:00",
          "2024-07-10T00:00:00+09:00",
          "2024-07-11T00:00:00+09:00",
          "2024-07-12T00:00:00+09:00",
          "2024-07-16T00:00:00+09:00",
          "2024-07-17T00:00:00+09:00",
          "2024-07-18T00:00:00+09:00",
          "2024-07-19T00:00:00+09:00",
          "2024-07-22T00:00:00+09:00",
          "2024-07-23T00:00:00+09:00",
          "2024-07-24T00:00:00+09:00",
          "2024-07-25T00:00:00+09:00",
          "2024-07-26T00:00:00+09:00",
          "2024-07-29T00:00:00+09:00",
          "2024-07-30T00:00:00+09:00",
          "2024-07-31T00:00:00+09:00",
          "2024-08-01T00:00:00+09:00",
          "2024-08-02T00:00:00+09:00",
          "2024-08-05T00:00:00+09:00",
          "2024-08-06T00:00:00+09:00",
          "2024-08-07T00:00:00+09:00",
          "2024-08-08T00:00:00+09:00",
          "2024-08-09T00:00:00+09:00",
          "2024-08-13T00:00:00+09:00",
          "2024-08-14T00:00:00+09:00",
          "2024-08-15T00:00:00+09:00",
          "2024-08-16T00:00:00+09:00",
          "2024-08-19T00:00:00+09:00",
          "2024-08-20T00:00:00+09:00",
          "2024-08-21T00:00:00+09:00",
          "2024-08-22T00:00:00+09:00",
          "2024-08-23T00:00:00+09:00",
          "2024-08-26T00:00:00+09:00",
          "2024-08-27T00:00:00+09:00",
          "2024-08-28T00:00:00+09:00",
          "2024-08-29T00:00:00+09:00",
          "2024-08-30T00:00:00+09:00",
          "2024-09-02T00:00:00+09:00",
          "2024-09-03T00:00:00+09:00",
          "2024-09-04T00:00:00+09:00",
          "2024-09-05T00:00:00+09:00",
          "2024-09-06T00:00:00+09:00",
          "2024-09-09T00:00:00+09:00",
          "2024-09-10T00:00:00+09:00",
          "2024-09-11T00:00:00+09:00",
          "2024-09-12T00:00:00+09:00",
          "2024-09-13T00:00:00+09:00",
          "2024-09-17T00:00:00+09:00",
          "2024-09-18T00:00:00+09:00",
          "2024-09-19T00:00:00+09:00",
          "2024-09-20T00:00:00+09:00"
         ],
         "y": [
          null,
          null,
          null,
          null,
          null,
          null,
          null,
          null,
          null,
          null,
          null,
          null,
          null,
          null,
          null,
          null,
          null,
          null,
          null,
          null,
          null,
          null,
          null,
          null,
          null,
          null,
          null,
          null,
          null,
          null,
          null,
          null,
          null,
          null,
          null,
          null,
          null,
          null,
          null,
          null,
          null,
          null,
          null,
          null,
          null,
          null,
          null,
          null,
          null,
          238.65531005859376,
          null,
          null,
          null,
          null,
          null,
          null,
          null,
          null,
          null,
          null,
          null,
          null,
          null,
          null,
          null,
          null,
          null,
          null,
          null,
          null,
          null,
          null,
          null,
          null,
          null,
          null,
          230.91855041503905,
          null,
          null,
          null,
          null,
          null,
          null,
          null,
          null,
          null,
          null,
          null,
          null,
          null,
          null,
          null,
          null,
          null,
          null,
          231.2793096923828,
          null,
          null,
          null,
          null,
          null,
          null,
          null,
          null,
          null,
          null,
          null,
          null,
          null,
          null,
          null,
          null,
          null,
          null,
          null,
          null,
          null,
          null,
          null,
          null,
          null,
          null,
          null,
          null,
          null,
          null,
          null,
          null,
          null,
          null,
          null,
          null,
          null,
          null,
          null,
          null,
          null,
          null,
          null,
          211.9865594482422,
          null,
          null,
          null,
          null,
          null,
          null,
          null,
          null,
          null,
          null,
          null,
          null,
          null,
          null,
          null,
          null,
          null,
          null,
          null,
          null,
          null,
          null,
          null,
          null,
          224.05599853515625,
          null,
          null,
          null,
          null,
          null,
          null,
          226.26399963378907,
          null,
          null,
          null,
          null,
          null,
          null,
          null,
          null,
          null,
          null,
          null,
          null,
          null,
          null,
          null,
          null,
          null,
          null,
          null,
          null,
          null,
          null,
          null,
          null,
          null,
          null,
          null,
          null,
          null,
          null,
          null,
          null,
          null,
          null,
          null,
          null,
          null,
          null,
          null,
          248.3359979248047,
          null,
          null,
          null,
          null,
          null,
          null,
          null,
          null,
          null,
          null,
          null,
          null,
          null,
          null,
          null,
          null,
          null,
          null,
          null,
          null,
          null,
          null,
          null,
          null,
          null,
          null,
          null,
          278.34,
          null,
          null,
          null,
          null
         ]
        }
       ],
       "layout": {
        "autosize": true,
        "legend": {
         "title": {
          "text": "variable"
         },
         "tracegroupgap": 0
        },
        "template": {
         "data": {
          "bar": [
           {
            "error_x": {
             "color": "#2a3f5f"
            },
            "error_y": {
             "color": "#2a3f5f"
            },
            "marker": {
             "line": {
              "color": "#E5ECF6",
              "width": 0.5
             },
             "pattern": {
              "fillmode": "overlay",
              "size": 10,
              "solidity": 0.2
             }
            },
            "type": "bar"
           }
          ],
          "barpolar": [
           {
            "marker": {
             "line": {
              "color": "#E5ECF6",
              "width": 0.5
             },
             "pattern": {
              "fillmode": "overlay",
              "size": 10,
              "solidity": 0.2
             }
            },
            "type": "barpolar"
           }
          ],
          "carpet": [
           {
            "aaxis": {
             "endlinecolor": "#2a3f5f",
             "gridcolor": "white",
             "linecolor": "white",
             "minorgridcolor": "white",
             "startlinecolor": "#2a3f5f"
            },
            "baxis": {
             "endlinecolor": "#2a3f5f",
             "gridcolor": "white",
             "linecolor": "white",
             "minorgridcolor": "white",
             "startlinecolor": "#2a3f5f"
            },
            "type": "carpet"
           }
          ],
          "choropleth": [
           {
            "colorbar": {
             "outlinewidth": 0,
             "ticks": ""
            },
            "type": "choropleth"
           }
          ],
          "contour": [
           {
            "colorbar": {
             "outlinewidth": 0,
             "ticks": ""
            },
            "colorscale": [
             [
              0,
              "#0d0887"
             ],
             [
              0.1111111111111111,
              "#46039f"
             ],
             [
              0.2222222222222222,
              "#7201a8"
             ],
             [
              0.3333333333333333,
              "#9c179e"
             ],
             [
              0.4444444444444444,
              "#bd3786"
             ],
             [
              0.5555555555555556,
              "#d8576b"
             ],
             [
              0.6666666666666666,
              "#ed7953"
             ],
             [
              0.7777777777777778,
              "#fb9f3a"
             ],
             [
              0.8888888888888888,
              "#fdca26"
             ],
             [
              1,
              "#f0f921"
             ]
            ],
            "type": "contour"
           }
          ],
          "contourcarpet": [
           {
            "colorbar": {
             "outlinewidth": 0,
             "ticks": ""
            },
            "type": "contourcarpet"
           }
          ],
          "heatmap": [
           {
            "colorbar": {
             "outlinewidth": 0,
             "ticks": ""
            },
            "colorscale": [
             [
              0,
              "#0d0887"
             ],
             [
              0.1111111111111111,
              "#46039f"
             ],
             [
              0.2222222222222222,
              "#7201a8"
             ],
             [
              0.3333333333333333,
              "#9c179e"
             ],
             [
              0.4444444444444444,
              "#bd3786"
             ],
             [
              0.5555555555555556,
              "#d8576b"
             ],
             [
              0.6666666666666666,
              "#ed7953"
             ],
             [
              0.7777777777777778,
              "#fb9f3a"
             ],
             [
              0.8888888888888888,
              "#fdca26"
             ],
             [
              1,
              "#f0f921"
             ]
            ],
            "type": "heatmap"
           }
          ],
          "heatmapgl": [
           {
            "colorbar": {
             "outlinewidth": 0,
             "ticks": ""
            },
            "colorscale": [
             [
              0,
              "#0d0887"
             ],
             [
              0.1111111111111111,
              "#46039f"
             ],
             [
              0.2222222222222222,
              "#7201a8"
             ],
             [
              0.3333333333333333,
              "#9c179e"
             ],
             [
              0.4444444444444444,
              "#bd3786"
             ],
             [
              0.5555555555555556,
              "#d8576b"
             ],
             [
              0.6666666666666666,
              "#ed7953"
             ],
             [
              0.7777777777777778,
              "#fb9f3a"
             ],
             [
              0.8888888888888888,
              "#fdca26"
             ],
             [
              1,
              "#f0f921"
             ]
            ],
            "type": "heatmapgl"
           }
          ],
          "histogram": [
           {
            "marker": {
             "pattern": {
              "fillmode": "overlay",
              "size": 10,
              "solidity": 0.2
             }
            },
            "type": "histogram"
           }
          ],
          "histogram2d": [
           {
            "colorbar": {
             "outlinewidth": 0,
             "ticks": ""
            },
            "colorscale": [
             [
              0,
              "#0d0887"
             ],
             [
              0.1111111111111111,
              "#46039f"
             ],
             [
              0.2222222222222222,
              "#7201a8"
             ],
             [
              0.3333333333333333,
              "#9c179e"
             ],
             [
              0.4444444444444444,
              "#bd3786"
             ],
             [
              0.5555555555555556,
              "#d8576b"
             ],
             [
              0.6666666666666666,
              "#ed7953"
             ],
             [
              0.7777777777777778,
              "#fb9f3a"
             ],
             [
              0.8888888888888888,
              "#fdca26"
             ],
             [
              1,
              "#f0f921"
             ]
            ],
            "type": "histogram2d"
           }
          ],
          "histogram2dcontour": [
           {
            "colorbar": {
             "outlinewidth": 0,
             "ticks": ""
            },
            "colorscale": [
             [
              0,
              "#0d0887"
             ],
             [
              0.1111111111111111,
              "#46039f"
             ],
             [
              0.2222222222222222,
              "#7201a8"
             ],
             [
              0.3333333333333333,
              "#9c179e"
             ],
             [
              0.4444444444444444,
              "#bd3786"
             ],
             [
              0.5555555555555556,
              "#d8576b"
             ],
             [
              0.6666666666666666,
              "#ed7953"
             ],
             [
              0.7777777777777778,
              "#fb9f3a"
             ],
             [
              0.8888888888888888,
              "#fdca26"
             ],
             [
              1,
              "#f0f921"
             ]
            ],
            "type": "histogram2dcontour"
           }
          ],
          "mesh3d": [
           {
            "colorbar": {
             "outlinewidth": 0,
             "ticks": ""
            },
            "type": "mesh3d"
           }
          ],
          "parcoords": [
           {
            "line": {
             "colorbar": {
              "outlinewidth": 0,
              "ticks": ""
             }
            },
            "type": "parcoords"
           }
          ],
          "pie": [
           {
            "automargin": true,
            "type": "pie"
           }
          ],
          "scatter": [
           {
            "fillpattern": {
             "fillmode": "overlay",
             "size": 10,
             "solidity": 0.2
            },
            "type": "scatter"
           }
          ],
          "scatter3d": [
           {
            "line": {
             "colorbar": {
              "outlinewidth": 0,
              "ticks": ""
             }
            },
            "marker": {
             "colorbar": {
              "outlinewidth": 0,
              "ticks": ""
             }
            },
            "type": "scatter3d"
           }
          ],
          "scattercarpet": [
           {
            "marker": {
             "colorbar": {
              "outlinewidth": 0,
              "ticks": ""
             }
            },
            "type": "scattercarpet"
           }
          ],
          "scattergeo": [
           {
            "marker": {
             "colorbar": {
              "outlinewidth": 0,
              "ticks": ""
             }
            },
            "type": "scattergeo"
           }
          ],
          "scattergl": [
           {
            "marker": {
             "colorbar": {
              "outlinewidth": 0,
              "ticks": ""
             }
            },
            "type": "scattergl"
           }
          ],
          "scattermapbox": [
           {
            "marker": {
             "colorbar": {
              "outlinewidth": 0,
              "ticks": ""
             }
            },
            "type": "scattermapbox"
           }
          ],
          "scatterpolar": [
           {
            "marker": {
             "colorbar": {
              "outlinewidth": 0,
              "ticks": ""
             }
            },
            "type": "scatterpolar"
           }
          ],
          "scatterpolargl": [
           {
            "marker": {
             "colorbar": {
              "outlinewidth": 0,
              "ticks": ""
             }
            },
            "type": "scatterpolargl"
           }
          ],
          "scatterternary": [
           {
            "marker": {
             "colorbar": {
              "outlinewidth": 0,
              "ticks": ""
             }
            },
            "type": "scatterternary"
           }
          ],
          "surface": [
           {
            "colorbar": {
             "outlinewidth": 0,
             "ticks": ""
            },
            "colorscale": [
             [
              0,
              "#0d0887"
             ],
             [
              0.1111111111111111,
              "#46039f"
             ],
             [
              0.2222222222222222,
              "#7201a8"
             ],
             [
              0.3333333333333333,
              "#9c179e"
             ],
             [
              0.4444444444444444,
              "#bd3786"
             ],
             [
              0.5555555555555556,
              "#d8576b"
             ],
             [
              0.6666666666666666,
              "#ed7953"
             ],
             [
              0.7777777777777778,
              "#fb9f3a"
             ],
             [
              0.8888888888888888,
              "#fdca26"
             ],
             [
              1,
              "#f0f921"
             ]
            ],
            "type": "surface"
           }
          ],
          "table": [
           {
            "cells": {
             "fill": {
              "color": "#EBF0F8"
             },
             "line": {
              "color": "white"
             }
            },
            "header": {
             "fill": {
              "color": "#C8D4E3"
             },
             "line": {
              "color": "white"
             }
            },
            "type": "table"
           }
          ]
         },
         "layout": {
          "annotationdefaults": {
           "arrowcolor": "#2a3f5f",
           "arrowhead": 0,
           "arrowwidth": 1
          },
          "autotypenumbers": "strict",
          "coloraxis": {
           "colorbar": {
            "outlinewidth": 0,
            "ticks": ""
           }
          },
          "colorscale": {
           "diverging": [
            [
             0,
             "#8e0152"
            ],
            [
             0.1,
             "#c51b7d"
            ],
            [
             0.2,
             "#de77ae"
            ],
            [
             0.3,
             "#f1b6da"
            ],
            [
             0.4,
             "#fde0ef"
            ],
            [
             0.5,
             "#f7f7f7"
            ],
            [
             0.6,
             "#e6f5d0"
            ],
            [
             0.7,
             "#b8e186"
            ],
            [
             0.8,
             "#7fbc41"
            ],
            [
             0.9,
             "#4d9221"
            ],
            [
             1,
             "#276419"
            ]
           ],
           "sequential": [
            [
             0,
             "#0d0887"
            ],
            [
             0.1111111111111111,
             "#46039f"
            ],
            [
             0.2222222222222222,
             "#7201a8"
            ],
            [
             0.3333333333333333,
             "#9c179e"
            ],
            [
             0.4444444444444444,
             "#bd3786"
            ],
            [
             0.5555555555555556,
             "#d8576b"
            ],
            [
             0.6666666666666666,
             "#ed7953"
            ],
            [
             0.7777777777777778,
             "#fb9f3a"
            ],
            [
             0.8888888888888888,
             "#fdca26"
            ],
            [
             1,
             "#f0f921"
            ]
           ],
           "sequentialminus": [
            [
             0,
             "#0d0887"
            ],
            [
             0.1111111111111111,
             "#46039f"
            ],
            [
             0.2222222222222222,
             "#7201a8"
            ],
            [
             0.3333333333333333,
             "#9c179e"
            ],
            [
             0.4444444444444444,
             "#bd3786"
            ],
            [
             0.5555555555555556,
             "#d8576b"
            ],
            [
             0.6666666666666666,
             "#ed7953"
            ],
            [
             0.7777777777777778,
             "#fb9f3a"
            ],
            [
             0.8888888888888888,
             "#fdca26"
            ],
            [
             1,
             "#f0f921"
            ]
           ]
          },
          "colorway": [
           "#636efa",
           "#EF553B",
           "#00cc96",
           "#ab63fa",
           "#FFA15A",
           "#19d3f3",
           "#FF6692",
           "#B6E880",
           "#FF97FF",
           "#FECB52"
          ],
          "font": {
           "color": "#2a3f5f"
          },
          "geo": {
           "bgcolor": "white",
           "lakecolor": "white",
           "landcolor": "#E5ECF6",
           "showlakes": true,
           "showland": true,
           "subunitcolor": "white"
          },
          "hoverlabel": {
           "align": "left"
          },
          "hovermode": "closest",
          "mapbox": {
           "style": "light"
          },
          "paper_bgcolor": "white",
          "plot_bgcolor": "#E5ECF6",
          "polar": {
           "angularaxis": {
            "gridcolor": "white",
            "linecolor": "white",
            "ticks": ""
           },
           "bgcolor": "#E5ECF6",
           "radialaxis": {
            "gridcolor": "white",
            "linecolor": "white",
            "ticks": ""
           }
          },
          "scene": {
           "xaxis": {
            "backgroundcolor": "#E5ECF6",
            "gridcolor": "white",
            "gridwidth": 2,
            "linecolor": "white",
            "showbackground": true,
            "ticks": "",
            "zerolinecolor": "white"
           },
           "yaxis": {
            "backgroundcolor": "#E5ECF6",
            "gridcolor": "white",
            "gridwidth": 2,
            "linecolor": "white",
            "showbackground": true,
            "ticks": "",
            "zerolinecolor": "white"
           },
           "zaxis": {
            "backgroundcolor": "#E5ECF6",
            "gridcolor": "white",
            "gridwidth": 2,
            "linecolor": "white",
            "showbackground": true,
            "ticks": "",
            "zerolinecolor": "white"
           }
          },
          "shapedefaults": {
           "line": {
            "color": "#2a3f5f"
           }
          },
          "ternary": {
           "aaxis": {
            "gridcolor": "white",
            "linecolor": "white",
            "ticks": ""
           },
           "baxis": {
            "gridcolor": "white",
            "linecolor": "white",
            "ticks": ""
           },
           "bgcolor": "#E5ECF6",
           "caxis": {
            "gridcolor": "white",
            "linecolor": "white",
            "ticks": ""
           }
          },
          "title": {
           "x": 0.05
          },
          "xaxis": {
           "automargin": true,
           "gridcolor": "white",
           "linecolor": "white",
           "ticks": "",
           "title": {
            "standoff": 15
           },
           "zerolinecolor": "white",
           "zerolinewidth": 2
          },
          "yaxis": {
           "automargin": true,
           "gridcolor": "white",
           "linecolor": "white",
           "ticks": "",
           "title": {
            "standoff": 15
           },
           "zerolinecolor": "white",
           "zerolinewidth": 2
          }
         }
        },
        "title": {
         "text": "Persol Holdings Co.,Ltd. Close Price"
        },
        "xaxis": {
         "anchor": "y",
         "domain": [
          0,
          1
         ],
         "range": [
          "2023-09-25T00:00:00+09:00",
          "2024-09-20T00:00:00+09:00"
         ],
         "rangeselector": {
          "buttons": [
           {
            "count": 1,
            "label": "1m",
            "step": "month",
            "stepmode": "backward"
           },
           {
            "count": 6,
            "label": "6m",
            "step": "month",
            "stepmode": "backward"
           },
           {
            "count": 12,
            "label": "12m",
            "step": "month",
            "stepmode": "backward"
           },
           {
            "count": 1,
            "label": "YTD",
            "step": "year",
            "stepmode": "todate"
           },
           {
            "count": 1,
            "label": "1y",
            "step": "year",
            "stepmode": "backward"
           },
           {
            "step": "all"
           }
          ]
         },
         "rangeslider": {
          "visible": true
         },
         "title": {
          "text": "Date"
         }
        },
        "yaxis": {
         "anchor": "x",
         "domain": [
          0,
          1
         ],
         "title": {
          "text": "value"
         }
        }
       }
      }
     },
     "metadata": {},
     "output_type": "display_data"
    }
   ],
   "source": [
    "fig = px.line(df, x=df.index, y=[\"Close\", \"ma05\", \"ma25\"], title=f\"{company_name} Close Price\")\n",
    "fig.add_scatter(x=df.index, y=df[\"gc\"], mode=\"markers\", name=\"Golden Cross\", marker=dict(color=\"green\", size=15, opacity=0.8), marker_symbol=\"triangle-up\")\n",
    "fig.add_scatter(x=df.index, y=df[\"dc\"], mode=\"markers\", name=\"Dead Cross\", marker=dict(color=\"red\", size=15, opacity=0.8), marker_symbol=\"triangle-down\")\n",
    "\n",
    "# --------------------------------\n",
    "fig.update_layout(\n",
    "    xaxis=dict(range=[df.index[0], df.index[-1]]),\n",
    "    autosize=True,\n",
    ")\n",
    "\n",
    "fig.update_xaxes(\n",
    "    rangeslider_visible=True,\n",
    "    rangeselector=dict(\n",
    "        buttons=list(\n",
    "            [\n",
    "                dict(count=1, label=\"1m\", step=\"month\", stepmode=\"backward\"),\n",
    "                dict(count=6, label=\"6m\", step=\"month\", stepmode=\"backward\"),\n",
    "                dict(count=12, label=\"12m\", step=\"month\", stepmode=\"backward\"),\n",
    "                dict(count=1, label=\"YTD\", step=\"year\", stepmode=\"todate\"),\n",
    "                dict(count=1, label=\"1y\", step=\"year\", stepmode=\"backward\"),\n",
    "                dict(step=\"all\"),\n",
    "            ]\n",
    "        )\n",
    "    ),\n",
    ")\n",
    "\n",
    "fig.show()\n",
    "\n",
    "# save png\n",
    "with open(\"stock_chart2.png\", \"wb\") as f:\n",
    "    fig.write_image(f)"
   ]
  },
  {
   "cell_type": "markdown",
   "metadata": {},
   "source": [
    "![stock_chart2](./stock_chart2.png)\n"
   ]
  },
  {
   "cell_type": "code",
   "execution_count": null,
   "metadata": {},
   "outputs": [],
   "source": []
  }
 ],
 "metadata": {
  "kernelspec": {
   "display_name": "Python 3",
   "language": "python",
   "name": "python3"
  },
  "language_info": {
   "codemirror_mode": {
    "name": "ipython",
    "version": 3
   },
   "file_extension": ".py",
   "mimetype": "text/x-python",
   "name": "python",
   "nbconvert_exporter": "python",
   "pygments_lexer": "ipython3",
   "version": "3.12.2"
  }
 },
 "nbformat": 4,
 "nbformat_minor": 2
}
